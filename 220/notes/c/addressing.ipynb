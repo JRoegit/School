{
 "cells": [
  {
   "cell_type": "markdown",
   "id": "2392b6ba",
   "metadata": {},
   "source": [
    "# Some computer memory basics\n",
    "\n",
    "## Bit addressing\n",
    "\n",
    "A *bit* or *binary digit* is the fundamental unit of information in digital computers. The value of a bit can be\n",
    "one of two possible states. The two possible states are often given the integer values `0` and `1`.\n",
    "\n",
    "Perhaps the simplest model of computer memory is to view memory as an array of bits. Each bit can be read or\n",
    "written to using a zero-based array index or *address*. The following table illustrates $n$ \n",
    "bits of memory all set to `0`:\n",
    "\n",
    "| address (index) | bit |\n",
    "| :----: | :----: |\n",
    "| 0 | 0 |\n",
    "| 1 | 0 |\n",
    "| 2 | 0 |\n",
    "| 3 | 0 |\n",
    "| ... | ... |\n",
    "| n-1 | 0 |\n",
    "\n",
    "A computer architecture that supports access to each bit of memory is called *bit addressable*. Processors\n",
    "for embedded computing may support bit addressing, but modern general purpose processors are not bit\n",
    "addressable.\n",
    "\n",
    "## Word addressing\n",
    "\n",
    "Although the bit is the fundamental unit of information in digital computers, general purpose processors\n",
    "do not typically operate on single bits of data. For example, text-based tasks involve operating on\n",
    "characters and numeric tasks involve operating on integer or floating-point values.\n",
    "\n",
    "Processors are designed to work with information of a fixed length number of bits called a *word*. The number\n",
    "of bits in a word is called the *word length*. When someone uses a phrase such as \"64-bit processor\" they are\n",
    "often referrring to a processor having a 64-bit word length. Modern desktop and mobile processors have word\n",
    "lengths of 64 bits.\n",
    "\n",
    "A computer architecture that supports access to each word of memory is called *word addressable*. Consider\n",
    "a word addressable processor having 6-bit words; each memory address maps to a non-overlapping group\n",
    "of 6 bits. The following table illustrates $n$ \n",
    "words of memory where each word has all of bits set to `0`:\n",
    "\n",
    "| address (index) | word |\n",
    "| :----: | :----: |\n",
    "| 0 | 000000 |\n",
    "| 1 | 000000 |\n",
    "| 2 | 000000 |\n",
    "| 3 | 000000 |\n",
    "| ... | ... |\n",
    "| n-1 | 000000 |\n",
    "\n",
    "Word addressing was used in historical processor designs, but modern general purpose processors use\n",
    "a different addressing scheme.\n",
    "\n",
    "## Byte addressing\n",
    "\n",
    "Modern general purpose processors are byte addressable.\n",
    "\n",
    "In byte addressing, each non-overlapping group of 8 bits (a *byte*) is assigned a unique address. The following table illustrates $n$ bytes of memory where each byte has all of bits set to `0`:\n",
    "\n",
    "| address (index) | byte |\n",
    "| :----: | :----: |\n",
    "| 0 | 00000000 |\n",
    "| 1 | 00000000 |\n",
    "| 2 | 00000000 |\n",
    "| 3 | 00000000 |\n",
    "| ... | ... |\n",
    "| n-1 | 00000000 |\n",
    "\n",
    "\n",
    "<div class=\"alert alert-block alert-info\">\n",
    "    Historically, a byte was defined as the number of bits used to encode a single character for a given\n",
    "    processor architecture. A byte size of 6 bits was common on early computers, but many different sizes\n",
    "    have been used. The modern convention for the size of a byte is 8 bits.\n",
    "</div>\n",
    "\n",
    "## Units of memory in C\n",
    "\n",
    "C defines a byte to be an \"addressable unit of data storage large enough to hold any member of the basic\n",
    "character set of the execution environment\". Furthermore, the size of a single `char`, `unsigned char`,\n",
    "or `signed char` must be equal to 1 byte. The number of bits in a byte for a given architecture is\n",
    "defined in the header `<limits.h>` as the constant `CHAR_BIT`:"
   ]
  },
  {
   "cell_type": "code",
   "execution_count": 2,
   "id": "50d5bb8c",
   "metadata": {},
   "outputs": [
    {
     "name": "stdout",
     "output_type": "stream",
     "text": [
      "1 byte = 8 bits\n"
     ]
    }
   ],
   "source": [
    "#include <limits.h>\n",
    "#include <stdio.h>\n",
    "\n",
    "int main(void) {\n",
    "    size_t bits = CHAR_BIT;\n",
    "    printf(\"1 byte = %lu bits\\n\", bits);\n",
    "    \n",
    "    return 0;\n",
    "}"
   ]
  },
  {
   "cell_type": "markdown",
   "id": "31ad712b",
   "metadata": {},
   "source": [
    "C requires that a byte have at least 8 bits, but the exact number of bits is not specified."
   ]
  },
  {
   "cell_type": "code",
   "execution_count": null,
   "id": "e885bcc3",
   "metadata": {},
   "outputs": [],
   "source": []
  }
 ],
 "metadata": {
  "kernelspec": {
   "display_name": "C",
   "language": "c",
   "name": "c"
  },
  "language_info": {
   "file_extension": ".c",
   "mimetype": "text/x-csrc",
   "name": "text/x-csrc"
  }
 },
 "nbformat": 4,
 "nbformat_minor": 5
}
