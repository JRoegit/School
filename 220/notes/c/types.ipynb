{
 "cells": [
  {
   "cell_type": "markdown",
   "id": "6931822b",
   "metadata": {},
   "source": [
    "# Types\n",
    "\n",
    "<div class=\"alert alert-block alert-info\">\n",
    "    You can find all of the C programs in this notebook in the subdirectory containing this notebook:\n",
    "    <code>./src/types</code>\n",
    "</div>\n",
    "\n",
    "This notebook provides a quick overview of some of the main types in C. More detailed information about\n",
    "particular types can be found in other notebooks.\n",
    "\n",
    "As in Java, all variables in C have a type. The type of a variable determines what values the variable\n",
    "can store and what operations can be performed using the variable.\n",
    "\n",
    "Creating a new variable is performed by *declaring* the variable. In its simplest form, a variable\n",
    "declaration has the form\n",
    "\n",
    "*type* *name*\n",
    "\n",
    "where *type* is the variable type and *name* is the variable name (more formally called an identifier).\n",
    "An identifier is made up of an arbitrary length sequence of lowercase and uppercase Latin letters, digits,\n",
    "and underscores (and Unicode characters since C99) that begins with a non-digit character. For example,\n",
    "\n",
    "```c\n",
    "int x;\n",
    "```\n",
    "\n",
    "declares a variable of type `int` named `x`. If `x` is a variable declared inside of a C function,\n",
    "then it has a value, but its value is indeterminate (could be any value).\n",
    "\n",
    "A variable may be given a value at its point of declaration; doing so is called *initialization*. For\n",
    "example,\n",
    "\n",
    "```c\n",
    "int y = 1;\n",
    "```\n",
    "\n",
    "declares a variable of type `int` named `y` and initializes its value to `1`.\n",
    "\n",
    "Giving a previously declared variable a new value is called *assignment*. For example,\n",
    "\n",
    "```c\n",
    "int z = 0;\n",
    "z = 100;\n",
    "```\n",
    "\n",
    "assigns the value `100` to the previously declared variable `z`.\n",
    "\n",
    "Note that initialization and assignment are two different operations. All variables may be initialized,\n",
    "but not all variables are assignable."
   ]
  },
  {
   "cell_type": "markdown",
   "id": "96dd3124",
   "metadata": {},
   "source": [
    "## The integer types\n",
    "\n",
    "The following table lists the integer types and their minimum width in bits:\n",
    "\n",
    "| Recommended name | Width in bits |\n",
    "| :--- | :--- |\n",
    "| `bool` (requires `<stdbool.h>`) | at least 8 |\n",
    "| `signed char` | at least 8 |\n",
    "| `unsigned char` | at least 8 |\n",
    "| `char` | at least 8 |\n",
    "| `short int` | at least 16 |\n",
    "| `unsigned short int` | at least 16 |\n",
    "| `int` | at least 16 |\n",
    "| `unsigned int` | at least 16 |\n",
    "| `long int` | at least 32 |\n",
    "| `unsigned long int` | at least 32 |\n",
    "| `long long int` | at least 64 |\n",
    "| `unsigned long long int` | at least 64 |\n",
    "\n",
    "Notice that the exact size of the integer types is not specified by the C standard. The standard states that\n",
    "the size of a `char` is equal to the smallest addressable unit of the machine, which is usually 8 bits.\n",
    "The smallest addressable unit of the machine is called a *byte*.\n",
    "\n",
    "The sizes of all other types (including non-integer types) is measured in integer multiples of the size\n",
    "of a `char`. The `sizeof` operator returns the size of an object or type:"
   ]
  },
  {
   "cell_type": "code",
   "execution_count": null,
   "id": "4888f9d9",
   "metadata": {},
   "outputs": [],
   "source": [
    "// sizeof.c\n",
    "\n",
    "#include <stdio.h>\n",
    "#include <stdbool.h>\n",
    "\n",
    "int main(void) {\n",
    "    printf(\"char      : %ld\\n\", sizeof(char));\n",
    "    printf(\"bool      : %ld\\n\", sizeof(bool));\n",
    "    printf(\"short int : %ld\\n\", sizeof(short int));\n",
    "    printf(\"int       : %ld\\n\", sizeof(int));\n",
    "    printf(\"long int  : %ld\\n\", sizeof(long int));\n",
    "    printf(\"float     : %ld\\n\", sizeof(float));\n",
    "    printf(\"double    : %ld\\n\", sizeof(double));\n",
    "    printf(\"char *    : %ld\\n\", sizeof(char *));\n",
    "    printf(\"double *  : %ld\\n\", sizeof(double *));\n",
    "    return 0;\n",
    "}"
   ]
  },
  {
   "cell_type": "markdown",
   "id": "f1803556",
   "metadata": {},
   "source": [
    "`sizeof` returns an unsigned integer value of type `size_t`. The type `size_t` is defined in the header\n",
    "file `<stddef.h>` (and also becomes available by including `<stdlib.h>`). `size_t` can store the maximum \n",
    "size of a theoretically possible object of any type; this implies that a variable of type `size_t`\n",
    "can store the largest theoretically usable array index. On the author's computer, the actual type\n",
    "of `size_t` is `unsigned long int`."
   ]
  },
  {
   "cell_type": "markdown",
   "id": "3db7b47a",
   "metadata": {},
   "source": [
    "#### `bool`\n",
    "\n",
    "C99 introduced the Boolean type `_Bool` that stores only the value `0` or `1` (false and true).\n",
    "Assigning any non-zero value to a `_Bool` causes the value to become `1`. \n",
    "If you include the header `<stdbool.h>` then you can use the type name `bool` and the values `false` and `true`. "
   ]
  },
  {
   "cell_type": "code",
   "execution_count": null,
   "id": "68c3e4e2",
   "metadata": {},
   "outputs": [],
   "source": [
    "// boo.c\n",
    "\n",
    "#include <stdbool.h>\n",
    "#include <stdio.h>\n",
    "\n",
    "int main(void) {\n",
    "    bool flag = true;          // or any non-zero value\n",
    "    if (flag) {\n",
    "        puts(\"true\");\n",
    "    }\n",
    "    else {\n",
    "        puts(\"false\");\n",
    "    }\n",
    "    return 0;\n",
    "}"
   ]
  },
  {
   "cell_type": "markdown",
   "id": "e292c526",
   "metadata": {},
   "source": [
    "The `printf` function has no conversion for Boolean values. You can use any of the integer conversions\n",
    "`%d`, `%i`, or `%u`:"
   ]
  },
  {
   "cell_type": "code",
   "execution_count": null,
   "id": "b473b150",
   "metadata": {},
   "outputs": [],
   "source": [
    "// print_boo.c\n",
    "\n",
    "#include <stdbool.h>\n",
    "#include <stdio.h>\n",
    "\n",
    "int main(void) {\n",
    "    bool flag = false;\n",
    "    printf(\"%u\\n\", flag);\n",
    "    return 0;\n",
    "}"
   ]
  },
  {
   "cell_type": "markdown",
   "id": "38dedcec",
   "metadata": {},
   "source": [
    "Alternatively, you can convert the Boolean value to a string and then print the string:"
   ]
  },
  {
   "cell_type": "code",
   "execution_count": null,
   "id": "de0a0f9d",
   "metadata": {},
   "outputs": [],
   "source": [
    "// print_boo2.c\n",
    "\n",
    "#include <stdbool.h>\n",
    "#include <stdio.h>\n",
    "\n",
    "int main(void) {\n",
    "    bool flag = false;\n",
    "    printf(\"%s\\n\", flag ? \"true\" : \"false\");\n",
    "    return 0;\n",
    "}"
   ]
  },
  {
   "cell_type": "markdown",
   "id": "df108915",
   "metadata": {},
   "source": [
    "#### `char`\n",
    "\n",
    "As in Java, `char` is usually used to represent character data. A `char` literal is any single character\n",
    "inside of single quotes. The `printf` conversion `%c` will print a single `char`:"
   ]
  },
  {
   "cell_type": "code",
   "execution_count": null,
   "id": "c3d0cfab",
   "metadata": {},
   "outputs": [],
   "source": [
    "// char.c \n",
    "\n",
    "#include <stdio.h>\n",
    "\n",
    "int main(void) {\n",
    "    char c = 'x';\n",
    "    printf(\"%c\\n\", c);\n",
    "    return 0;\n",
    "}"
   ]
  },
  {
   "cell_type": "markdown",
   "id": "aa0d1dcf",
   "metadata": {},
   "source": [
    "A `char` literal may also be an escape sequence (similar to Java). A table of most of the escape sequences\n",
    "is shown below:\n",
    "\n",
    "| Escape sequence | Description |\n",
    "| :--- | :--- |\n",
    "| `\\'` | single quote |\n",
    "| `\\\"` | double quote |\n",
    "| `\\?` | question mark (needed to suppress trigraphs) |\n",
    "| `\\\\` | backslash |\n",
    "| `\\a` | audible bell |\n",
    "| `\\b` | backspace |\n",
    "| `\\f` | form feed - new page |\n",
    "| `\\n` | line feed - new line |\n",
    "| `\\r` | carriage return |\n",
    "| `\\t` | horizontal tab |\n",
    "| `\\v` | vertical tab |"
   ]
  },
  {
   "cell_type": "markdown",
   "id": "c6ae3d52",
   "metadata": {},
   "source": [
    "#### The various `int` types\n",
    "\n",
    "Unlike Java, the various integer types come in both signed and unsigned varieties. Unsigned integers are\n",
    "always non-negative.\n",
    "\n",
    "Also unlike Java, the precise number of bits in an integer type is not specified by the C standard. For\n",
    "example, in Java, an `int` is always a 32-bit twos-complement value, but the C standard simply states that\n",
    "an `int` must have at least 16 bits (and may not be a twos-complement value, but this is set to change\n",
    "in a future version of the standard).\n",
    "\n",
    "Otherwise, the integer types behave similarly to their Java counterparts. In particular, integers in\n",
    "C are subject to overflow.\n",
    "\n",
    "The `printf` conversions `%d` or `%i` will print an `int` value. An additional *length modifier* character\n",
    "should be used when printing a signed integer that is not `int`:\n",
    "\n",
    "| To print a ... | Conversion |\n",
    "| :--- | :--- |\n",
    "| `short int` | `%hi` |\n",
    "| `long int` | `%li` |\n",
    "| `long long int` | `%lli` |"
   ]
  },
  {
   "cell_type": "code",
   "execution_count": 25,
   "id": "837d57a9",
   "metadata": {},
   "outputs": [
    {
     "name": "stdout",
     "output_type": "stream",
     "text": [
      "97\n",
      "1\n",
      "2\n",
      "3\n",
      "4000000000000000000\n"
     ]
    }
   ],
   "source": [
    "// signed_ints.c \n",
    "\n",
    "#include <stdio.h>\n",
    "\n",
    "int main(void) {\n",
    "    char c = 'a';\n",
    "    short int s = 1;\n",
    "    int i = 2;\n",
    "    long int l = 3;\n",
    "    long long int ll = 4000000000000000000;\n",
    "    \n",
    "    printf(\"%d\\n\", c);\n",
    "    printf(\"%hd\\n\", s);\n",
    "    printf(\"%d\\n\", i);\n",
    "    printf(\"%ld\\n\", l);\n",
    "    printf(\"%lld\\n\", ll);\n",
    "    \n",
    "    return 0;\n",
    "}"
   ]
  },
  {
   "cell_type": "markdown",
   "id": "48165837",
   "metadata": {},
   "source": [
    "Notice that printing a `char` using the conversion `%d` will print the numeric value of the character\n",
    "instead of printing a character literal."
   ]
  },
  {
   "cell_type": "markdown",
   "id": "c5b84576",
   "metadata": {},
   "source": [
    "#### enum types\n",
    "\n",
    "C has integer enumerations that allow a programmer to assign names to integer values for representing a set of constant values. C enumerations have no type safety, unlike Java enumerations."
   ]
  },
  {
   "cell_type": "code",
   "execution_count": null,
   "id": "8eeda9b7",
   "metadata": {},
   "outputs": [],
   "source": [
    "// enum.c\n",
    "\n",
    "#include <stdio.h>\n",
    "\n",
    "int main(void) {\n",
    "    enum day { sun, mon, tue, wed, thu, fri, sat};\n",
    "    enum compass { north = 0, east = 90,\n",
    "                   south = 180, west = 270 };\n",
    "    enum month { jan = 1, feb, mar, apr,\n",
    "                 may, jun, jul, aug,\n",
    "                sep, oct, nov, dec};\n",
    "\n",
    "    enum day d = 10;\n",
    "    enum compass dir = south;\n",
    "    enum month m = oct;\n",
    "\n",
    "    printf(\"d   : %d\\n\", d);\n",
    "    printf(\"dir : %d\\n\", dir);\n",
    "    printf(\"m   : %d\\n\", m);\n",
    "\n",
    "    return 0;\n",
    "}"
   ]
  },
  {
   "cell_type": "markdown",
   "id": "d006d9c4",
   "metadata": {},
   "source": [
    "## Floating-point types\n",
    "\n",
    "The floating-point types are `float`, `double`, and `long double`. The first two types are identical\n",
    "to their corresponding types in Java on most computers, and follow the IEEE-754 standard for 32-bit and\n",
    "64-bit binary floating-point numbers. The type `long double` follows the IEEE-754 standard for 128-bit\n",
    "binary floating-point numbers if such values are supported by the computing platform.\n",
    "\n",
    "The `printf` conversion `%f` will print a `float` or `double` value as a decimal value, `%e` will\n",
    "print using scientific notation, and `%g` will print using a conversion similar to `%f` or `%e`\n",
    "depending on the magnitude of the value:"
   ]
  },
  {
   "cell_type": "code",
   "execution_count": 13,
   "id": "772d6155",
   "metadata": {},
   "outputs": [
    {
     "name": "stdout",
     "output_type": "stream",
     "text": [
      "3.141593\n",
      "3.141593e+00\n",
      "3.14159\n"
     ]
    }
   ],
   "source": [
    "// float.c \n",
    "\n",
    "#include <stdio.h>\n",
    "\n",
    "int main(void) {\n",
    "    double pi = 3.14159265358979323846;\n",
    "    printf(\"%f\\n\", pi);\n",
    "    printf(\"%e\\n\", pi);\n",
    "    printf(\"%g\\n\", pi);\n",
    "    \n",
    "    return 0;\n",
    "}"
   ]
  },
  {
   "cell_type": "markdown",
   "id": "a96f3261",
   "metadata": {},
   "source": [
    "Notice that only six digits after the decimal place are printed when using `%f` and `%e`, and a total of\n",
    "six digits are printed when using `%g`. The number of digits after the decimal place (called the \n",
    "*precision*) can be specified using `.n` where `n` is the desired precision:"
   ]
  },
  {
   "cell_type": "code",
   "execution_count": 15,
   "id": "38d8a5a3",
   "metadata": {},
   "outputs": [
    {
     "name": "stdout",
     "output_type": "stream",
     "text": [
      "3.1\n",
      "3.1415926536\n",
      "3.1415926535897931159979634685441851615905761718750000000000000000000000000000000000000000000000000000\n",
      "3\n",
      "3.141592654\n",
      "3.141592653589793115997963468544185161590576171875\n"
     ]
    }
   ],
   "source": [
    "// float2.c \n",
    "\n",
    "#include <stdio.h>\n",
    "\n",
    "int main(void) {\n",
    "    double pi = 3.14159265358979323846;\n",
    "    printf(\"%.1f\\n\", pi);                     // precision 1\n",
    "    printf(\"%.10f\\n\", pi);                    // precision 10\n",
    "    printf(\"%.100f\\n\", pi);                   // precision 100?\n",
    "    \n",
    "    return 0;\n",
    "}"
   ]
  },
  {
   "cell_type": "markdown",
   "id": "d2c3089e",
   "metadata": {},
   "source": [
    "## `const`\n",
    "\n",
    "A variable may be qualified as being `const` which marks the variable as being *unassignable* (read only).\n",
    "Such a variable can be intialized (and you almost certainly will want to do so) but is not assignable.\n",
    "`const` arithmetic values normally represent constant numeric values such as the mathematical constant\n",
    "$\\pi$:"
   ]
  },
  {
   "cell_type": "code",
   "execution_count": null,
   "id": "28b24a4e",
   "metadata": {},
   "outputs": [],
   "source": [
    "// const.c\n",
    "\n",
    "#include <math.h>\n",
    "#include <stdio.h>\n",
    "\n",
    "int main(void) {\n",
    "    // computes and prints the coordinates of a point located at 30 degrees\n",
    "    // on the unit circle\n",
    "    \n",
    "    const double PI = 3.14159265358979323846;\n",
    "    \n",
    "    double deg = 30.0;\n",
    "    double x = cos(deg * PI / 180.0);\n",
    "    double y = sin(deg * PI / 180.0);\n",
    "    printf(\"(%f, %f)\", x, y);\n",
    "    \n",
    "    // UNCOMMENT NEXT LINE TO ATTEMPT TO RE-ASSIGN PI\n",
    "    // PI = 3.1416;\n",
    "    \n",
    "    return 0;\n",
    "}"
   ]
  },
  {
   "cell_type": "markdown",
   "id": "c0cbaa26",
   "metadata": {},
   "source": [
    "## `void`\n",
    "\n",
    "On its own, `void` means *cannot hold any value*. It\n",
    "can be used as a function return type to indicate that the function returns no value.\n",
    "It can be used as the sole parameter of a function to indicate that the function takes no arguments.\n",
    "You should always use a `void` parameter when you are declaring a function that accepts no arguments.\n",
    "\n",
    "A `void *` pointer means that the pointer can point to any object. See the *Pointers* notebook for details.\n",
    "\n",
    "`sizeof(void)` is an error."
   ]
  },
  {
   "cell_type": "markdown",
   "id": "961f2c61",
   "metadata": {},
   "source": [
    "## Arrays\n",
    "\n",
    "Arrays in C have many similarities to arrays in Java:\n",
    "\n",
    "* contiguous sequence of objects all having the same type\n",
    "* the capacity (maximum number of elements) never changes during the array lifetime\n",
    "* characterized by their element type\n",
    "* use square brackets to access individual elements\n",
    "\n",
    "and some differences:\n",
    "\n",
    "* variables of array type cannot be assigned to (but elements of the array can be assigned to)\n",
    "* the capacity of the array (if known) can be part of the declaration\n",
    "* **there is no index bounds checking**\n",
    "* an array degrades to a pointer to the element type when the array is passed to a function\n",
    "* it is impossible to return an array from a function\n",
    "\n",
    "An array of constant known size can be created as shown in the example below:"
   ]
  },
  {
   "cell_type": "code",
   "execution_count": null,
   "id": "687be5d5",
   "metadata": {},
   "outputs": [],
   "source": [
    "// arr1.c\n",
    "\n",
    "#include <stdio.h>\n",
    "\n",
    "int main(void) {\n",
    "    int x[3];       // an array of 3 ints, elements are not initialized\n",
    "    x[0] = 1;\n",
    "    x[1] = 2;\n",
    "    x[2] = 3;\n",
    "\n",
    "    for (int i = 0; i < 3; i++) {\n",
    "        printf(\"%d\\n\", x[i]);\n",
    "    }\n",
    "    \n",
    "    return 0;\n",
    "}"
   ]
  },
  {
   "cell_type": "markdown",
   "id": "cfef4d45",
   "metadata": {},
   "source": [
    "`sizeof(arr)` returns the amount of memory (in bytes) that is used by the entire array `arr` which is equal to\n",
    "\n",
    "$$ \\text{array capacity} \\times \\text{sizeof the element type} $$"
   ]
  },
  {
   "cell_type": "code",
   "execution_count": null,
   "id": "dcd2e661",
   "metadata": {},
   "outputs": [],
   "source": [
    "// arr2.c\n",
    "\n",
    "#include <stdio.h>\n",
    "\n",
    "int main(void) {\n",
    "    int x[3];       // an array of 3 ints\n",
    "    x[0] = 1;\n",
    "    x[1] = 2;\n",
    "    x[2] = 3;\n",
    "\n",
    "    printf(\"sizeof(x) : %ld\\n\", sizeof(x));\n",
    "    printf(\"capacity  : %ld\\n\", sizeof(x) / sizeof(int));\n",
    "    \n",
    "    return 0;\n",
    "}"
   ]
  },
  {
   "cell_type": "markdown",
   "id": "224ae038",
   "metadata": {},
   "source": [
    "<div class=\"alert alert-block alert-warning\">\n",
    "    Now that you know what <tt>sizeof</tt> does when given a local array variable, you should remember\n",
    "    to never use <tt>sizeof</tt> to determine the capacity of an array! <tt>sizeof(arr)</tt> returns\n",
    "    the number of bytes used by <tt>arr</tt> only when <tt>arr</tt> is a locally declared array having\n",
    "    automatic storage duration (see the <it>Scope and Lifetime</it> notebook).\n",
    "    If you have a locally declared array then you already know its size and capacity. If you are\n",
    "    inside a function that is passed an array as an argument, then function actually receives a\n",
    "    pointer to the first element of the array. Using <tt>sizeof</tt> on the pointer returns the\n",
    "    size of the pointer, not the size of the array.\n",
    "</div>"
   ]
  },
  {
   "cell_type": "markdown",
   "id": "fe7684f3",
   "metadata": {},
   "source": [
    "There is no array index bounds checking in C (you are really going to miss the exceptions you get in Java).\n",
    "Using an invalid index causes undefined behavior. If you are lucky, your program will crash. If you are\n",
    "unlucky, then some object gets overwritten and your program continues running."
   ]
  },
  {
   "cell_type": "code",
   "execution_count": null,
   "id": "dac0531e",
   "metadata": {},
   "outputs": [],
   "source": [
    "// arr3.c\n",
    "\n",
    "#include <stdio.h>\n",
    "\n",
    "int main(void) {\n",
    "    int arr1[5] = { -9, -9, -9, -9, -9 };            // array initialization\n",
    "    printf(\"arr1[0]   : %d\\n\", arr1[0]);             // -9\n",
    "    \n",
    "    int x[3];       // an array of 3 ints\n",
    "    \n",
    "    x[0] = 1;\n",
    "    x[1] = 2;\n",
    "    x[2] = 3;\n",
    "    x[3] = 4;       // no error?\n",
    " \n",
    "    printf(\"sizeof(x) : %ld\\n\", sizeof(x));\n",
    "    printf(\"capacity  : %ld\\n\", sizeof(x) / sizeof(int));\n",
    "    \n",
    "    printf(\"arr1[0]   : %d\\n\", arr1[0]);             // not -9 on the author's computer\n",
    "    \n",
    "    return 0;\n",
    "}"
   ]
  },
  {
   "cell_type": "markdown",
   "id": "769f4c94",
   "metadata": {},
   "source": [
    "Arrays are discussed in greater detail in the *Arrays* notebook."
   ]
  },
  {
   "cell_type": "markdown",
   "id": "3e508615",
   "metadata": {},
   "source": [
    "## Strings\n",
    "\n",
    "There is no proper string type in C. Strings are represented as arrays of `char` where the end of the string\n",
    "is marked with the null character constant `'\\0'`. String literals are similar to string literals in Java\n",
    "(a sequence of characters enclosed by double quotes)."
   ]
  },
  {
   "cell_type": "code",
   "execution_count": null,
   "id": "0e09d96e",
   "metadata": {},
   "outputs": [],
   "source": [
    "// str1.c\n",
    "\n",
    "#include <stdio.h>\n",
    "\n",
    "int main(void) {\n",
    "    char str[] = \"CISC220\";\n",
    "    \n",
    "    puts(str);\n",
    "    \n",
    "    return 0;\n",
    "}"
   ]
  },
  {
   "cell_type": "markdown",
   "id": "8edeb803",
   "metadata": {},
   "source": [
    "There is a difference between the length of a string and the capacity of underlying array. The length of a string\n",
    "is equal to the number of characters in the string before the *first* `'\\0'` in the array. The capacity of the array\n",
    "is the maximum number of elements that can be stored in the array."
   ]
  },
  {
   "cell_type": "code",
   "execution_count": null,
   "id": "0a036a04",
   "metadata": {},
   "outputs": [],
   "source": [
    "// str2.c\n",
    "\n",
    "#include <stdio.h>\n",
    "#include <string.h>     // needed for strlen\n",
    "\n",
    "int main(void) {\n",
    "    char str[100] = \"CISC220\";\n",
    "    \n",
    "    printf(\"capacity      : %ld\\n\", sizeof(str) / sizeof(char));\n",
    "    printf(\"string length : %ld\\n\", strlen(str));\n",
    "    \n",
    "    return 0;\n",
    "}"
   ]
  },
  {
   "cell_type": "markdown",
   "id": "d276e1d7",
   "metadata": {},
   "source": [
    "Notice that the length of a string does not include the terminating `'\\0'`.\n",
    "\n",
    "Because strings are simply arrays, it is possible to incorrectly create a string omitting the terminating\n",
    "`'\\0'`. For example:"
   ]
  },
  {
   "cell_type": "code",
   "execution_count": null,
   "id": "b5eab90f",
   "metadata": {},
   "outputs": [],
   "source": [
    "// str3.c\n",
    "\n",
    "#include <stdlib.h>     // needed for malloc\n",
    "#include <stdio.h>\n",
    "#include <string.h>     // needed for strlen\n",
    "\n",
    "int main(void) {\n",
    "    char *str = malloc(1);    // dynamically allocate memory for 1 char\n",
    "    str[0] = 'C';\n",
    "    \n",
    "    printf(\"string length : %ld\\n\", strlen(str));\n",
    "    \n",
    "    return 0;\n",
    "}"
   ]
  },
  {
   "cell_type": "markdown",
   "id": "5d7b55e9",
   "metadata": {},
   "source": [
    "## Structs\n",
    "\n",
    "A struct is a composite data type that groups one or more variables under a single name in a block of memory.\n",
    "The variables, called *members*, can be accessed via the struct object. A struct somewhat resembles a\n",
    "Java top-level class where all of the fields are public (and there are no methods or constructors). Like\n",
    "a Java class, a struct allows the programmer to create a new type.\n",
    "\n",
    "The syntax for declaring a struct is:\n",
    "\n",
    "```c\n",
    "struct tag_name {\n",
    "    type1 member1;\n",
    "    type2 member2;\n",
    "    // and so on\n",
    "};\n",
    "```\n",
    "\n",
    "An example of a simple struct is a struct that represents a two-dimensional point having real\n",
    "coordinates `x` and `y`:\n",
    "\n",
    "```c\n",
    "struct point2 {\n",
    "    double x;\n",
    "    double y;\n",
    "};\n",
    "```\n",
    "\n",
    "The typename of a struct includes the `struct` keyword. For example, the typename of the \n",
    "`point2` struct is `struct point2`.\n",
    "\n",
    "In an uninitialized struct object, the members are all uninitialized (can have any value).\n",
    "A struct object can be initialized in a manner similar to initializing an array. For example, we\n",
    "can create a point having coordinates $x=0.1$ and $y=0.2$ by writing:\n",
    "\n",
    "```c\n",
    "struct point2 p = { 0.1, 0.2 };\n",
    "```\n",
    "\n",
    "To access the members, we use the `.` notation familiar to Java programmers:"
   ]
  },
  {
   "cell_type": "code",
   "execution_count": 7,
   "id": "c180bf6f",
   "metadata": {},
   "outputs": [
    {
     "name": "stdout",
     "output_type": "stream",
     "text": [
      "p = (0.100000, 0.200000)\n",
      "p = (100.000000, 200.000000)\n"
     ]
    }
   ],
   "source": [
    "#include <stdio.h>\n",
    "\n",
    "struct point2 {\n",
    "    double x;\n",
    "    double y;\n",
    "};\n",
    "\n",
    "int main(void) {\n",
    "    struct point2 p = { 0.1, 0.2 };\n",
    "    \n",
    "    double xval = p.x;\n",
    "    double yval = p.y;\n",
    "    \n",
    "    printf(\"p = (%f, %f)\\n\", xval, yval);\n",
    "    \n",
    "    p.x = 100.0;\n",
    "    p.y = 200.0;\n",
    "    \n",
    "    printf(\"p = (%f, %f)\\n\", p.x, p.y);\n",
    "    \n",
    "    return 0;\n",
    "}"
   ]
  },
  {
   "cell_type": "markdown",
   "id": "c53dc7b7",
   "metadata": {},
   "source": [
    "A struct object can be assigned to another struct object of the same type. A bitwise copy of the struct\n",
    "is performed (the contents of the memory used by the struct is copied bit-by-bit into the assigned object)."
   ]
  },
  {
   "cell_type": "code",
   "execution_count": 9,
   "id": "86be6336",
   "metadata": {},
   "outputs": [
    {
     "name": "stdout",
     "output_type": "stream",
     "text": [
      "p = (0.100000, 0.200000)\n",
      "q = (0.100000, 0.200000)\n",
      "p = (100.000000, 0.200000)\n",
      "q = (0.100000, 200.000000)\n"
     ]
    }
   ],
   "source": [
    "#include <stdio.h>\n",
    "\n",
    "struct point2 {\n",
    "    double x;\n",
    "    double y;\n",
    "};\n",
    "\n",
    "int main(void) {\n",
    "    struct point2 p = { 0.1, 0.2 };\n",
    "    struct point2 q;\n",
    "    \n",
    "    // assignment\n",
    "    q = p;\n",
    "    \n",
    "    printf(\"p = (%f, %f)\\n\", p.x, p.y);\n",
    "    printf(\"q = (%f, %f)\\n\", q.x, q.y);\n",
    "    \n",
    "    // changing one struct does not change the other\n",
    "    p.x = 100.0;\n",
    "    q.y = 200.0;\n",
    "    \n",
    "    printf(\"p = (%f, %f)\\n\", p.x, p.y);\n",
    "    printf(\"q = (%f, %f)\\n\", q.x, q.y);\n",
    "    \n",
    "    return 0;\n",
    "}"
   ]
  },
  {
   "cell_type": "code",
   "execution_count": null,
   "id": "ca586bae",
   "metadata": {},
   "outputs": [],
   "source": []
  }
 ],
 "metadata": {
  "kernelspec": {
   "display_name": "C",
   "language": "c",
   "name": "c"
  },
  "language_info": {
   "file_extension": ".c",
   "mimetype": "text/x-csrc",
   "name": "text/x-csrc"
  }
 },
 "nbformat": 4,
 "nbformat_minor": 5
}
