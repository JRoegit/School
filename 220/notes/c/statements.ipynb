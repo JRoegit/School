{
 "cells": [
  {
   "cell_type": "markdown",
   "id": "5d619d7f",
   "metadata": {},
   "source": [
    "# Statements\n",
    "\n",
    "> Statements are fragments of the C program that are executed in sequence. https://en.cppreference.com/w/c/language/statements\n",
    "\n",
    "Assignment and function calls, compound statements (blocks), selection statements, and looping statements that\n",
    "readers have seen in Java are more or less the same in C."
   ]
  },
  {
   "cell_type": "markdown",
   "id": "cf5a2461",
   "metadata": {},
   "source": [
    "## Assignment\n",
    "\n",
    "Assignment to a variable uses the same syntax as Java."
   ]
  },
  {
   "cell_type": "code",
   "execution_count": null,
   "id": "c6ef122a",
   "metadata": {},
   "outputs": [],
   "source": [
    "int x;\n",
    "x = 5;\n",
    "printf(\"%d\\n\", x);"
   ]
  },
  {
   "cell_type": "markdown",
   "id": "e5c05ae1",
   "metadata": {},
   "source": [
    "A notable difference between Java and C is that an array variable cannot be assigned to:"
   ]
  },
  {
   "cell_type": "code",
   "execution_count": null,
   "id": "4ad9ecfc",
   "metadata": {},
   "outputs": [],
   "source": [
    "int x[] = {1, 2, 3};\n",
    "int y[] = {4, 5, 6};\n",
    "x = y;                   // error"
   ]
  },
  {
   "cell_type": "markdown",
   "id": "eb4989f6",
   "metadata": {},
   "source": [
    "Strings in C are simply arrays of `char`; thus string assignment is not allowed in C."
   ]
  },
  {
   "cell_type": "code",
   "execution_count": null,
   "id": "5868cbba",
   "metadata": {},
   "outputs": [],
   "source": [
    "char str1[] = \"hello\";\n",
    "char str2[] = \"bye\";\n",
    "str1 = str2;             // error"
   ]
  },
  {
   "cell_type": "markdown",
   "id": "d6011414",
   "metadata": {},
   "source": [
    "## Function calls\n",
    "\n",
    "Calling a function in C is similar to calling a method in Java except that no class name or object reference is\n",
    "required."
   ]
  },
  {
   "cell_type": "code",
   "execution_count": null,
   "id": "da362e41",
   "metadata": {},
   "outputs": [],
   "source": [
    "#include <math.h>\n",
    "#define M_PI (3.14159265358979323846)\n",
    "\n",
    "double x = sin(M_PI / 4);\n",
    "double y = cos(M_PI / 4);\n",
    "printf(\"point on unit circle at 45 degrees = (%f, %f)\\n\", x, y);"
   ]
  },
  {
   "cell_type": "markdown",
   "id": "4f137f0a",
   "metadata": {},
   "source": [
    "## Compound statements \n",
    "\n",
    "Java inherited its brace delimited block structure from C. Function bodies are always enclosed in blocks. Bodies\n",
    "of `if` statements, `switch` statements, and loops are enclosed in blocks if they constitute more than one \n",
    "statement."
   ]
  },
  {
   "cell_type": "markdown",
   "id": "b769bc13",
   "metadata": {},
   "source": [
    "#### `if` statement\n",
    "\n",
    "The syntax of an `if` statement in C is identical to that in Java."
   ]
  },
  {
   "cell_type": "code",
   "execution_count": null,
   "id": "d907a13e",
   "metadata": {},
   "outputs": [],
   "source": [
    "int val = 100;\n",
    "int rem = val % 2;\n",
    "if (rem == 0) {\n",
    "    puts(\"even\");\n",
    "}\n",
    "else if (rem < 0) {\n",
    "    puts(\"odd and negative\");\n",
    "}\n",
    "else {\n",
    "    puts(\"odd and positive\");\n",
    "}"
   ]
  },
  {
   "cell_type": "markdown",
   "id": "e949cd61",
   "metadata": {},
   "source": [
    "#### `switch` statement\n",
    "\n",
    "The syntax of a `switch` statement in C is identical to that in Java except that C's `switch` statement can\n",
    "switch only on integer values. See https://en.cppreference.com/w/c/language/switch"
   ]
  },
  {
   "cell_type": "markdown",
   "id": "e79f8f38",
   "metadata": {},
   "source": [
    "#### `while` loop statement\n",
    "\n",
    "The syntax of a `while` loop statement in C is identical to that in Java. The loop body runs as long as the\n",
    "loop condition is true at the start of each loop iteration."
   ]
  },
  {
   "cell_type": "code",
   "execution_count": null,
   "id": "61bf422b",
   "metadata": {},
   "outputs": [],
   "source": [
    "int start = 1;\n",
    "int i = start;\n",
    "int stop = start + 5;\n",
    "while (i <= stop) {\n",
    "    printf(\"%d\\n\", i);\n",
    "    i++;\n",
    "}"
   ]
  },
  {
   "cell_type": "markdown",
   "id": "3867bb61",
   "metadata": {},
   "source": [
    "#### `do-while` loop statement\n",
    "\n",
    "The syntax of a `do-while` loop statement in C is identical to that in Java. The loop body runs until the\n",
    "loop condition is false at the end of each loop iteration."
   ]
  },
  {
   "cell_type": "code",
   "execution_count": null,
   "id": "751103fb",
   "metadata": {},
   "outputs": [],
   "source": [
    "int start = 1;\n",
    "int i = start;\n",
    "int stop = start + 5;\n",
    "do {\n",
    "    printf(\"%d\\n\", i);\n",
    "    i++;\n",
    "} while (i <= stop);"
   ]
  },
  {
   "cell_type": "markdown",
   "id": "743da29d",
   "metadata": {},
   "source": [
    "#### `for` loop\n",
    "\n",
    "C has no enhanced `for` loop. Its `for` loop is identical to the condition-controlled `for` loop in Java."
   ]
  },
  {
   "cell_type": "code",
   "execution_count": null,
   "id": "2e3ed124",
   "metadata": {},
   "outputs": [],
   "source": [
    "int start = 1;\n",
    "int stop = start + 5;\n",
    "for (int i = start; i <= stop; i++) {\n",
    "    printf(\"%d\\n\", i);\n",
    "}"
   ]
  },
  {
   "cell_type": "markdown",
   "id": "0295af2e",
   "metadata": {},
   "source": [
    "#### `break`\n",
    "\n",
    "As in Java, a `break` statement may be used to terminate a loop."
   ]
  },
  {
   "cell_type": "code",
   "execution_count": null,
   "id": "aec80873",
   "metadata": {},
   "outputs": [],
   "source": [
    "int i = 0;\n",
    "while (1) {    // infinite loop\n",
    "    if (i > 5) {\n",
    "        break;\n",
    "    }\n",
    "    printf(\"%d\\n\", i);\n",
    "    i++;\n",
    "}"
   ]
  },
  {
   "cell_type": "markdown",
   "id": "bd796ad3",
   "metadata": {},
   "source": [
    "#### `continue`\n",
    "\n",
    "As in Java, a `continue` statement may be used to skip to the end of the current loop iteration."
   ]
  },
  {
   "cell_type": "code",
   "execution_count": null,
   "id": "8d1d8a50",
   "metadata": {},
   "outputs": [],
   "source": [
    "for (int i = 0; i < 10; i++) {\n",
    "    if (i == 5) {\n",
    "        continue;\n",
    "    }\n",
    "    printf(\"%d \", i);\n",
    "}"
   ]
  },
  {
   "cell_type": "code",
   "execution_count": null,
   "id": "bad9ac28",
   "metadata": {},
   "outputs": [],
   "source": []
  }
 ],
 "metadata": {
  "kernelspec": {
   "display_name": "C",
   "language": "c",
   "name": "c"
  },
  "language_info": {
   "file_extension": ".c",
   "mimetype": "text/x-csrc",
   "name": "text/x-csrc"
  }
 },
 "nbformat": 4,
 "nbformat_minor": 5
}
