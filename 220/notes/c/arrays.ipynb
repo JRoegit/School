{
 "cells": [
  {
   "cell_type": "markdown",
   "id": "ce23f8ea",
   "metadata": {},
   "source": [
    "# Arrays\n",
    "\n",
    "<div class=\"alert alert-block alert-info\">\n",
    "    You can find all of the C programs in this notebook in the subdirectory containing this notebook:\n",
    "    <code>./src/arrays</code>\n",
    "</div>\n",
    "\n",
    "Arrays in C have many similarities to arrays in Java:\n",
    "\n",
    "* contiguous sequence of objects all having the same type\n",
    "* the capacity (maximum number of elements) never changes during the array lifetime\n",
    "* characterized by their element type\n",
    "* use square brackets to access individual elements\n",
    "\n",
    "and some differences:\n",
    "\n",
    "* there are no zero-length arrays\n",
    "* variables of array type cannot be assigned to (but elements of the array can be assigned to)\n",
    "* the capacity of the array (if known) can be part of the declaration\n",
    "* **there is no index bounds checking**\n",
    "* an array degrades to a pointer to the element type when the array is passed to a function\n",
    "* it is impossible to return an array from a function\n"
   ]
  },
  {
   "cell_type": "markdown",
   "id": "1782082c",
   "metadata": {},
   "source": [
    "## Declaring and initializing an array\n",
    "\n",
    "An array of constant known size can be created as shown in the example below:"
   ]
  },
  {
   "cell_type": "code",
   "execution_count": null,
   "id": "04520039",
   "metadata": {},
   "outputs": [],
   "source": [
    "// declare1.c\n",
    "\n",
    "#include <stdio.h>\n",
    "\n",
    "int main(void) {\n",
    "    int x[3];       // an array of 3 ints, elements are not initialized\n",
    "    x[0] = 1;\n",
    "    x[1] = 2;\n",
    "    x[2] = 3;\n",
    "\n",
    "    for (int i = 0; i < 3; i++) {\n",
    "        printf(\"%d\\n\", x[i]);\n",
    "    }\n",
    "    \n",
    "    return 0;\n",
    "}"
   ]
  },
  {
   "cell_type": "markdown",
   "id": "d389135c",
   "metadata": {},
   "source": [
    "The elements of an array are not initialized to any particular value. Whatever values happen to be in the\n",
    "memory occupied by the array are interpreted as elements of the array:"
   ]
  },
  {
   "cell_type": "code",
   "execution_count": null,
   "id": "cd6f668a",
   "metadata": {},
   "outputs": [],
   "source": [
    "// declare2.c\n",
    "\n",
    "#include <stdio.h>\n",
    "\n",
    "int main(void) {\n",
    "    int x[3];       // an array of 3 ints, elements are not initialized\n",
    "\n",
    "    for (int i = 0; i < 3; i++) {\n",
    "        printf(\"%d\\n\", x[i]);\n",
    "    }\n",
    "    \n",
    "    return 0;\n",
    "}"
   ]
  },
  {
   "cell_type": "markdown",
   "id": "45c5bb24",
   "metadata": {},
   "source": [
    "An initialization list can be used to initialize the elements (and possibly capacity) at the point where\n",
    "the array is declared:"
   ]
  },
  {
   "cell_type": "code",
   "execution_count": null,
   "id": "af0478a1",
   "metadata": {},
   "outputs": [],
   "source": [
    "// init1.c\n",
    "\n",
    "#include <stdio.h>\n",
    "\n",
    "int main(void) {\n",
    "    int x[] = {1, 2, 3};     // initializes an array of capacity 3\n",
    "\n",
    "    for (int i = 0; i < 3; i++) {\n",
    "        printf(\"%d\\n\", x[i]);\n",
    "    }\n",
    "    \n",
    "    return 0;\n",
    "}"
   ]
  },
  {
   "cell_type": "markdown",
   "id": "8dc78994",
   "metadata": {},
   "source": [
    "It is an error to provide more initializers than the capacity of the array:"
   ]
  },
  {
   "cell_type": "code",
   "execution_count": null,
   "id": "364fc5f8",
   "metadata": {},
   "outputs": [],
   "source": [
    "// init2.c\n",
    "\n",
    "#include <stdio.h>\n",
    "\n",
    "int main(void) {\n",
    "    int x[3] = {1, 2, 3, 4, 5};     // error, too many initializers\n",
    "    \n",
    "    return 0;\n",
    "}"
   ]
  },
  {
   "cell_type": "markdown",
   "id": "db744c62",
   "metadata": {},
   "source": [
    "If fewer initializers than the capacity of the array are used then the remaining elements of the array are\n",
    "left uninitialized:"
   ]
  },
  {
   "cell_type": "code",
   "execution_count": null,
   "id": "6e8c227f",
   "metadata": {},
   "outputs": [],
   "source": [
    "// init3.c\n",
    "\n",
    "#include <stdio.h>\n",
    "\n",
    "int main(void) {\n",
    "    int x[] = {3};     // x[0] == 3, remaining elements uninitialzed\n",
    "\n",
    "    for (int i = 0; i < 3; i++) {\n",
    "        printf(\"%d\\n\", x[i]);\n",
    "    }\n",
    "    \n",
    "    return 0;\n",
    "}"
   ]
  },
  {
   "cell_type": "markdown",
   "id": "43868f58",
   "metadata": {},
   "source": [
    "When using an initializer list, it is possible to specify the indexes of the array to initialize using\n",
    "*designators*. See https://en.cppreference.com/w/c/language/array_initialization for details."
   ]
  },
  {
   "cell_type": "markdown",
   "id": "aa67e852",
   "metadata": {},
   "source": [
    "## Strings are array of `char`\n",
    "\n",
    "A string is an array of `char` terminated with the null character `'\\0'`. String literals may be used to \n",
    "initialize an array of `char`:"
   ]
  },
  {
   "cell_type": "code",
   "execution_count": null,
   "id": "bb6eee6a",
   "metadata": {},
   "outputs": [],
   "source": [
    "// string1.c\n",
    "\n",
    "#include <stdio.h>\n",
    "#include <string.h>\n",
    "\n",
    "int main(void) {\n",
    "    char str[] = \"CISC220\";\n",
    "    printf(\"%s\\n\", str);\n",
    "    \n",
    "    return 0;\n",
    "}"
   ]
  },
  {
   "cell_type": "markdown",
   "id": "505581d1",
   "metadata": {},
   "source": [
    "Instead of using a string literal to initialize the string, the string can be computed element by element.\n",
    "When doing so, you must remember to add the null terminator to the end of the string:"
   ]
  },
  {
   "cell_type": "code",
   "execution_count": null,
   "id": "7cb39547",
   "metadata": {},
   "outputs": [],
   "source": [
    "// string2.c\n",
    "\n",
    "#include <stdio.h>\n",
    "#include <string.h>\n",
    "\n",
    "int main(void) {\n",
    "    char str[10];     // can hold a string of length 9\n",
    "    str[0] = 'C';\n",
    "    str[1] = 'I';\n",
    "    str[2] = 'S';\n",
    "    str[3] = 'C';\n",
    "    str[4] = '2';\n",
    "    str[5] = '2';\n",
    "    str[6] = '0';\n",
    "    str[7] = '\\0';    // remember to include the null terminator\n",
    "    \n",
    "    printf(\"%s\\n\", str);\n",
    "    \n",
    "    return 0;\n",
    "}"
   ]
  },
  {
   "cell_type": "markdown",
   "id": "fa9366f6",
   "metadata": {},
   "source": [
    "## `const` arrays\n",
    "\n",
    "A `const` qualified array is an array whose elements are all `const` qualified. The elements of such\n",
    "an array may be intialized when the array is created, but cannot be otherwise modified:"
   ]
  },
  {
   "cell_type": "code",
   "execution_count": null,
   "id": "1959c965",
   "metadata": {},
   "outputs": [],
   "source": [
    "// const.c\n",
    "\n",
    "#include <stdio.h>\n",
    "\n",
    "int main(void) {\n",
    "    const int x[3] = {1, 2, 3};    // initialization\n",
    "    \n",
    "    // ok, get the value of x[1]\n",
    "    int val = x[1];\n",
    "    printf(\"x[1] = %d\\n\", val);\n",
    "    \n",
    "    // UNCOMMENT NEXT LINE TO ATTEMPT TO ASSIGN TO x[1]\n",
    "    // x[1] = 200;\n",
    "    \n",
    "    return 0;\n",
    "}"
   ]
  },
  {
   "cell_type": "markdown",
   "id": "f25690f5",
   "metadata": {},
   "source": [
    "## Assignment to an array variable is not allowed\n",
    "\n",
    "An array variable can not be assigned to."
   ]
  },
  {
   "cell_type": "code",
   "execution_count": null,
   "id": "44d38136",
   "metadata": {},
   "outputs": [],
   "source": [
    "// bad_assign1.c\n",
    "\n",
    "#include <stdio.h>\n",
    "\n",
    "int main(void) {\n",
    "    int x[] = {1, 2, 3};\n",
    "    int y[] = {10, 11, 12};\n",
    "    \n",
    "    x = y;\n",
    "    \n",
    "    return 0;\n",
    "}"
   ]
  },
  {
   "cell_type": "markdown",
   "id": "1d136949",
   "metadata": {},
   "source": [
    "Strings are arrays; thus, string assignment is also not allowed:"
   ]
  },
  {
   "cell_type": "code",
   "execution_count": null,
   "id": "f32b35ed",
   "metadata": {},
   "outputs": [],
   "source": [
    "// bad_assign2.c\n",
    "\n",
    "#include <stdio.h>\n",
    "\n",
    "int main(void) {\n",
    "    char str1[] = \"Hello\";\n",
    "    char str2[] = \"Goodbye\";\n",
    "    \n",
    "    str1 = str2;\n",
    "    \n",
    "    return 0;\n",
    "}"
   ]
  },
  {
   "cell_type": "markdown",
   "id": "63b3460b",
   "metadata": {},
   "source": [
    "Instead of performing array assignment, the programmer must copy the elements from the source array into the\n",
    "target array. A loop can be used:"
   ]
  },
  {
   "cell_type": "code",
   "execution_count": null,
   "id": "3f7bc3ca",
   "metadata": {},
   "outputs": [],
   "source": [
    "// manual_copy.c\n",
    "\n",
    "#include <stdio.h>\n",
    "\n",
    "int main(void) {\n",
    "    int x[] = {1, 2, 3};\n",
    "    int y[] = {10, 11, 12};\n",
    "    \n",
    "    for (int i = 0; i < 3; i++) {\n",
    "        x[i] = y[i];\n",
    "    }\n",
    "    for (int i = 0; i < 3; i++) {\n",
    "        printf(\"%d\\n\", x[i]);\n",
    "    }\n",
    "    \n",
    "    return 0;\n",
    "}"
   ]
  },
  {
   "cell_type": "markdown",
   "id": "251ebc5c",
   "metadata": {},
   "source": [
    "However, it is easier to use a library function to perform the copying. The function `memcpy` declared\n",
    "in `<string.h>` copies `count` characters from one object `src` to another object `dest`:\n",
    "\n",
    "```c\n",
    "void* memcpy(void *dest, const void *src, size_t count);\n",
    "```\n",
    "\n",
    "The amount of memory to copy is specified in terms of the number of characters `count`; to copy an object\n",
    "having a different type, simply use `count = n * sizeof(obj)` where `n` is the number of objects to\n",
    "copy and `obj` is the type of the object to copy. For example, the loop that copies elements from\n",
    "`y` into `x` can be rewritten as:"
   ]
  },
  {
   "cell_type": "code",
   "execution_count": null,
   "id": "dba3b411",
   "metadata": {},
   "outputs": [],
   "source": [
    "// memcpy1.c\n",
    "\n",
    "#include <stdio.h>\n",
    "\n",
    "int main(void) {\n",
    "    int x[] = {1, 2, 3};\n",
    "    int y[] = {10, 11, 12};\n",
    "    \n",
    "    int *src = &y[0];                   // pointer to first element of y\n",
    "    int *dest = &x[0];                  // pointer to first element of x\n",
    "    memcpy(dest, src, 3 * sizeof(int));\n",
    "    \n",
    "    for (int i = 0; i < 3; i++) {\n",
    "        printf(\"%d\\n\", x[i]);\n",
    "    }\n",
    "    \n",
    "    return 0;\n",
    "}"
   ]
  },
  {
   "cell_type": "markdown",
   "id": "804c98e5",
   "metadata": {},
   "source": [
    "Notice that `memcpy` requires a pointer to the object to copy and a pointer to the destination object.\n",
    "When copying entire arrays, these pointers are simply pointers to the first element of each array.\n",
    "\n",
    "By adjusting the `src` and `dest` pointers (and the value of `count`), we can copy a subarray into\n",
    "another array. The following program copies four elements from somewhere in the middle of an array\n",
    "`y` to somewhere in the middle of an array `x`:"
   ]
  },
  {
   "cell_type": "code",
   "execution_count": null,
   "id": "1643e3a6",
   "metadata": {},
   "outputs": [],
   "source": [
    "// memcpy2.c\n",
    "\n",
    "#include <stdio.h>\n",
    "\n",
    "int main(void) {\n",
    "    double x[6]  = { 0, 0, 0, 0, 0, 0 };\n",
    "    double y[10] = {10, 11, 12, 13, 14, 15, 16, 17, 18, 19};\n",
    "    \n",
    "    double *src = &y[4];\n",
    "    double *dest = &x[2];\n",
    "    memcpy(dest, src, 4 * sizeof(double));\n",
    "    \n",
    "    for (int i = 0; i < 6; i++) {\n",
    "        printf(\"%f\\n\", x[i]);\n",
    "    }\n",
    "    \n",
    "    return 0;\n",
    "}"
   ]
  },
  {
   "cell_type": "markdown",
   "id": "683a0d59",
   "metadata": {},
   "source": [
    "C strings are represented using arrays, but they use the null character `\\0` to indicate the end of the\n",
    "string. While it is certainly possible to use `memcpy` to copy strings, the function `strcpy` is more\n",
    "convenient to use (especially when the length of the copied string is not already known). See the\n",
    "*Strings* notebook for details."
   ]
  },
  {
   "cell_type": "markdown",
   "id": "1a3d0ad8",
   "metadata": {},
   "source": [
    "## Array-pointer duality\n",
    "\n",
    "The name of an array is synonymous with a pointer to the first element of the array. That is, given\n",
    "an array `arr`, the name `arr` is a pointer that points at element `arr[0]`:"
   ]
  },
  {
   "cell_type": "code",
   "execution_count": null,
   "id": "87d2f562",
   "metadata": {},
   "outputs": [],
   "source": [
    "// duality1.c\n",
    "\n",
    "#include <stdio.h>\n",
    "\n",
    "int main(void) {\n",
    "    double arr[3] = { 1.0, 2.0, 3.0 };\n",
    "    \n",
    "    double *p = &arr[0];      // pointer to first element of arr\n",
    "    \n",
    "    if (p == arr) {\n",
    "        puts(\"p equals arr\");\n",
    "    }\n",
    "    else {\n",
    "        puts(\"p not equals arr\");\n",
    "    }\n",
    "    \n",
    "    return 0;\n",
    "}"
   ]
  },
  {
   "cell_type": "markdown",
   "id": "7aaf61cc",
   "metadata": {},
   "source": [
    "This means that we \n",
    "can do something that looks like assigning an array to a pointer:"
   ]
  },
  {
   "cell_type": "code",
   "execution_count": null,
   "id": "410a757f",
   "metadata": {},
   "outputs": [],
   "source": [
    "// duality2.c\n",
    "\n",
    "#include <stdio.h>\n",
    "#include <string.h>\n",
    "\n",
    "int main(void) {\n",
    "    char str[] = \"CISC220\";\n",
    "    char *p;\n",
    "    p = str;                      // p points at str[0]\n",
    "    \n",
    "    // dereference p\n",
    "    char c = *p;\n",
    "\n",
    "    printf(\"%s\\n\", p);\n",
    "    printf(\"%c\\n\", c);\n",
    "    \n",
    "    return 0;\n",
    "}"
   ]
  },
  {
   "cell_type": "markdown",
   "id": "d584b767",
   "metadata": {},
   "source": [
    "Note that it is not possible to assign a pointer to an array variable *because array variables are not\n",
    "assignable* as running the following cell illustrates:"
   ]
  },
  {
   "cell_type": "code",
   "execution_count": null,
   "id": "34f9750b",
   "metadata": {},
   "outputs": [],
   "source": [
    "// duality3.c\n",
    "\n",
    "#include <stdio.h>\n",
    "#include <string.h>\n",
    "\n",
    "int main(void) {\n",
    "    char str[] = \"CISC220\";\n",
    "    char copy[8];\n",
    "    \n",
    "    // already know that copy = str; does not work\n",
    "    // can we cheat with a pointer?\n",
    "    \n",
    "    char *p = str;\n",
    "    copy = p;\n",
    "    \n",
    "    return 0;\n",
    "}"
   ]
  },
  {
   "cell_type": "markdown",
   "id": "79ffb795",
   "metadata": {},
   "source": [
    "If the name of an array `arr` acts as though it were a pointer to the first element of `arr`, then is there\n",
    "a way to obtain a pointer to the second element, or any other element of the array? One way is to use\n",
    "indexing and the address-of operator:\n",
    "\n",
    "```c\n",
    "double arr[3] = { 1.0, 2.0, 3.0 };\n",
    "double *p = &arr[1];                // pointer to second element of arr\n",
    "```\n",
    "\n",
    "An alternative way is to use pointer addition. If `p` is a pointer to an element of an array\n",
    "`p + 1` is a pointer to the next element of the array and `p - 1` is a pointer to the previous element\n",
    "of the array (if such an element exists). More generally, if `p` is a pointer to element `arr[j]` of\n",
    "the array `arr` and `i` is an integer, then \n",
    "\n",
    "* `p + i` is a pointer to element `arr[j + i]`, and\n",
    "* `p - i` is a pointer to element `arr[j - i]`\n",
    "\n",
    "assuming such elements exist. If we use dereferencing then:\n",
    "\n",
    "* `*(p + i)` is element `arr[j + i]`, and\n",
    "* `*(p - i)` is element `arr[j - i]`\n",
    "\n",
    "The following example illustrates pointer addition/subtraction with an\n",
    "integer value:"
   ]
  },
  {
   "cell_type": "code",
   "execution_count": null,
   "id": "4cefe9b0",
   "metadata": {},
   "outputs": [],
   "source": [
    "// duality4.c\n",
    "\n",
    "#include <stdio.h>\n",
    "#include <string.h>\n",
    "\n",
    "int main(void) {\n",
    "    double arr[7] = { 0.0, 1.0, 2.0, 3.0, 4.0, 5.0, 6.0 };\n",
    "    double *p = &arr[3];                // pointer to fourth element of arr\n",
    "    \n",
    "    double elem = *(p + 2);             // same as arr[3 + 2]\n",
    "    printf(\"elem = %f\\n\", elem);\n",
    "    \n",
    "    elem = *(p - 3);                    // same as arr[3 - 3]\n",
    "    printf(\"elem = %f\\n\", elem);\n",
    "    \n",
    "    // change p[6]\n",
    "    *(arr + 6) = -100.0;\n",
    "    printf(\"arr[6] = %f\\n\", arr[6]);\n",
    "    \n",
    "    \n",
    "    return 0;\n",
    "}"
   ]
  },
  {
   "cell_type": "markdown",
   "id": "e4c924b4",
   "metadata": {},
   "source": [
    "### The too-far pointer\n",
    "\n",
    "Given an array `arr` of length `n`, the C standard guarantees that the pointer `arr + n` exists (but you must\n",
    "not dereference such a pointer). The pointer `arr + n` is a pointer that points exactly one element past the end\n",
    "of the array; such a pointer is called the *too-far pointer* for the array.\n",
    "\n",
    "See the section *Iterating over array elements using pointers* to see why the C standard requires the\n",
    "existance of the too-far pointer."
   ]
  },
  {
   "cell_type": "markdown",
   "id": "68b0d324",
   "metadata": {},
   "source": [
    "### Pointer comparisons\n",
    "\n",
    "The comparison operators `<`, `<=`, `>`, and `>=` are defined for two pointers `p` and `q` that point to\n",
    "elements of the same array. Suppose that `p` points at the element `arr[i]` and `q` points at the element\n",
    "`arr[j]`, then:\n",
    "\n",
    "| Operator | Result |\n",
    "| :---- | :----- |\n",
    "| `p < q`  | true if `i < j` is true |\n",
    "| `p <= q` | true if `i <= j` is true |\n",
    "| `p > q`  | true if `i > j` is true |\n",
    "| `p >= q` | true if `i >= j` is true |\n",
    "\n",
    "In other words, the comparison operators can be used to compare the locations of two pointers."
   ]
  },
  {
   "cell_type": "markdown",
   "id": "ffdd8078",
   "metadata": {},
   "source": [
    "### Iterating over array elements using pointers\n",
    "\n",
    "The operators `++`, `--`, `+=`, and `-=` are also defined for pointers:\n",
    "\n",
    "| Operator | Result |\n",
    "| :---- | :----- |\n",
    "| `p += n` | assigns the value `p + n` to `p`, equals the value `p + n` |\n",
    "| `p -= n` | assigns the value `p - n` to `p`, equals the value `p - n` |\n",
    "| `p++` | equals the value `p`, side-effect of adding `1` to `p` |\n",
    "| `p--` | equals the value `p`, side-effect of subtracting `1` from `p` |\n",
    "| `++p` | same as `p += 1` |\n",
    "| `--p` | same as `p -= 1` |\n",
    "\n",
    "These operators in combination with the pointer comparison operators can be used when iterating\n",
    "over array elements:"
   ]
  },
  {
   "cell_type": "code",
   "execution_count": null,
   "id": "eaf237b4",
   "metadata": {},
   "outputs": [],
   "source": [
    "// iterate.c\n",
    "\n",
    "#include <stdio.h>\n",
    "#include <string.h>\n",
    "\n",
    "int main(void) {\n",
    "    double arr[7] = { 0.0, 1.0, 2.0, 3.0, 4.0, 5.0, 6.0 };\n",
    "    \n",
    "    // iterate forwards; uses the too-far pointer arr + 7\n",
    "    puts(\"forwards\");\n",
    "    for (double *p = arr; p < arr + 7; p++) {\n",
    "        printf(\"%f\\n\", *p);\n",
    "    }\n",
    "    \n",
    "    // iterate backwards\n",
    "    puts(\"backwards\");\n",
    "    for (double *p = arr + 6; p >= arr; p--) {\n",
    "        printf(\"%f\\n\", *p);\n",
    "    }\n",
    "    \n",
    "    \n",
    "    return 0;\n",
    "}"
   ]
  },
  {
   "cell_type": "markdown",
   "id": "698c329b",
   "metadata": {},
   "source": [
    "## Arrays as function parameters\n",
    "\n",
    "When passing an array to a function, the entire contents of the array *are not* passed to the function.\n",
    "Instead, the array *decays* to a pointer to the first element of the array. In other words, a function\n",
    "having the declaration:\n",
    "\n",
    "```c\n",
    "void f(int arr[]);\n",
    "```\n",
    "\n",
    "is treated by the compiler as though it were:\n",
    "\n",
    "```c\n",
    "void f(int* arr);\n",
    "```\n",
    "\n",
    "One implication of the array decaying to a pointer is that it is impossible to determine the size of the\n",
    "array. If we attempt to use `sizeof` to compute the array length then the result will be incorrect:"
   ]
  },
  {
   "cell_type": "code",
   "execution_count": null,
   "id": "274c2c57",
   "metadata": {},
   "outputs": [],
   "source": [
    "// wrong_size.c\n",
    "\n",
    "#include <stdio.h>\n",
    "\n",
    "void f(int arr[]) {\n",
    "    size_t len = sizeof(arr) / sizeof(int);\n",
    "    printf(\"calculated length = %zi\\n\", len);\n",
    "}\n",
    "\n",
    "int main(void) {\n",
    "    int x[100];      // array length 100\n",
    "    f(x);\n",
    "    \n",
    "    return 0;\n",
    "}"
   ]
  },
  {
   "cell_type": "markdown",
   "id": "bba94025",
   "metadata": {},
   "source": [
    "Because the parameter `arr` is treated as a pointer to `int`, `sizeof(arr)` returns the size of a pointer\n",
    "instead of the memory occupied by the entire array. It is likely that running the cell above outputs a compiler\n",
    "warning indicating the incorrect use of `sizeof` for an array parameter.\n",
    "\n",
    "When writing a function that has an array parameter, the problem of being unable to compute the array length\n",
    "can be solved by:\n",
    "\n",
    "* adding another parameter for the length of the array\n",
    "* requiring an array that uses a special value to indicate that there are no more elements in the array\n",
    "\n",
    "Functions that process C strings use the second option where the character `\\0` indicates the end of the string.\n",
    "An example of a function that has a parameter indicating the length of the array is shown below:"
   ]
  },
  {
   "cell_type": "code",
   "execution_count": null,
   "id": "ece8ce71",
   "metadata": {},
   "outputs": [],
   "source": [
    "// param.c\n",
    "\n",
    "#include <stdio.h>\n",
    "\n",
    "int max(const int arr[], size_t len) {\n",
    "    int hi = arr[0];\n",
    "    for (size_t i = 1; i < len; i++) {\n",
    "        if (arr[i] > hi) {\n",
    "            hi = arr[i];\n",
    "        }\n",
    "    }\n",
    "    return hi;\n",
    "}\n",
    "\n",
    "int main(void) {\n",
    "    int x[] = { -5, 5, 99, -13, 8 };\n",
    "    int hi = max(x, 5);\n",
    "    printf(\"max = %d\\n\", hi);\n",
    "    \n",
    "    return 0;\n",
    "}"
   ]
  },
  {
   "cell_type": "markdown",
   "id": "22dee6a0",
   "metadata": {},
   "source": [
    "## Returning an array from a function\n",
    "\n",
    "If a function returns an array, then the returned array decays to a pointer to the first element of the array.\n",
    "One implication of the array decaying to a pointer is that the caller of the function will be unable to\n",
    "determine the length of the returned array. This problem can be solved by:\n",
    "\n",
    "* adding another parameter that the function can use to store the length of the array\n",
    "    * this parameter must be a pointer so that the function can modify the caller's variable\n",
    "* returning a pointer to the first element of an array that uses a special value to indicate that \n",
    "there are no more elements in the array\n",
    "* returning the length of the array and require the caller to supply an array for the function to modify\n",
    "* returning the length of the array and require the caller to supply a pointer to a pointer\n",
    "\n",
    "Functions that return C strings use the second option.\n",
    "\n",
    "An incomplete example of the first option is shown below:\n",
    "\n",
    "```c\n",
    "#include <stdio.h>\n",
    "\n",
    "int* some_func(size_t *len) {\n",
    "    // compute an array arr having length y; not shown\n",
    "    \n",
    "    // store the length of the array in *len\n",
    "    *len = y;\n",
    "    \n",
    "    // return the \"array\"\n",
    "    return arr;\n",
    "}\n",
    "\n",
    "int main(void) {\n",
    "    int x[] = { -5, 5, 99, -13, 8 };\n",
    "    int hi = max(x, 5);\n",
    "    printf(\"max = %d\\n\", hi);\n",
    "    \n",
    "    return 0;\n",
    "}\n",
    "```\n",
    "\n",
    "The above example illustrates another problem that occurs when returning an array from a function.\n",
    "Suppose that `some_func` was implemented as follows:\n",
    "\n",
    "```c\n",
    "int* some_func(size_t *len) {\n",
    "    size_t y = 100;\n",
    "    int arr[y];\n",
    "    // do something with arr here\n",
    "    \n",
    "    *len = y;\n",
    "    return arr;\n",
    "}\n",
    "```\n",
    "\n",
    "`some_func` attempts to return a pointer to an object having automatic storage duration. The array `arr`\n",
    "is not guaranteed to exist after the function returns; thus, the caller ends up with a pointer that is\n",
    "almost certainly invalid. Returning a `static` array would be acceptable in some cases, but such a\n",
    "function would always return a pointer to the same array. In general, the solution involves returning\n",
    "a pointer to a dynamically allocated array (see the *Dynamic memory allocation and deallocation*\n",
    "notebook."
   ]
  },
  {
   "cell_type": "markdown",
   "id": "bf29c7a3",
   "metadata": {},
   "source": []
  }
 ],
 "metadata": {
  "kernelspec": {
   "display_name": "C",
   "language": "c",
   "name": "c"
  },
  "language_info": {
   "file_extension": ".c",
   "mimetype": "text/x-csrc",
   "name": "text/x-csrc"
  }
 },
 "nbformat": 4,
 "nbformat_minor": 5
}
