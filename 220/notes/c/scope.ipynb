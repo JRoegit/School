{
 "cells": [
  {
   "cell_type": "markdown",
   "id": "c87fdab3",
   "metadata": {},
   "source": [
    "# Scope and lifetime of objects\n",
    "\n",
    "<div class=\"alert alert-block alert-info\">\n",
    "    You can find all of the C programs in this notebook in the subdirectory containing this notebook:\n",
    "    <code>./src/scope</code>\n",
    "</div>\n",
    "\n",
    "The contiguous region of the program where an identifier (name) can be accessed is called the *scope* of the identifier. C and Java share similarities in that blocks determine the scope of identifiers, but there are\n",
    "different kinds of scope in the two languages.\n",
    "\n",
    "The lifetime of an object determines when it is valid to use the object. In Java, the programmer usually is\n",
    "not concerned about object lifetime because the language uses garbage collection to release memory used by\n",
    "objects that can no longer be accessed. Furthermore, there are no pointers in Java which means that it is\n",
    "usually impossible to obtain a reference to a \"dead\" object. In C, the existance of pointers and the ability\n",
    "to dynamically allocate and deallocate memory means that the programmer must always be aware of object lifetime\n",
    "issues.\n",
    "\n",
    "This notebook mentions the term *linkage*. See the *Linkage* notebook for details."
   ]
  },
  {
   "cell_type": "markdown",
   "id": "ff4249ff",
   "metadata": {},
   "source": [
    "## Scope\n",
    "\n",
    "There are four kinds of scope in C:\n",
    "\n",
    "* file scope\n",
    "* block scope\n",
    "* function prototype scope\n",
    "* function scope\n",
    "\n",
    "Function scope is relevant only to labels declared inside of a function and is not discussed in this notebook."
   ]
  },
  {
   "cell_type": "markdown",
   "id": "926be11f",
   "metadata": {},
   "source": [
    "#### File scope\n",
    "\n",
    "If an identifier is declared outside of any block or parameter list then it has *file scope*. The identifier\n",
    "is usable at the point of declaration and ends at the end of the translation unit. Furthermore, other\n",
    "translation units may be able to link to such an identifier if the identifier has external linkage.\n",
    "\n",
    "The following program has three identifiers with file scope:\n",
    "\n",
    "1. the variable `j`\n",
    "2. the function `f`\n",
    "3. the function `main`"
   ]
  },
  {
   "cell_type": "code",
   "execution_count": null,
   "id": "08f93198",
   "metadata": {},
   "outputs": [],
   "source": [
    "// scope.c\n",
    "\n",
    "#include <stdio.h>\n",
    "\n",
    "int j;                                                       // j has file scope, usable from this line on\n",
    "\n",
    "void f(int i) {                                              // f has file scope, usable from this line on\n",
    "    int j = 1;\n",
    "    i++;\n",
    "    printf(\"\\tfunc: i = %d, j = %d\\n\", i, j);\n",
    "    for (int i = 0; i < 2; i++) {\n",
    "        int j = 2;\n",
    "        printf(\"\\t\\tfor loop, i = %d, j = %d\\n\", i, j);\n",
    "    }\n",
    "    printf(\"\\tfunc: i = %d, j = %d\\n\", i, j);\n",
    "    \n",
    "    // UNCOMMENT NEXT LINE TO TEST IF k IS IN SCOPE\n",
    "    // k = k + 1;\n",
    "}\n",
    "\n",
    "int k;                                                       // k has file scope, usable from this line on\n",
    "\n",
    "int main(void) {                                             // main has file scope\n",
    "    printf(\"main: j = %d\\n\", j);\n",
    "    f(100);\n",
    "    printf(\"main: j = %d\\n\", j);\n",
    "\n",
    "    return 0;\n",
    "}\n"
   ]
  },
  {
   "cell_type": "markdown",
   "id": "a70dfc07",
   "metadata": {},
   "source": [
    "The example above illustrates that where a variable is declared affects its scope. Even though `k` has\n",
    "file scope, it is not usable inside the function `f` because `k` is not in scope relative to `f`."
   ]
  },
  {
   "cell_type": "markdown",
   "id": "d740ad55",
   "metadata": {},
   "source": [
    "#### Block scope\n",
    "\n",
    "Braces `{ }` denote blocks of code (similar to Java).\n",
    "If an identifier is declared inside of a block or in a parameter list, then the identifier has *block scope*.\n",
    "The identifier is accessible everywhere in the block it is declared in after the point where it is declared.\n",
    "\n",
    "Blocks appear inside of files and inside of other blocks which causes their scopes to be nested.\n",
    "It is legal, but often confusing, to declare identifiers with the same name in different scopes.\n",
    "An identifier declared at an inner scope takes precedence over an identifier declared at an outer\n",
    "scope. We say that the other scope identifier is *hidden* at the inner scope."
   ]
  },
  {
   "cell_type": "code",
   "execution_count": null,
   "id": "a034de68",
   "metadata": {},
   "outputs": [],
   "source": [
    "// scope.c\n",
    "\n",
    "#include <stdio.h>\n",
    "\n",
    "int j;\n",
    "\n",
    "void f(int i) {                                          // i has block scope (the function f)\n",
    "    int j = 1;                                           // j has block scope; hides the file scope j\n",
    "    i++;\n",
    "    printf(\"\\tfunc: i = %d, j = %d\\n\", i, j);\n",
    "    for (int i = 0; i < 2; i++) {                        // i has block scope (the loop); hides parameter i\n",
    "        int j = 2;                                       // j has block scope (the loop); hides j from Line 8\n",
    "        printf(\"\\t\\tfor loop, i = %d, j = %d\\n\", i, j);\n",
    "    }\n",
    "    printf(\"\\tfunc: i = %d, j = %d\\n\", i, j);\n",
    "}\n",
    "\n",
    "int main(void) {                                         // main has file scope\n",
    "    printf(\"main: j = %d\\n\", j);\n",
    "    f(100);\n",
    "    printf(\"main: j = %d\\n\", j);\n",
    "\n",
    "    return 0;\n",
    "}\n"
   ]
  },
  {
   "cell_type": "markdown",
   "id": "5604825f",
   "metadata": {},
   "source": [
    "#### Function prototype scope\n",
    "\n",
    "If a function is declared, but not defined, then the parameters of the declared function have\n",
    "*function prototype scope*. "
   ]
  },
  {
   "cell_type": "code",
   "execution_count": null,
   "id": "ed27729e",
   "metadata": {},
   "outputs": [],
   "source": [
    "// function prototype\n",
    "// parameter a has function prototype scope\n",
    "void some_function(int a);  "
   ]
  },
  {
   "cell_type": "markdown",
   "id": "d404fbd3",
   "metadata": {},
   "source": [
    "Usually, function prototype scope is not very interesting but it can affect the order in\n",
    "which the parameters must appear. The following prototype is correct:"
   ]
  },
  {
   "cell_type": "code",
   "execution_count": null,
   "id": "6062c826",
   "metadata": {},
   "outputs": [],
   "source": [
    "// function prototype\n",
    "// parameters n and a have function prototype scope\n",
    "void another_function(int n, int a[n]);  "
   ]
  },
  {
   "cell_type": "markdown",
   "id": "a8151204",
   "metadata": {},
   "source": [
    "The following prototype is incorrect because the parameter `n` is used before it comes into scope:"
   ]
  },
  {
   "cell_type": "code",
   "execution_count": null,
   "id": "62c28a65",
   "metadata": {},
   "outputs": [],
   "source": [
    "// function prototype\n",
    "// parameters n and a have function prototype scope\n",
    "// error because n is used before it is in scope\n",
    "void an_incorrect_function(int a[n], int n);  "
   ]
  },
  {
   "cell_type": "markdown",
   "id": "790cafb2",
   "metadata": {},
   "source": [
    "## Lifetime\n",
    "\n",
    "The lifetime of an object is determined by its *storage duration*. There are four kinds of storage duration in C:\n",
    "\n",
    "1. automatic\n",
    "2. static\n",
    "3. allocated\n",
    "4. thread\n",
    "\n",
    "Thread storage duration is not covered in CISC220 but may be relevant in CISC324 Operating Systems."
   ]
  },
  {
   "cell_type": "markdown",
   "id": "44cb141a",
   "metadata": {},
   "source": [
    "### Automatic storage duration\n",
    "\n",
    "Automatic storage duration is the default storage duration of an object declared within a block or as a function\n",
    "parameter. Memory for the object is allocated when the block in which the object was declared is entered\n",
    "and deallocated when the block is exited by any means."
   ]
  },
  {
   "cell_type": "code",
   "execution_count": null,
   "id": "dd0d2995",
   "metadata": {},
   "outputs": [],
   "source": [
    "// scope.c\n",
    "\n",
    "#include <stdio.h>\n",
    "\n",
    "int j;\n",
    "\n",
    "void f(int i) {                                          // lifetimes of i and j start when function is called\n",
    "    int j = 1;                                           \n",
    "    i++;\n",
    "    printf(\"\\tfunc: i = %d, j = %d\\n\", i, j);\n",
    "    for (int i = 0; i < 2; i++) {                        \n",
    "        int j = 2;                                       \n",
    "        printf(\"\\t\\tfor loop, i = %d, j = %d\\n\", i, j);\n",
    "    }\n",
    "    printf(\"\\tfunc: i = %d, j = %d\\n\", i, j);\n",
    "}                                                        // lifetimes of i and j end\n",
    "\n",
    "int main(void) {                                         \n",
    "    printf(\"main: j = %d\\n\", j);\n",
    "    f(100);\n",
    "    printf(\"main: j = %d\\n\", j);\n",
    "\n",
    "    return 0;\n",
    "}\n"
   ]
  },
  {
   "cell_type": "code",
   "execution_count": null,
   "id": "101479b0",
   "metadata": {},
   "outputs": [],
   "source": [
    "// scope.c\n",
    "\n",
    "#include <stdio.h>\n",
    "\n",
    "int j;\n",
    "\n",
    "void f(int i) {                                          \n",
    "    int j = 1;                                           \n",
    "    i++;\n",
    "    printf(\"\\tfunc: i = %d, j = %d\\n\", i, j);\n",
    "    for (int i = 0; i < 2; i++) {                        // lifetime of i starts on first loop iteration\n",
    "                                                         //     lifetime of j starts on each loop iteration\n",
    "        int j = 2;                                       // \n",
    "        printf(\"\\t\\tfor loop, i = %d, j = %d\\n\", i, j);  //     lifetime of j ends after this line\n",
    "    }                                                    // lifetime of i ends on loop completion\n",
    "    printf(\"\\tfunc: i = %d, j = %d\\n\", i, j);\n",
    "}                                                        \n",
    "\n",
    "int main(void) {                                         \n",
    "    printf(\"main: j = %d\\n\", j);\n",
    "    f(100);\n",
    "    printf(\"main: j = %d\\n\", j);\n",
    "\n",
    "    return 0;\n",
    "}\n"
   ]
  },
  {
   "cell_type": "markdown",
   "id": "729aac3f",
   "metadata": {},
   "source": [
    "Objects with automatic storage duration *are not automatically initialized*. If you declare a (non-static)\n",
    "variable inside of a block and do not provide an explicit initial value, then the value of the variable\n",
    "is indeterminate (could be any value). This often leads to difficult to find bugs. Consider the following\n",
    "program that contains a function that computes the sum of the first $n$ natural numbers:"
   ]
  },
  {
   "cell_type": "code",
   "execution_count": null,
   "id": "531dc7cd",
   "metadata": {},
   "outputs": [],
   "source": [
    "// sum_of.c\n",
    "\n",
    "#include <stdio.h>\n",
    "\n",
    "unsigned long sum_of(unsigned int n) {\n",
    "    unsigned long sum;                        // uh-oh, uninitialized block scope variable\n",
    "    for (unsigned int i = 0; i <= n; i++) {\n",
    "        sum += i;\n",
    "    }\n",
    "    return sum;\n",
    "}\n",
    "\n",
    "int main(void) {\n",
    "    for (int i = 1; i < 10; i++) {\n",
    "        unsigned long s = sum_of(i);\n",
    "        printf(\"sum_of(%d) = %lu\\n\", i, s);\n",
    "    }\n",
    "    \n",
    "    return 0;\n",
    "} "
   ]
  },
  {
   "cell_type": "markdown",
   "id": "2ec0e180",
   "metadata": {},
   "source": [
    "If you are unlucky, then running the cell above might print the correct sum for some values of `n` because\n",
    "by chance, the value of variable `sum` happened to be equal to `0`."
   ]
  },
  {
   "cell_type": "markdown",
   "id": "2a947ee9",
   "metadata": {},
   "source": [
    "### Static storage duration\n",
    "\n",
    "Static storage duration is the storage duration of an object having file scope and of objects declared\n",
    "to be `static`. The lifetime of such an object is the entire execution of the program. The value stored\n",
    "in the object is initialized exactly once before the program begins running. Unlike objects with\n",
    "automatic storage duration, static storage duration objects are given default initialization values\n",
    "when no explicit initial value is specified:\n",
    "\n",
    "* if the object has a pointer type, then it is initialized to a null pointer\n",
    "* if the object has an arithmetic type, then it is initialized to positive or unsigned zero\n",
    "* if the object is a struct, then every member is initialized recursively according to the previous rules"
   ]
  },
  {
   "cell_type": "code",
   "execution_count": null,
   "id": "91802fa6",
   "metadata": {},
   "outputs": [],
   "source": [
    "// scope.c\n",
    "\n",
    "#include <stdio.h>\n",
    "\n",
    "int j;        // lifetime of j is for the entire program execution, initial value is 0\n",
    "\n",
    "void f(int i) {                                         \n",
    "    int j = 1;                                           \n",
    "    i++;\n",
    "    printf(\"\\tfunc: i = %d, j = %d\\n\", i, j);\n",
    "    for (int i = 0; i < 2; i++) {                        \n",
    "        int j = 2;                                       \n",
    "        printf(\"\\t\\tfor loop, i = %d, j = %d\\n\", i, j);\n",
    "    }\n",
    "    printf(\"\\tfunc: i = %d, j = %d\\n\", i, j);\n",
    "}                                                        \n",
    "\n",
    "int main(void) {                                         \n",
    "    printf(\"main: j = %d\\n\", j);\n",
    "    f(100);\n",
    "    printf(\"main: j = %d\\n\", j);\n",
    "\n",
    "    return 0;\n",
    "}\n"
   ]
  },
  {
   "cell_type": "markdown",
   "id": "19bb48f8",
   "metadata": {},
   "source": [
    "#### Static variables\n",
    "\n",
    "Variables may be declared using the specified `static` storage-class specifier. A `static` variable\n",
    "has static storage duration (there is an exception to this that is beyond the scope of this notebook)\n",
    "and it also has what is called *internal linkage*. Internal linkage means that the variable is visible\n",
    "only inside of its translation unit.\n",
    "\n",
    "**`static` file scope variables (and functions)**  \n",
    "\n",
    "A `static` file scope variable has static storage duration and is visible only inside of the translation\n",
    "unit that it is declared in. Such a variable is somewhat similar to a `private static` field in Java (only one\n",
    "copy of the field exists and the field is visible only inside of the class that declares it).\n",
    "\n",
    "The following program uses a `static` file scope variable to compute and print the sum of the first $n$ natural\n",
    "numbers:"
   ]
  },
  {
   "cell_type": "code",
   "execution_count": null,
   "id": "978e9ed3",
   "metadata": {},
   "outputs": [],
   "source": [
    "// sum_of2.c\n",
    "\n",
    "#include <stdio.h>\n",
    "\n",
    "static unsigned int sum = 0;\n",
    "\n",
    "void sum_of(unsigned int n) {\n",
    "    for (unsigned int i = 0; i <= n; i++) {\n",
    "        sum += i;\n",
    "    }\n",
    "}\n",
    "\n",
    "void print_sum() {\n",
    "    printf(\"sum_of(10) = %u\\n\", sum);\n",
    "}\n",
    "\n",
    "int main(void) {\n",
    "    sum_of(10);\n",
    "    print_sum();\n",
    "    \n",
    "    return 0;\n",
    "} "
   ]
  },
  {
   "cell_type": "markdown",
   "id": "a3154f21",
   "metadata": {},
   "source": [
    "The above example illustrates a common bug when using `static` variables: The function `sum_of` computes\n",
    "the wrong result if it is called more than once with a value of `n > 0`:"
   ]
  },
  {
   "cell_type": "code",
   "execution_count": null,
   "id": "ca507ba6",
   "metadata": {},
   "outputs": [],
   "source": [
    "// sum_of2_fails.c\n",
    "\n",
    "#include <stdio.h>\n",
    "\n",
    "static unsigned int sum = 0;\n",
    "\n",
    "void sum_of(unsigned int n) {\n",
    "    for (unsigned int i = 0; i <= n; i++) {\n",
    "        sum += i;\n",
    "    }\n",
    "}\n",
    "\n",
    "void print_sum() {\n",
    "    printf(\"sum_of(10) = %u\\n\", sum);\n",
    "}\n",
    "\n",
    "int main(void) {\n",
    "    sum_of(10);\n",
    "    print_sum();\n",
    "    \n",
    "    // call sum_of a second time\n",
    "    sum_of(10);\n",
    "    print_sum();\n",
    "    \n",
    "    return 0;\n",
    "} "
   ]
  },
  {
   "cell_type": "markdown",
   "id": "3cfd31b9",
   "metadata": {},
   "source": [
    "The error is that the function `sum_of` does not set `sum` to `0` before accumulating the sum (which is\n",
    "easily fixed). The real issue here is that the use of a `static` variable is inappropriate: It would\n",
    "be better if `sum_of` used a local variable to accumulate the sum and return the sum as a return value,\n",
    "and add a parameter to `print_sum` which contains the value to print."
   ]
  },
  {
   "cell_type": "markdown",
   "id": "3820c33e",
   "metadata": {},
   "source": [
    "<div class=\"alert alert-block alert-info\">\n",
    "    We won't be using such functions in this course, but\n",
    "    a function may also be specified as being <tt>static</tt> in which case the function is visible only \n",
    "    inside of the translation unit that it is declared in. Such a function is somewhat similar to a\n",
    "    <tt>private static</tt> method in Java (the function is visible only inside of the class that declares it).\n",
    "</div>"
   ]
  },
  {
   "cell_type": "markdown",
   "id": "af406ad9",
   "metadata": {},
   "source": [
    "**`static` block scope variables**\n",
    "\n",
    "A `static` block scope variable can be used by a function to retain information between function calls.\n",
    "The following function implements a counter whose value can be queried or incremented upwards:"
   ]
  },
  {
   "cell_type": "code",
   "execution_count": null,
   "id": "4845c761",
   "metadata": {},
   "outputs": [],
   "source": [
    "// counter.c\n",
    "\n",
    "#include <stdio.h>\n",
    "\n",
    "unsigned int count(unsigned int increment) {\n",
    "    static unsigned int value = 0;           // initialized to 0 exactly once, retains value between calls;\n",
    "                                             // scope is limited to the function count\n",
    "    if (increment > 0) {\n",
    "        // potential overflow bug\n",
    "        value += increment;\n",
    "    }\n",
    "    return value;\n",
    "}\n",
    "\n",
    "int main(void) {\n",
    "    // current value of the counter\n",
    "    unsigned int c = count(0);\n",
    "    printf(\"current count = %u\\n\", c);\n",
    "    c = count(1);\n",
    "    printf(\"increment, current count = %u\\n\", c);\n",
    "    c = count(1);\n",
    "    printf(\"increment, current count = %u\\n\", c);\n",
    "    c = count(1);\n",
    "    printf(\"increment, current count = %u\\n\", c);\n",
    "    c = count(0);\n",
    "    printf(\"current count = %u\\n\", c);\n",
    "    \n",
    "    return 0;\n",
    "}"
   ]
  },
  {
   "cell_type": "markdown",
   "id": "0388f32e",
   "metadata": {},
   "source": [
    "Functions that retain information between calls are uncommon. One notable exception is the\n",
    "Standard Library function `strtok` declared in `<string.h>`."
   ]
  },
  {
   "cell_type": "markdown",
   "id": "530b3765",
   "metadata": {},
   "source": [
    "### Allocated storage duration\n",
    "\n",
    "An object having allocated storage duration is one where the programmer fully controls the lifetime\n",
    "of the object. To create such an object, the programmer:\n",
    "\n",
    "* requests memory for the object using a dynamic memory allocation function\n",
    "* assigns a value to the object\n",
    "* uses the object for as long as required\n",
    "* releases memory used by the object using a dynamic memory deallocation function\n",
    "\n",
    "If the object itself (as opposed to a shallow copy of the object) must persist across one or more function calls\n",
    "then an object having either static or allocated storage duration is required. An object having\n",
    "static storage duration must be known at compile time; thus, static storage duration is unsuitable\n",
    "for objects created during the runtime of the program.\n",
    "\n",
    "Perhaps the clearest example where allocated storage duration is required is when a function must create and\n",
    "return an array (or more precisely, return a pointer to the first element of the array). The obvious approach\n",
    "does not work in C:\n",
    "\n"
   ]
  },
  {
   "cell_type": "code",
   "execution_count": null,
   "id": "0b9bfc4b",
   "metadata": {},
   "outputs": [],
   "source": [
    "// badarray.c\n",
    "\n",
    "#include <stdio.h>\n",
    "\n",
    "int* intarray(size_t len) {\n",
    "    if (len == 0) {\n",
    "        len = 1;\n",
    "    }\n",
    "    int arr[len];                        // arr lifetime starts here\n",
    "    return arr;                          // arr lifetime ends when function returns\n",
    "}\n",
    "\n",
    "int main(void) {\n",
    "    int *a = intarray(10);\n",
    "    printf(\"a[0] = %d\\n\", a[0]);\n",
    "    \n",
    "    return 0;\n",
    "}"
   ]
  },
  {
   "cell_type": "markdown",
   "id": "5079a758",
   "metadata": {},
   "source": [
    "The example above causes a warning when compiled on the author's computer, and fails at runtime when attempting\n",
    "to access the array element.\n",
    "\n",
    "The example above fails because the array created in the function `intarray` has automatic storage duration. its\n",
    "lifetime ends when the function returns which causes the `main` function to access an invalid memory\n",
    "location when attempting to read from the array.\n",
    "\n",
    "Details of creating objects having allocated storage duration can be found in the \n",
    "*Dynamic memory allocation and deallocation* notebook."
   ]
  },
  {
   "cell_type": "code",
   "execution_count": null,
   "id": "cd8db188",
   "metadata": {},
   "outputs": [],
   "source": []
  }
 ],
 "metadata": {
  "kernelspec": {
   "display_name": "C",
   "language": "c",
   "name": "c"
  },
  "language_info": {
   "file_extension": ".c",
   "mimetype": "text/x-csrc",
   "name": "text/x-csrc"
  }
 },
 "nbformat": 4,
 "nbformat_minor": 5
}
