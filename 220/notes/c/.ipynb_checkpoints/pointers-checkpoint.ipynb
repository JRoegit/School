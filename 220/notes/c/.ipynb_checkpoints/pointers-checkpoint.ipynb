{
 "cells": [
  {
   "cell_type": "markdown",
   "id": "51c8f89f",
   "metadata": {},
   "source": [
    "# Pointers\n",
    "\n",
    "> A pointer references a location in memory, and obtaining the value stored at that location is known as\n",
    "> dereferencing the pointer. As an analogy, a page number in a book's index could be considered a pointer to \n",
    "> the corresponding page; dereferencing such a pointer would be done by flipping to the page with the given \n",
    "> page number and reading the text found on that page.\n",
    ">\n",
    "> https://en.wikipedia.org/wiki/Pointer_(computer_programming)\n",
    "\n",
    "A pointer is an object that stores the address of another object. If `T` is some type, then `T *` is a pointer that\n",
    "can store the address an object of type `T`. Consider the following example:\n",
    "\n",
    "```c\n",
    "int *ptr;\n",
    "```\n",
    "\n",
    "`ptr` is a pointer object that can store the address of an object of type `int`. Most programmers would\n",
    "simply say that `ptr` is a pointer to `int`.\n",
    "\n",
    "There is no universally agreed on style for declaring pointer variables. Each of the following are legal\n",
    "ways of declaring a pointer:\n",
    "\n",
    "```c\n",
    "int *ptr1;\n",
    "int* ptr2;\n",
    "int * ptr3;\n",
    "```\n",
    "\n",
    "None of the pointers `ptr1`, `ptr2`, or `ptr3` are initialized; thus, they almost certainly do not\n",
    "point at valid `int` objects. Before using a pointer to perform some computation, the programmer must\n",
    "ensure that the pointer actually points at a valid object."
   ]
  },
  {
   "cell_type": "markdown",
   "id": "f8e78487",
   "metadata": {},
   "source": [
    "## `NULL`\n",
    "\n",
    "The name `NULL` defined in the header `<stddef.h>` means \"no object\". Any pointer variable can be assigned \n",
    "a value of `NULL` and such a pointer is called a null pointer:\n",
    "\n",
    "```c\n",
    "#include <stddef.h>\n",
    "\n",
    "int *ptr = NULL;\n",
    "```\n",
    "\n",
    "The integer literal `0` can be used in place of `NULL`, but `NULL` is usually clearer in meaning.\n",
    "\n",
    "It is important to note that there are no safe operations that can be performed with a null pointer\n",
    "except to test if the pointer is `NULL` or not `NULL`. To test if a pointer `ptr` is a null pointer we\n",
    "can use any of the following:\n",
    "\n",
    "```c\n",
    "if (!ptr) {\n",
    "    // ptr is NULL\n",
    "}\n",
    "\n",
    "if (ptr == NULL) {\n",
    "    // ptr is NULL\n",
    "}\n",
    "\n",
    "if (ptr == 0) {\n",
    "    // ptr is NULL, but arguably less clear than using NULL\n",
    "}\n",
    "```\n",
    "\n",
    "To test if a pointer `ptr` is not a null pointer we can use any of the following:\n",
    "\n",
    "```c\n",
    "if (ptr) {\n",
    "    // ptr is not NULL\n",
    "}\n",
    "\n",
    "if (ptr != NULL) {\n",
    "    // ptr is not NULL\n",
    "}\n",
    "\n",
    "if (ptr != 0) {\n",
    "    // ptr is not NULL, but arguably less clear than using NULL\n",
    "}\n",
    "```\n",
    "\n",
    "A null pointer can be used to indicate the absence of an object. In an array of pointer objects, a null\n",
    "pointer can be used to indicate that there are no more elements in the array (similar to how `\\0` is\n",
    "used to indicate the end of a string). A null pointer may also be used to indicate an error condition."
   ]
  },
  {
   "cell_type": "markdown",
   "id": "6e56383d",
   "metadata": {},
   "source": [
    "## A pointer should refer to an object\n",
    "\n",
    "A pointer stores the address of an object but how does the programmer obtain the address of an object?\n",
    "The *address of* operator `&` creates a pointer that refers to an object:\n",
    "\n",
    "```c\n",
    "int a = 99;\n",
    "int *ptr = &a;\n",
    "```\n",
    "\n",
    "In the example above, `&a` yields a pointer to the `int` stored in the variable `a`, and that pointer\n",
    "is then assigned to the variable `ptr`.\n",
    "\n",
    "`ptr` can store a pointer to any `int` object so it is perfectly legal to re-assign which object is pointed at:\n",
    "\n",
    "\n",
    "```c\n",
    "int a = 99;\n",
    "int *ptr = &a;\n",
    "\n",
    "int b = 55;\n",
    "ptr = &b;\n",
    "```\n"
   ]
  },
  {
   "cell_type": "markdown",
   "id": "00b5c133",
   "metadata": {},
   "source": [
    "## Obtaining the value that the pointer refers to\n",
    "\n",
    "The *pointer dereference* operator `*` dereferences a pointer to access the object that the pointer refers to.\n",
    "The following example dereferences a pointer to compute the sum `a + 1`:"
   ]
  },
  {
   "cell_type": "code",
   "execution_count": 1,
   "id": "49771302",
   "metadata": {},
   "outputs": [
    {
     "name": "stdout",
     "output_type": "stream",
     "text": [
      "a = 99\n",
      "b = 100\n"
     ]
    }
   ],
   "source": [
    "// ptr1.c\n",
    "\n",
    "#include <stdio.h>\n",
    "\n",
    "int main(void) {\n",
    "    int a = 99;\n",
    "    int *ptr = &a;        // ptr refers to a\n",
    "    int b = *ptr + 1      // b = a + 1\n",
    "        \n",
    "    printf(\"a = %d\\n\", a);\n",
    "    printf(\"b = %d\\n\", b);\n",
    "    \n",
    "    return 0;\n",
    "}"
   ]
  },
  {
   "cell_type": "markdown",
   "id": "fb769fe9",
   "metadata": {},
   "source": [
    "A value can be assigned to the object obtained via pointer dereferencing:"
   ]
  },
  {
   "cell_type": "code",
   "execution_count": 2,
   "id": "62907a25",
   "metadata": {},
   "outputs": [
    {
     "name": "stdout",
     "output_type": "stream",
     "text": [
      "a = -33\n"
     ]
    }
   ],
   "source": [
    "// ptr2.c \n",
    "\n",
    "#include <stdio.h>\n",
    "\n",
    "int main(void) {\n",
    "    int a = 99;\n",
    "    int *ptr = &a;        // ptr refers to a\n",
    "    *ptr = -33;           // assigns -33 to a\n",
    "        \n",
    "    printf(\"a = %d\\n\", a);\n",
    "    \n",
    "    return 0;\n",
    "}"
   ]
  },
  {
   "cell_type": "markdown",
   "id": "00f7a2c2",
   "metadata": {},
   "source": [
    "Undefined behavior results if a null pointer is dereferenced:"
   ]
  },
  {
   "cell_type": "code",
   "execution_count": 4,
   "id": "eab69441",
   "metadata": {},
   "outputs": [
    {
     "name": "stderr",
     "output_type": "stream",
     "text": [
      "[C kernel] Executable exited with code -11"
     ]
    }
   ],
   "source": [
    "// ptr3.c \n",
    "\n",
    "#include <stdio.h>\n",
    "\n",
    "int main(void) {\n",
    "    int *ptr = NULL;\n",
    "    *ptr = -33;           // oops, null pointer dereference\n",
    "        \n",
    "    printf(\"a = %d\\n\", *ptr);\n",
    "    \n",
    "    return 0;\n",
    "}"
   ]
  },
  {
   "cell_type": "markdown",
   "id": "e94660a3",
   "metadata": {},
   "source": [
    "## `void` pointers\n",
    "\n",
    "The pointer type `void *` can point to an object of any type:"
   ]
  },
  {
   "cell_type": "code",
   "execution_count": 9,
   "id": "2d982fd1",
   "metadata": {},
   "outputs": [
    {
     "name": "stderr",
     "output_type": "stream",
     "text": [
      "/tmp/tmpmygy9ivb.c: In function ‘main’:\n",
      "/tmp/tmpmygy9ivb.c:8:7: warning: variable ‘p’ set but not used [-Wunused-but-set-variable]\n",
      "    8 | void *p = &x;         // ok, p points to x\n",
      "      |       ^\n"
     ]
    }
   ],
   "source": [
    "int x = 1;\n",
    "double y = 2;\n",
    "char str[] = \"hello\";\n",
    "    \n",
    "void *p = &x;         // ok, p points to x\n",
    "p = &y;               // ok, p points to y\n",
    "p = str;              // ok, p points to first element of str"
   ]
  },
  {
   "cell_type": "markdown",
   "id": "8872033b",
   "metadata": {},
   "source": [
    "It is an error to attempt to dereference a void pointer because the compiler cannot determine the type\n",
    "of the object being pointed at:"
   ]
  },
  {
   "cell_type": "code",
   "execution_count": 11,
   "id": "89be559e",
   "metadata": {},
   "outputs": [
    {
     "name": "stderr",
     "output_type": "stream",
     "text": [
      "/tmp/tmpu7aqv87q.c: In function ‘main’:\n",
      "/tmp/tmpu7aqv87q.c:7:13: warning: dereferencing ‘void *’ pointer\n",
      "    7 |     int y = *p;\n",
      "      |             ^~\n",
      "/tmp/tmpu7aqv87q.c:7:13: error: void value not ignored as it ought to be\n",
      "    7 |     int y = *p;\n",
      "      |             ^\n",
      "/tmp/tmpu7aqv87q.c:7:9: warning: unused variable ‘y’ [-Wunused-variable]\n",
      "    7 |     int y = *p;\n",
      "      |         ^\n",
      "[C kernel] GCC exited with code 1, the executable will not be executed"
     ]
    }
   ],
   "source": [
    "#include <stdio.h>\n",
    "\n",
    "int main(void) {\n",
    "    int x = 1;\n",
    "    void *p = &x;\n",
    "    \n",
    "    int y = *p;      // error, dereference of void pointer\n",
    "    \n",
    "    return 0;\n",
    "}"
   ]
  },
  {
   "cell_type": "markdown",
   "id": "288307ba",
   "metadata": {},
   "source": [
    "The pointer can be dereferenced if it is cast to an appropriate type first:"
   ]
  },
  {
   "cell_type": "code",
   "execution_count": 12,
   "id": "c5777f75",
   "metadata": {},
   "outputs": [
    {
     "name": "stdout",
     "output_type": "stream",
     "text": [
      "y = 1\n"
     ]
    }
   ],
   "source": [
    "#include <stdio.h>\n",
    "\n",
    "int main(void) {\n",
    "    int x = 1;\n",
    "    void *p = &x;\n",
    "    \n",
    "    int y = *((int *) p);      // ok, dereferencing pointer to int\n",
    "    printf(\"y = %d\\n\", y);\n",
    "    \n",
    "    return 0;\n",
    "}"
   ]
  },
  {
   "cell_type": "markdown",
   "id": "929a8b73",
   "metadata": {},
   "source": [
    "One use of void pointers are for implementing generic data types."
   ]
  },
  {
   "cell_type": "markdown",
   "id": "061cf351",
   "metadata": {},
   "source": [
    "# Using pointers to solve a common programming problem\n",
    "\n",
    "A common programming problem is writing a function to change the value of one of its parameters. A simple\n",
    "example is a function that swaps the values its two parameters. A first attempt at such a function might\n",
    "look like so:"
   ]
  },
  {
   "cell_type": "code",
   "execution_count": 3,
   "id": "79cfac6d",
   "metadata": {},
   "outputs": [
    {
     "name": "stdout",
     "output_type": "stream",
     "text": [
      "before calling swap: a = 1.500000, b = 99.900000\n",
      "inside swap: x = 99.900000, y = 1.500000\n",
      "after calling swap: a = 1.500000, b = 99.900000\n"
     ]
    }
   ],
   "source": [
    "// badswap.c\n",
    "\n",
    "#include <stdio.h>\n",
    "\n",
    "void swap(double x, double y) {\n",
    "    double tmp = x;\n",
    "    x = y;\n",
    "    y = tmp;\n",
    "    printf(\"inside swap: x = %f, y = %f\\n\", x, y);\n",
    "}\n",
    "\n",
    "int main(void) {\n",
    "    double a = 1.5;\n",
    "    double b = 99.9;\n",
    "    \n",
    "    printf(\"before calling swap: a = %f, b = %f\\n\", a, b);\n",
    "    swap(a, b);\n",
    "    printf(\"after calling swap: a = %f, b = %f\\n\", a, b);\n",
    "    \n",
    "    return 0;\n",
    "}"
   ]
  },
  {
   "cell_type": "markdown",
   "id": "1968d9c2",
   "metadata": {},
   "source": [
    "Running the example above illustrates that the `swap` function manages to swap the values of the parameters\n",
    "`x` and `y` but does not swap the values of the arguments `a` and `b`. The reason this is occurs is because\n",
    "C uses pass-by-value to transfer the values of the arguments to the parameters of the function. In pass-by-value,\n",
    "the value of the arguments are copied into the parameters and the function manipulates the parameters. The values\n",
    "of the parameters are *not* copied back to the arguments at the end of the function.\n",
    "\n",
    "For `swap` to swap the values of the arguments, `swap` would need to receive the actual objects corresponding\n",
    "to the arguments. The solution in C is to pass a pointer to the objects that should be swapped:"
   ]
  },
  {
   "cell_type": "code",
   "execution_count": 4,
   "id": "d352507d",
   "metadata": {},
   "outputs": [
    {
     "name": "stdout",
     "output_type": "stream",
     "text": [
      "before calling swap: a = 1.500000, b = 99.900000\n",
      "inside swap: x = 99.900000, y = 1.500000\n",
      "after calling swap: a = 99.900000, b = 1.500000\n"
     ]
    }
   ],
   "source": [
    "// swap.c\n",
    "\n",
    "#include <stdio.h>\n",
    "\n",
    "void swap(double *x, double *y) {\n",
    "    double tmp = *x;    // tmp gets the value of the object pointed to by x\n",
    "    *x = *y;            // the object pointed to by x gets the value of the object pointed to by y\n",
    "    *y = tmp;           // the object pointed to by y gets the value of tmp\n",
    "    printf(\"inside swap: x = %f, y = %f\\n\", *x, *y);\n",
    "}\n",
    "\n",
    "int main(void) {\n",
    "    double a = 1.5;\n",
    "    double b = 99.9;\n",
    "    \n",
    "    printf(\"before calling swap: a = %f, b = %f\\n\", a, b);\n",
    "    swap(&a, &b);      // calls swap with the address of a and the address of b\n",
    "    printf(\"after calling swap: a = %f, b = %f\\n\", a, b);\n",
    "}"
   ]
  },
  {
   "cell_type": "markdown",
   "id": "065ff033",
   "metadata": {},
   "source": [
    "Another example of using a pointer as a function parameter is in a function that needs to return more than\n",
    "one value. For example, it is often useful to return the maximum value and the index of the maximum value\n",
    "when finding the maximum value in an array. One way to do so is to return one value using the return value\n",
    "and the second value is set by dereferencing a pointer passed in by the caller:"
   ]
  },
  {
   "cell_type": "code",
   "execution_count": 3,
   "id": "14a12fce",
   "metadata": {},
   "outputs": [
    {
     "name": "stdout",
     "output_type": "stream",
     "text": [
      "max = 9, index = 5\n"
     ]
    }
   ],
   "source": [
    "// max.c\n",
    "\n",
    "#include <stdio.h>\n",
    "\n",
    "// Returns the maximum value in the array a having count elements.\n",
    "// The index of the maximum element is stored in the object pointed at\n",
    "// by index.\n",
    "int max(int a[], size_t count, size_t *index) {\n",
    "    int hi = a[0];\n",
    "    size_t i_hi = 0;\n",
    "    for (size_t i = 1; i < count; i++) {\n",
    "        if (a[i] > hi) {\n",
    "            hi = a[i];\n",
    "            i_hi = i;\n",
    "        }\n",
    "    }\n",
    "    *index = i_hi;\n",
    "    return hi;\n",
    "}\n",
    "\n",
    "int main(void) {\n",
    "    int arr[] = { 6, 3, 1, 8, 7, 9, 4, 2, 5 };\n",
    "    \n",
    "    // must declare a variable to store the index in\n",
    "    size_t i;\n",
    "    int big = max(arr, 9, &i);\n",
    "    \n",
    "    printf(\"max = %d, index = %lu\\n\", big, i);\n",
    "    \n",
    "    return 0;\n",
    "}"
   ]
  },
  {
   "cell_type": "markdown",
   "id": "febd236f",
   "metadata": {},
   "source": [
    "A common mistake made by new C programmers when using a function such as `max` is to use a pointer that\n",
    "does not point at an actual object. In the example below, the programmer has used a pointer object as\n",
    "the argument to `max`, but the pointer does not actually point at a valid object:"
   ]
  },
  {
   "cell_type": "code",
   "execution_count": 4,
   "id": "70d80c79",
   "metadata": {},
   "outputs": [
    {
     "name": "stderr",
     "output_type": "stream",
     "text": [
      "/tmp/tmp5calr9vw.c: In function ‘main’:\n",
      "/tmp/tmp5calr9vw.c:26:15: warning: ‘i’ is used uninitialized [-Wuninitialized]\n",
      "   26 |     int big = max(arr, 9, i);\n",
      "      |               ^~~~~~~~~~~~~~\n",
      "[C kernel] Executable exited with code -11"
     ]
    }
   ],
   "source": [
    "// bad_call_to_max.c\n",
    "\n",
    "#include <stdio.h>\n",
    "\n",
    "// Returns the maximum value in the array a having count elements.\n",
    "// The index of the maximum element is stored in the object pointed at\n",
    "// by index.\n",
    "int max(int a[], size_t count, size_t *index) {\n",
    "    int hi = a[0];\n",
    "    size_t i_hi = 0;\n",
    "    for (size_t i = 1; i < count; i++) {\n",
    "        if (a[i] > hi) {\n",
    "            hi = a[i];\n",
    "            i_hi = i;\n",
    "        }\n",
    "    }\n",
    "    *index = i_hi;\n",
    "    return hi;\n",
    "}\n",
    "\n",
    "int main(void) {\n",
    "    int arr[] = { 6, 3, 1, 8, 7, 9, 4, 2, 5 };\n",
    "    \n",
    "    // oops, i is uninitialized and does not point at a valid object\n",
    "    size_t *i;\n",
    "    int big = max(arr, 9, i);\n",
    "    \n",
    "    printf(\"max = %d, index = %lu\\n\", big, i);\n",
    "    \n",
    "    return 0;\n",
    "}"
   ]
  },
  {
   "cell_type": "markdown",
   "id": "c4f907b1",
   "metadata": {},
   "source": [
    "## Pointers and large objects\n",
    "\n",
    "The `max` function in the previous section is an example of a function that has an array as one of its\n",
    "parameters. We know that C uses pass-by-value when calling a function, so it would be reasonable to conclude\n",
    "that calling `max` results in copying the contents of the caller's array into the array parameter `a` which\n",
    "can be a time consuming operation if the array is large. Furthermore, making a copy of the array is wasteful\n",
    "in this example because the array is never modified. Pointers solve the problem of passing and returning\n",
    "large objects to and from functions. Instead of using pass-by-value, a pointer to the object can be passed\n",
    "which means that a single pointer value must be copied instead of copying an entire object. When passing or\n",
    "returning an array to or from a function, the array actually decays to a pointer to the first element\n",
    "of the array (see the *Arrays* notebook for details)."
   ]
  },
  {
   "cell_type": "markdown",
   "id": "a7ff5771",
   "metadata": {},
   "source": [
    "## Pointer comparisons\n",
    "\n",
    "Two pointers `p` and `q` are considered to be equal (`p == q` is true, `p != q` is false)\n",
    "if any of the following is true:\n",
    "\n",
    "* both pointers are null pointers of the same type\n",
    "* both pointers point to the same object\n",
    "* one pointer is a pointer to an array and the second pointer is a pointer to the first element of the\n",
    "same array (see the *Arrays* notebook)\n",
    "* one pointer is a pointer to a struct and the second pointer is a pointer to the first member of the\n",
    "same struct (see the *Struct* notebook)\n",
    "* both pointers are too-far pointers in the same array (see the *Arrays* notebook)\n",
    "\n",
    "If none of the above are true, then the two pointers are considered to be unequal (`p == q` is false, \n",
    "`p != q` is true).\n",
    "\n",
    "The following example illustrates the first two cases:"
   ]
  },
  {
   "cell_type": "code",
   "execution_count": 8,
   "id": "44a3422e",
   "metadata": {},
   "outputs": [
    {
     "name": "stdout",
     "output_type": "stream",
     "text": [
      "p not equals q\n",
      "p equals q\n"
     ]
    }
   ],
   "source": [
    "\n",
    "#include <stdio.h>\n",
    "\n",
    "int main(void) {\n",
    "    int x = 1;      // x and y have the same value but are different objects\n",
    "    int y = 1;\n",
    "    \n",
    "    int *p = &x;    // p points at x\n",
    "    int *q = &y;    // q points at y\n",
    "    \n",
    "    if (p == q) {\n",
    "        puts(\"p equals q\");\n",
    "    }\n",
    "    else {\n",
    "        puts(\"p not equals q\");\n",
    "    }\n",
    "    \n",
    "    p = NULL;\n",
    "    q = NULL;\n",
    "    \n",
    "    if (p == q) {\n",
    "        puts(\"p equals q\");\n",
    "    }\n",
    "    else {\n",
    "        puts(\"p not equals q\");\n",
    "    }\n",
    "    \n",
    "    return 0;\n",
    "}"
   ]
  },
  {
   "cell_type": "markdown",
   "id": "c9471cd4",
   "metadata": {},
   "source": [
    "The operators `<`, `<=`, `>` and `>=` can also be used to compare pointers. See the *Arrays* notebook\n",
    "for details."
   ]
  },
  {
   "cell_type": "markdown",
   "id": "e3f7ee6e",
   "metadata": {},
   "source": [
    "## Pointer arithmetic\n",
    "\n",
    "A pointer and integer can be summed or subtracted to produce a new pointer. Two pointers can be subtracted\n",
    "to yield an integer value. These operations are useful when working with arrays. See the *Arrays* notebook\n",
    "for details."
   ]
  },
  {
   "cell_type": "code",
   "execution_count": null,
   "id": "0a123816",
   "metadata": {},
   "outputs": [],
   "source": []
  }
 ],
 "metadata": {
  "kernelspec": {
   "display_name": "C",
   "language": "c",
   "name": "c"
  },
  "language_info": {
   "file_extension": ".c",
   "mimetype": "text/x-csrc",
   "name": "text/x-csrc"
  }
 },
 "nbformat": 4,
 "nbformat_minor": 5
}
