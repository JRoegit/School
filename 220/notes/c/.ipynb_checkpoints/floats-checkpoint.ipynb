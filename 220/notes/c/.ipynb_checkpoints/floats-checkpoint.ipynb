{
 "cells": [
  {
   "cell_type": "markdown",
   "id": "53a48acc",
   "metadata": {},
   "source": [
    "# Floating-point types\n",
    "\n",
    "<div class=\"alert alert-block alert-info\">\n",
    "    You can find all of the C programs in this notebook in the subdirectory containing this notebook:\n",
    "    <code>./src/floats</code>\n",
    "</div>\n",
    "\n",
    "C has three floating-point types:\n",
    "\n",
    "* `float`\n",
    "* `double`\n",
    "* `long double`\n",
    "\n",
    "`float` and `double` behave the same as the primitive types `float` and `double` in Java on CPUs that\n",
    "support the IEEE754 binary floating-point formats. `long double` matches the IEEE754 128-bit floating-point\n",
    "format if it is supported by the CPU."
   ]
  },
  {
   "cell_type": "markdown",
   "id": "18b5ad41",
   "metadata": {},
   "source": [
    "#### `<float.h>`\n",
    "\n",
    "Constants related to the limits of floating-point numeric types are found in `<float.h>`.\n",
    "See https://en.cppreference.com/w/c/types/limits#Limits_of_floating_point_types"
   ]
  },
  {
   "cell_type": "markdown",
   "id": "4b0b9bed",
   "metadata": {},
   "source": [
    "#### `<math.h>`\n",
    "\n",
    "The special values corresponding to not-a-number and infinity are defined in `<math.h>` as are functions\n",
    "that can test if a floating-point value is not-a-number or infinity:"
   ]
  },
  {
   "cell_type": "code",
   "execution_count": null,
   "id": "fee70931",
   "metadata": {},
   "outputs": [],
   "source": [
    "// special_floats.c\n",
    "\n",
    "#include <math.h>\n",
    "#include <stdio.h>\n",
    "\n",
    "int main(void) {\n",
    "    double d = 1.0 / 0.0;\n",
    "    if (d == INFINITY) {\n",
    "        puts(\"1. d is infinite\");\n",
    "    }\n",
    "    if (isinf(d)) {\n",
    "        puts(\"2. d is infinite\");\n",
    "    }\n",
    "    \n",
    "    d = 0.0 / 0.0;\n",
    "    if (d == NAN) {\n",
    "        // d == NAN is never true according to IEEE754\n",
    "        puts(\"3. d is not a number\");\n",
    "    }\n",
    "    if (isnan(d)) {\n",
    "        puts(\"4. d is not a number\");\n",
    "    }\n",
    "    \n",
    "    return 0;\n",
    "}"
   ]
  },
  {
   "cell_type": "markdown",
   "id": "55011858",
   "metadata": {},
   "source": [
    "Compiling a program that uses `<math.h>` usually (but not always) requires linking to an additional library\n",
    "when using `gcc`. Use the compiler option `-lm` (hyphen ell em) to link to the GNU math library:\n",
    "\n",
    "```sh\n",
    "gcc special_floats.c -o special_floats -lm\n",
    "```"
   ]
  },
  {
   "cell_type": "markdown",
   "id": "af41133a",
   "metadata": {},
   "source": [
    "`<math.h>` also includes many functions related to common mathematical operations. The functions closely\n",
    "resemble the Java methods found in `java.lang.Math`. There is no function overloading in C, thus there are\n",
    "separate functions for `float`, `double`, and `long double` operands. For example, there are three functions\n",
    "that compute the sine of an angle in radians:\n",
    "\n",
    "```c\n",
    "float       sinf(float arg);\n",
    "double      sin(double arg);\n",
    "long double sinl(long double arg);\n",
    "```\n",
    "\n",
    "A simple example program illustrating some commonly used functions is shown in the next cell:"
   ]
  },
  {
   "cell_type": "code",
   "execution_count": null,
   "id": "8fdb7b90",
   "metadata": {},
   "outputs": [],
   "source": [
    "// mathdemo.c\n",
    "\n",
    "#include <math.h>\n",
    "#include <stdio.h>\n",
    "\n",
    "int main(void) {\n",
    "    double x = sqrt(2.0);\n",
    "    printf(\"%f\\n\", x);\n",
    "\n",
    "    x = pow(x, 2);\n",
    "    printf(\"%f\\n\", x);\n",
    "\n",
    "    x = fmax(1.2, 5.79);\n",
    "    printf(\"%f\\n\", x);\n",
    "\n",
    "    return 0;\n",
    "}"
   ]
  },
  {
   "cell_type": "markdown",
   "id": "4c301d1b",
   "metadata": {},
   "source": [
    "#### `printf` for floating-point types\n",
    "\n",
    "The `%f` conversion specifier converts a floating-point value to a character string using decimal notation.\n",
    "The default precision is 6 digits to the right of the decimal place. The precision\n",
    "can be changed by including `.int-val` before the conversion specifier where `int-val` is the desired precision (number of digits after the decimal point)."
   ]
  },
  {
   "cell_type": "code",
   "execution_count": null,
   "id": "b890601b",
   "metadata": {},
   "outputs": [],
   "source": [
    "// mathdemo2.c\n",
    "\n",
    "#include <math.h>\n",
    "#include <stdio.h>\n",
    "\n",
    "int main(void) {\n",
    "    double x = sqrt(2.0);\n",
    "    printf(\"%.12f\\n\", x);    // 12 digits of precision\n",
    "\n",
    "    x = pow(x, 2);\n",
    "    printf(\"%.2f\\n\", x);     // 2 digits of precision\n",
    "\n",
    "    x = fmax(1.2, 5.79);\n",
    "    printf(\"%.1f\\n\", x);     // 1 digit of precision\n",
    "    \n",
    "    return 0;\n",
    "}"
   ]
  },
  {
   "cell_type": "code",
   "execution_count": null,
   "id": "27d28589",
   "metadata": {},
   "outputs": [],
   "source": []
  }
 ],
 "metadata": {
  "kernelspec": {
   "display_name": "C",
   "language": "c",
   "name": "c"
  },
  "language_info": {
   "file_extension": ".c",
   "mimetype": "text/x-csrc",
   "name": "text/x-csrc"
  }
 },
 "nbformat": 4,
 "nbformat_minor": 5
}
