{
 "cells": [
  {
   "cell_type": "markdown",
   "id": "300f9fb2",
   "metadata": {},
   "source": [
    "# Rules of the Unix philosophy\n",
    "\n",
    "Eric Raymond identifies the following seventeen rules describing the Unix philosophy in his book\n",
    "*The Art of UNIX Programming* (http://www.catb.org/~esr/writings/taoup/html/):\n",
    "\n",
    "1. Rule of Modularity: Write simple parts connected by clean interfaces.\n",
    "2. Rule of Clarity: Clarity is better than cleverness.\n",
    "3. Rule of Composition: Design programs to be connected to other programs.\n",
    "4. Rule of Separation: Separate policy from mechanism; separate interfaces from engines.\n",
    "5. Rule of Simplicity: Design for simplicity; add complexity only where you must.\n",
    "6. Rule of Parsimony: Write a big program only when it is clear by demonstration that nothing else will do.\n",
    "7. Rule of Transparency: Design for visibility to make inspection and debugging easier.\n",
    "8. Rule of Robustness: Robustness is the child of transparency and simplicity.\n",
    "9. Rule of Representation: Fold knowledge into data so program logic can be stupid and robust.\n",
    "10. Rule of Least Surprise: In interface design, always do the least surprising thing.\n",
    "11. Rule of Silence: When a program has nothing surprising to say, it should say nothing.\n",
    "12. Rule of Repair: When you must fail, fail noisily and as soon as possible.\n",
    "13. Rule of Economy: Programmer time is expensive; conserve it in preference to machine time.\n",
    "14. Rule of Generation: Avoid hand-hacking; write programs to write programs when you can.\n",
    "15. Rule of Optimization: Prototype before polishing. Get it working before you optimize it.\n",
    "16. Rule of Diversity: Distrust all claims for “one true way”.\n",
    "17. Rule of Extensibility: Design for the future, because it will be here sooner than you think.\n",
    "\n",
    "You can read more about these rules at http://www.catb.org/~esr/writings/taoup/html/ch01s06.html"
   ]
  },
  {
   "cell_type": "code",
   "execution_count": null,
   "id": "56e18772",
   "metadata": {},
   "outputs": [],
   "source": []
  }
 ],
 "metadata": {
  "kernelspec": {
   "display_name": "Bash",
   "language": "bash",
   "name": "bash"
  },
  "language_info": {
   "codemirror_mode": "shell",
   "file_extension": ".sh",
   "mimetype": "text/x-sh",
   "name": "bash"
  }
 },
 "nbformat": 4,
 "nbformat_minor": 5
}
