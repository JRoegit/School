{
 "cells": [
  {
   "cell_type": "markdown",
   "id": "86368a49",
   "metadata": {},
   "source": [
    "# Regular expressions\n",
    "\n",
    "<div class=\"alert alert-block alert-info\">\n",
    "    You can find all of the scripts in this notebook in the subdirectory containing this notebook:\n",
    "    <code>./scripts/regex</code>\n",
    "</div>\n",
    "\n",
    "A regular expression, or regex, is a sequence of characters that specifies a search pattern. Regular expressions\n",
    "are different from Bash's built-in pattern matching (but potentially confusingly use the same symbols for\n",
    "specifying patterns).\n",
    "\n",
    "The idea comes from theoretical computer science and formal language theory.\n",
    "A regular expression might be appropriate when you need to search for text that matches a pattern.\n",
    "Bash uses the POSIX extended regular expression syntax.\n"
   ]
  },
  {
   "cell_type": "markdown",
   "id": "dd12e8ee",
   "metadata": {},
   "source": [
    "### The `=~` operator\n",
    "\n",
    "The `=~` operator performs regular expression pattern matching inside of `[[ ]]`. The following:\n",
    "\n",
    "---\n",
    "```sh\n",
    "if [[ $str =~ $re ]]; then\n",
    "    echo \"$str matches $re\"\n",
    "else\n",
    "    echo \"$str does not match $re\"\n",
    "fi\n",
    "\n",
    "```\n",
    "---\n",
    "\n",
    "tests if any part of the string `$str` contains the pattern defined by the regular expression `$re`.\n",
    "\n",
    "<div class=\"alert alert-block alert-warning\">\n",
    "    Be careful when quoting the regular expression. Quoting the variable expansion forces the entire\n",
    "    pattern to be matched as a string instead of performing regular expression matching.<br /><br />\n",
    "    Quoting part of the regular expression forces the quoted part to be matched as a string.\n",
    "</div>\n",
    "\n",
    "\n",
    "The following script is useful for experimenting with regular expressions:\n",
    "\n",
    "---\n",
    "```sh\n",
    "#!/bin/bash\n",
    "\n",
    "# test_regex.sh\n",
    "\n",
    "if (( $# != 2 )); then\n",
    "    echo \"Usage: test_regex string regex\" >&2\n",
    "    exit 1\n",
    "fi\n",
    "str=$1\n",
    "re=$2\n",
    "if [[ $str =~ $re ]]; then\n",
    "    echo \"$str matches $re\"\n",
    "else\n",
    "    echo \"$str does not match $re\"\n",
    "fi\n",
    "\n",
    "```\n",
    "---"
   ]
  },
  {
   "cell_type": "markdown",
   "id": "62acc801",
   "metadata": {},
   "source": [
    "### POSIX extended regular expressions syntax\n",
    "\n",
    "A regular expression is simply a string where each character is either a regular character or a metacharacter\n",
    "having special meaning.\n",
    "\n",
    "Regular characters are matched literally. For example, the regular expression `a` defines the pattern `a`.\n",
    "`[[ $str =~ a ]]` is true if the string `str` contains at least one `a`:"
   ]
  },
  {
   "cell_type": "code",
   "execution_count": 3,
   "id": "2d12de2c",
   "metadata": {},
   "outputs": [
    {
     "name": "stdout",
     "output_type": "stream",
     "text": [
      "hello does not match a\n"
     ]
    }
   ],
   "source": [
    "./scripts/regex/test_regex.sh hello a"
   ]
  },
  {
   "cell_type": "code",
   "execution_count": 4,
   "id": "30dcb624",
   "metadata": {},
   "outputs": [
    {
     "name": "stdout",
     "output_type": "stream",
     "text": [
      "walrus matches a\n"
     ]
    }
   ],
   "source": [
    "./scripts/regex/test_regex.sh walrus a"
   ]
  },
  {
   "cell_type": "markdown",
   "id": "04911109",
   "metadata": {},
   "source": [
    "A string matches the regular expression `and` if the string contains the sequence of characters `and`:"
   ]
  },
  {
   "cell_type": "code",
   "execution_count": 5,
   "id": "a5dd0d9d",
   "metadata": {},
   "outputs": [
    {
     "name": "stdout",
     "output_type": "stream",
     "text": [
      "hangry does not match and\n"
     ]
    }
   ],
   "source": [
    "./scripts/regex/test_regex.sh hangry and"
   ]
  },
  {
   "cell_type": "code",
   "execution_count": 6,
   "id": "6183a76d",
   "metadata": {},
   "outputs": [
    {
     "name": "stdout",
     "output_type": "stream",
     "text": [
      "sandman matches and\n"
     ]
    }
   ],
   "source": [
    "./scripts/regex/test_regex.sh sandman and"
   ]
  },
  {
   "cell_type": "markdown",
   "id": "a9ecc84b",
   "metadata": {},
   "source": [
    "Metacharacters are symbols that have special meaning in a regular expression. The following table summarizes\n",
    "the meaning of the metacharacters used in the POSIX extended regular expression syntax:\n",
    "\n",
    "| Metacharacter | Description |\n",
    "| :--- | :--- |\n",
    "| <code>^</code>     | An anchor. Matches the beginning of the string when used as the first character of an expression.|\n",
    "| <code>&amp;</code>     | An anchor. Matches the end of the string when used as the last character of an expression. |\n",
    "| <code>.</code>      | Matches any single character. |\n",
    "| <code>[ ]</code>    | Bracket expression. Matches any single character that is inside the brackets. |\n",
    "| <code>[^ ]</code>   | Matches any single character that is not inside the brackets. |\n",
    "| <code>()</code>     | A subexpression. |\n",
    "| <code>*</code>      | Matches the preceding element zero or more times. |\n",
    "| <code>?</code>      | Matches the preceding element zero or one time. |\n",
    "| <code>+</code>      | Matches the preceding element one or more times. |\n",
    "| <code>{m,n}</code>  | Matches the preceding element at least m and not more than n times |\n",
    "| <code>\\|</code>      | The choice operator. Matches the expression before or after the operator. |\n",
    "\n",
    "The metacharacters shown above lose their meaning inside of square brackets; thus, metacharacters can be\n",
    "matched by placing them inside of square brackets.\n",
    "\n",
    "The following table shows basic examples of regular expressions and strings that match:\n",
    "\n",
    "| Regex | Matches |\n",
    "| :--- | :--- |\n",
    "| <code>hello</code> | any string containing the substring `hello` |\n",
    "| <code>^hello&amp;</code> | `hello` |\n",
    "| <code>^.ello&amp;</code> | `1ello`, `Aello`, `jello`, and many more |\n",
    "| <code>^h..lo&amp;</code> | `h11lo`, `hAylo`, `h@Mlo`, and many more |\n",
    "| <code>^s[aei]t&amp;</code> | `sat`, `set`, `sit` |\n",
    "| <code>^s[a-z]t&amp;</code> | `sat`, `sbt`, `sct`, ..., `szt` |\n",
    "| <code>^s[-a-z]t&amp;</code> | `s-t`, `sat`, `sbt`, ..., `szt` |\n",
    "| <code>^file[0-9]&amp;</code> | `file0`, `file1`, ..., `file9` |\n",
    "| <code>^a[.]c&amp;</code> | `a.c` |"
   ]
  },
  {
   "cell_type": "code",
   "execution_count": null,
   "id": "9ecbde39",
   "metadata": {},
   "outputs": [],
   "source": []
  },
  {
   "cell_type": "markdown",
   "id": "e3e3cf9f",
   "metadata": {},
   "source": [
    "A single character (not metacharacters), a subexpression, or a bracket expression is called an *atom*. The\n",
    "quantifiers `*`, `?`, `+`, and `{m,n}` specify how many times an atom must match.\n",
    "\n",
    "The following table shows examples of using the quantifier metacharacters to control the number of\n",
    "characters to match:\n",
    "\n",
    "| Regex | Matches |\n",
    "| :--- | :--- |\n",
    "| <code>^.*&amp;</code> | all strings including the empty string |\n",
    "| <code>^.+&amp;</code> | all non-empty strings |\n",
    "| <code>^.?&amp;</code> | the empty string and all strings of length one |\n",
    "| <code>[0-9]</code> | any string containing at least one digit |\n",
    "| <code>[0-9]+</code> | any string containing at least one digit |\n",
    "| <code>^[0-9]+&amp;</code> | any unsigned integer (may overflow) |\n",
    "| <code>^-[0-9]+&amp;</code> | any negative integer |\n",
    "| <code>^[-+]?[0-9]+&amp;</code> | any signed or unsigned integer |\n",
    "| <code>^[-+]?[[:digit:]]+&amp;</code> | any signed or unsigned integer |\n",
    "| <code>^xa{1}&amp;</code> | `xa` |\n",
    "| <code>^xa{1,}&amp;</code> | `x` followed by one or more `a`s |\n",
    "| <code>^xa{1,3}&amp;</code> | `xa`, `xaa`, or `xaaa` |\n",
    "| <code>^(abc)+&amp;</code> | `abc`, `abcabc`, `abcabcabc`, ... |"
   ]
  },
  {
   "cell_type": "code",
   "execution_count": null,
   "id": "ae41ce17",
   "metadata": {},
   "outputs": [],
   "source": []
  },
  {
   "cell_type": "markdown",
   "id": "73596682",
   "metadata": {},
   "source": [
    "The metacharacter `|` matches the regular expression before or after the `|`."
   ]
  }
 ],
 "metadata": {
  "kernelspec": {
   "display_name": "Bash",
   "language": "bash",
   "name": "bash"
  },
  "language_info": {
   "codemirror_mode": "shell",
   "file_extension": ".sh",
   "mimetype": "text/x-sh",
   "name": "bash"
  }
 },
 "nbformat": 4,
 "nbformat_minor": 5
}
