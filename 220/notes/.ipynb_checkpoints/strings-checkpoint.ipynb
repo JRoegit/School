{
 "cells": [
  {
   "cell_type": "markdown",
   "id": "31f15375",
   "metadata": {},
   "source": [
    "# Strings: Parameter substitution\n",
    "\n",
    "This notebook describes basic string manipulation in Bash. Many of the string operations are actually\n",
    "variations of *parameter expansion*. Not all of the parameter expansion operations are described in this\n",
    "notebook. See https://www.gnu.org/software/bash/manual/html_node/Shell-Parameter-Expansion.html for the\n",
    "official parameter expansion documentation."
   ]
  },
  {
   "cell_type": "markdown",
   "id": "9ebfe689",
   "metadata": {},
   "source": [
    "### Length of a string\n",
    "\n",
    "The length of a string `str` is given by `${#str}`:"
   ]
  },
  {
   "cell_type": "code",
   "execution_count": 1,
   "id": "4fd4f656",
   "metadata": {},
   "outputs": [
    {
     "name": "stdout",
     "output_type": "stream",
     "text": [
      "7\n"
     ]
    }
   ],
   "source": [
    "str=\"cisc220\"\n",
    "n=${#str}\n",
    "echo $n"
   ]
  },
  {
   "cell_type": "markdown",
   "id": "15d88598",
   "metadata": {},
   "source": [
    "### Substrings\n",
    "\n",
    "`${str:offset}` expands to the substring of `str` starting at `offset` and going to the end of the string.\n",
    "\n",
    "`${str:offset:length}` expands to the substring of `str` starting at `offset` and consisting of `length` characters."
   ]
  },
  {
   "cell_type": "code",
   "execution_count": 7,
   "id": "1abb0291",
   "metadata": {},
   "outputs": [
    {
     "name": "stdout",
     "output_type": "stream",
     "text": [
      "abcdefghij\n",
      "bcdefghij\n",
      "cdefghij\n",
      "defgh\n",
      "defg\n",
      "def\n",
      "\n"
     ]
    }
   ],
   "source": [
    "s=\"abcdefghij\"\n",
    "echo \"${s:0}\"       # all characters starting from first\n",
    "echo \"${s:1}\"       # all characters starting from second\n",
    "echo \"${s:2}\"       # all characters starting from third\n",
    "\n",
    "echo \"${s:3:5}\"     # 5 characters starting from third\n",
    "echo \"${s:3:4}\"     # 4 characters starting from third\n",
    "echo \"${s:3:3}\"     # 3 characters starting from third\n",
    "\n",
    "echo \"${s:1:0}\"     # 0 characters (starting from first)"
   ]
  },
  {
   "cell_type": "markdown",
   "id": "1c28187d",
   "metadata": {},
   "source": [
    "`offset` can be negative in which case it is treated as an offset from the end of the string; however, a space\n",
    "must be inserted in front of the offset because `:-` indicates a type of substitution in a parameter expansion:"
   ]
  },
  {
   "cell_type": "code",
   "execution_count": 6,
   "id": "6057e68b",
   "metadata": {},
   "outputs": [
    {
     "name": "stdout",
     "output_type": "stream",
     "text": [
      "j\n",
      "ij\n",
      "hij\n"
     ]
    }
   ],
   "source": [
    "s=\"abcdefghij\"\n",
    "echo \"${s: -1}\"      # all characters starting from last\n",
    "echo \"${s: -2}\"      # all characters starting from second last\n",
    "echo \"${s: -3}\"      # all characters starting from third last"
   ]
  },
  {
   "cell_type": "markdown",
   "id": "59588713",
   "metadata": {},
   "source": [
    "`length` can be negative in which case it is treated as an offset from the end of the string. The expansion yields\n",
    "the substring starting from index `offset` going to but not including index `length`:"
   ]
  },
  {
   "cell_type": "code",
   "execution_count": 11,
   "id": "786cb736",
   "metadata": {},
   "outputs": [
    {
     "name": "stdout",
     "output_type": "stream",
     "text": [
      "abcdefghi\n",
      "bcdefgh\n",
      "fg\n"
     ]
    }
   ],
   "source": [
    "s=\"abcdefghij\"\n",
    "echo \"${s:0:-1}\"     # all characters starting from first going to but not including last\n",
    "echo \"${s:1:-2}\"     # all characters starting from second going to but not including second last\n",
    "echo \"${s: -5:-3}\"   # all characters starting from fifth last going to but not including third last"
   ]
  },
  {
   "cell_type": "markdown",
   "id": "2cffbc7f",
   "metadata": {},
   "source": [
    "Observe that the space is not required before a negative `length` because the interpreter can determine that the\n",
    "sequence `:-` does not signify a substitution in this context (because at the point where the `:-` occurs the\n",
    "interpreter already knows that we are in a substring expression)."
   ]
  },
  {
   "cell_type": "markdown",
   "id": "0f7b1ab3",
   "metadata": {},
   "source": [
    "### Removing the leading part of a string\n",
    "\n",
    "`${str#pattern}` expands to the string formed by removing the shortest leading part of `str` that matches `pattern`\n",
    "(the parameter `str` is not modified).\n",
    "\n",
    "`${str##pattern}` expands to the string formed by removing the longest leading part of `str` that matches `pattern`\n",
    "(the parameter `str` is not modified)."
   ]
  },
  {
   "cell_type": "code",
   "execution_count": 12,
   "id": "8ec248b2",
   "metadata": {},
   "outputs": [
    {
     "name": "stdout",
     "output_type": "stream",
     "text": [
      "txt\n",
      "txt\n",
      "txt.zip\n",
      "zip\n"
     ]
    }
   ],
   "source": [
    "# get the extension of a filename (not including a path)\n",
    "fname=\"file.txt\"\n",
    "echo ${fname#*.}\n",
    "echo ${fname##*.}\n",
    "\n",
    "fname=\"file.txt.zip\"\n",
    "echo ${fname#*.}\n",
    "echo ${fname##*.}"
   ]
  },
  {
   "cell_type": "markdown",
   "id": "4605558b",
   "metadata": {},
   "source": [
    "Inside a script, it is occassionally useful to get the name of the script. Recall that `$0` contains the\n",
    "pathname of how the script was called. To get the just the name of the script (i.e., the basename of the script),\n",
    "we can use `##` to remove everything up to and including the final `/`:\n",
    "\n",
    "---\n",
    "\n",
    "```sh\n",
    "#!/bin/bash\n",
    "\n",
    "# scriptname.sh\n",
    "\n",
    "script=${0##*/}\n",
    "echo \"\\$0          : $0\"\n",
    "echo \"script name : $script\"\n",
    "\n",
    "```\n",
    "\n",
    "---"
   ]
  },
  {
   "cell_type": "code",
   "execution_count": 2,
   "id": "272e26a4",
   "metadata": {},
   "outputs": [
    {
     "name": "stdout",
     "output_type": "stream",
     "text": [
      "$0         : ./scripts/strings/scriptname.sh\n",
      "script name : scriptname.sh\n"
     ]
    }
   ],
   "source": [
    "./scripts/strings/scriptname.sh "
   ]
  },
  {
   "cell_type": "markdown",
   "id": "f86d9434",
   "metadata": {},
   "source": [
    "### Removing the trailing part of a string\n",
    "\n",
    "`${str%pattern}` expands to the string formed by removing the shortest trailing part of `str` that matches `pattern` (the parameter `str` is not modified).\n",
    "\n",
    "`${str%%pattern}` expands to the string formed by removing the longest trailing part of `str` that matches `pattern` (the parameter `str` is not modified)."
   ]
  },
  {
   "cell_type": "code",
   "execution_count": 13,
   "id": "55ab4af5",
   "metadata": {},
   "outputs": [
    {
     "name": "stdout",
     "output_type": "stream",
     "text": [
      "file\n",
      "file\n",
      "file.txt\n",
      "file\n"
     ]
    }
   ],
   "source": [
    "# get the basename of a filename (not including a path)\n",
    "fname=\"file.txt\"\n",
    "echo ${fname%.*}\n",
    "echo ${fname%%.*}\n",
    "\n",
    "fname=\"file.txt.zip\"\n",
    "echo ${fname%.*}\n",
    "echo ${fname%%.*}"
   ]
  },
  {
   "cell_type": "markdown",
   "id": "0803220c",
   "metadata": {},
   "source": [
    "### Replacing a substring\n",
    "\n",
    "`${str/pattern/repl}` expands to the string formed by replacing the first substring of `str` that matches `pattern`\n",
    "with `repl`.\n",
    "\n",
    "`${str//pattern/repl}` expands to the string formed by replacing the all substrings of `str` that match `pattern` with `repl`."
   ]
  },
  {
   "cell_type": "code",
   "execution_count": 14,
   "id": "1ac125d9",
   "metadata": {},
   "outputs": [
    {
     "name": "stdout",
     "output_type": "stream",
     "text": [
      "starring with a purple porpoise\n",
      "sparring with a purple porpoise\n",
      "starring with a turtle tortoise\n",
      "sparring with a purple porpoise\n"
     ]
    }
   ],
   "source": [
    "s=\"sparring with a purple porpoise\"\n",
    "echo \"${s/p/t}\"                          # replace first occurrence of p with t\n",
    "echo \"$s\" \n",
    "\n",
    "echo \"${s//p/t}\"                         # replace all occurrences of p with t\n",
    "echo \"$s\""
   ]
  },
  {
   "cell_type": "code",
   "execution_count": 14,
   "id": "c076cfe2",
   "metadata": {},
   "outputs": [
    {
     "name": "stdout",
     "output_type": "stream",
     "text": [
      "starring with a purple porpoise\n",
      "sparring with a purple porpoise\n",
      "starring with a turtle tortoise\n",
      "sparring with a purple porpoise\n"
     ]
    }
   ],
   "source": [
    "s=\"sparring with a purple porpoise\"\n",
    "echo \"${s/p/t}\"                          # replace first occurrence of p with t\n",
    "echo \"$s\" \n",
    "\n",
    "echo \"${s//p/t}\"                         # replace all occurrences of p with t\n",
    "echo \"$s\""
   ]
  },
  {
   "cell_type": "markdown",
   "id": "1bcd4049",
   "metadata": {},
   "source": [
    "`repl` can be the empty string in which case the expansion yields the string formed by deleting occurrences\n",
    "of `pattern` from `str`:"
   ]
  },
  {
   "cell_type": "code",
   "execution_count": 16,
   "id": "47966a1f",
   "metadata": {},
   "outputs": [
    {
     "name": "stdout",
     "output_type": "stream",
     "text": [
      "sarring with a purple porpoise\n",
      "sparring with a purple porpoise\n",
      "sarring with a urle oroise\n",
      "sparring with a purple porpoise\n"
     ]
    }
   ],
   "source": [
    "s=\"sparring with a purple porpoise\"\n",
    "echo \"${s/p/}\"                          # delete first occurrence of p\n",
    "echo \"$s\" \n",
    "\n",
    "echo \"${s//p/}\"                         # delete all occurrences of p\n",
    "echo \"$s\""
   ]
  },
  {
   "cell_type": "markdown",
   "id": "3411044a",
   "metadata": {},
   "source": [
    "### Case conversion\n",
    "\n",
    "`${str,pattern}` expands to the string formed by possibly converting the first character of `str` to lowercase.\n",
    "The conversion occurs if the first character of `str` matches `pattern`, otherwise the expansion\n",
    "is equal to `str`.\n",
    "\n",
    "`${str^pattern}` is similar to `${str,pattern}` but performs an uppercase conversion instead."
   ]
  },
  {
   "cell_type": "code",
   "execution_count": 21,
   "id": "e8d788f3",
   "metadata": {},
   "outputs": [
    {
     "name": "stdout",
     "output_type": "stream",
     "text": [
      "1. aBC\n",
      "2. ABC\n",
      "3. aBC\n",
      "4. aBC\n",
      "5. aBC\n"
     ]
    }
   ],
   "source": [
    "str=\"ABC\"\n",
    "\n",
    "# 1. replace A with a if A matches A\n",
    "echo \"1. \"${str,A}\n",
    "\n",
    "# 2. replace A with a if A is equal to the string ABC\n",
    "echo \"2. \"${str,ABC}\n",
    "\n",
    "# 3. replace A with a if A matches any one of A, B, or C\n",
    "echo \"3. \"${str,[ABC]}\n",
    "\n",
    "# 4. always replace A with a\n",
    "echo \"4. \"${str,?}\n",
    "\n",
    "# 5. always replace A with a (pattern missing, Bash assumes ?)\n",
    "echo \"5. \"${str,}"
   ]
  },
  {
   "cell_type": "code",
   "execution_count": 23,
   "id": "bef29fe9",
   "metadata": {},
   "outputs": [
    {
     "name": "stdout",
     "output_type": "stream",
     "text": [
      "1. Xyz\n",
      "2. xyz\n",
      "3. Xyz\n",
      "4. Xyz\n",
      "5. Xyz\n"
     ]
    }
   ],
   "source": [
    "str=\"xyz\"\n",
    "\n",
    "# 1. replace x with X if x matches X\n",
    "echo \"1. \"${str^x}\n",
    "\n",
    "# 2. replace x with X if x is equal to the string xyz\n",
    "echo \"2. \"${str^xyz}\n",
    "\n",
    "# 3. replace x with X if x matches any one of U, V, or X\n",
    "echo \"3. \"${str^[uvx]}\n",
    "\n",
    "# 4. always replace x with X\n",
    "echo \"4. \"${str^?}\n",
    "\n",
    "# 5. always replace x with X (pattern missing, Bash assumes ?)\n",
    "echo \"5. \"${str^}"
   ]
  },
  {
   "cell_type": "markdown",
   "id": "1e4c3200",
   "metadata": {},
   "source": [
    "`${str,,pattern` and `${str^^pattern}` attempt to convert each character of `str` by matching each character\n",
    "to `pattern`:"
   ]
  },
  {
   "cell_type": "code",
   "execution_count": 25,
   "id": "de84d255",
   "metadata": {},
   "outputs": [
    {
     "name": "stdout",
     "output_type": "stream",
     "text": [
      "1. AbCXYZ\n",
      "2. ABCXYZ\n",
      "3. abcXYZ\n",
      "4. abcxyz\n",
      "5. abcxyz\n"
     ]
    }
   ],
   "source": [
    "str=\"ABCXYZ\"\n",
    "\n",
    "# 1. replace each character of str with its lowercase version if that character matches B\n",
    "echo \"1. \"${str,,B}\n",
    "\n",
    "# 2. replace each character of str with its lowercase version if that character matches ABCxyz\n",
    "echo \"2. \"${str,,ABCXYZ}\n",
    "\n",
    "# 3. replace each character of str with its lowercase version if that character matches any one of A-C\n",
    "echo \"3. \"${str,,[A-C]}\n",
    "\n",
    "# 4. always replace each character with its lowercase version\n",
    "echo \"4. \"${str,,?}\n",
    "\n",
    "# 5. always replace each character with its lowercase version (pattern missing, Bash assumes ?)\n",
    "echo \"5. \"${str,,}"
   ]
  },
  {
   "cell_type": "markdown",
   "id": "e72f4411",
   "metadata": {},
   "source": [
    "### Unset or empty strings\n",
    "\n",
    "There are eight variations of parameter substitution that deal with unset and/or empty strings.\n",
    "All of the variations test if the parameter is unset. Variations that include a `:` also test\n",
    "if parameter is equal to the empty string.\n",
    "\n",
    "| Expansion | Result if `str` is unset | Result if `str` is empty | Result if `str` is non-empty |\n",
    "| :---- | :---- | :---- | :---- |\n",
    "| `${str-word}`  | `word` | empty string | `str` |\n",
    "| `${str:-word}` | `word` | `word` | `str` |\n",
    "| `${str=word}`  | `word`, assigns `word` to `str` | empty string | `str` |\n",
    "| `${str:=word}` | `word`, assigns `word` to `str` | `word`, assigns `word` to `str` | `str` |\n",
    "| `${str+word}`  | nothing is substituted | empty string | `word` |\n",
    "| `${str:+word}` | nothing is substituted | nothing is substituted | `word` |\n",
    "| `${str?word}`  | writes `word` to standard error, exits | empty string | `str` |\n",
    "| `${str:?word}` | writes `word` to standard error, exits | writes `word` to standard error, exits | `str` |\n",
    "\n",
    "In brief:\n",
    "\n",
    "* the `-` variations are useful for producing default values from unset or empty variables\n",
    "* the `=` variations are useful for setting default values to unset or empty variables (but note that\n",
    "you cannot set the value of a positional parameter this way)\n",
    "* the `+` variations are useful for producing alternate values from a set variable\n",
    "* the `?` variations are useful for indicating errors from unset or empty variables\n",
    "\n",
    "The script named `empty.sh` illustrates the various parameter substitutions. Calling the script with no\n",
    "command line argument results in `str` being unset, otherwise `str` is assigned the value of the first\n",
    "command line argument.\n",
    "\n",
    "Run the following cell to run `empty.sh` with no command line arguments:"
   ]
  },
  {
   "cell_type": "code",
   "execution_count": 7,
   "id": "d4c05ea6",
   "metadata": {},
   "outputs": [
    {
     "name": "stdout",
     "output_type": "stream",
     "text": [
      "${UNSET-WORD} \tWORD\tstr=UNSET\n",
      "${UNSET:-WORD}\tWORD\tstr=UNSET\n",
      "${UNSET=WORD} \tWORD\tstr=WORD\n",
      "${UNSET:=WORD}\tWORD\tstr=WORD\n",
      "${UNSET+WORD} \t\tstr=UNSET\n",
      "${UNSET:+WORD}\t\tstr=UNSET\n",
      "./scripts/strings/empty.sh: line 58: str: WORD\n"
     ]
    },
    {
     "ename": "",
     "evalue": "1",
     "output_type": "error",
     "traceback": []
    }
   ],
   "source": [
    "./scripts/strings/empty.sh"
   ]
  },
  {
   "cell_type": "markdown",
   "id": "a93e01f6",
   "metadata": {},
   "source": [
    "The first column is the parameter substitution (the script uses the word `UNSET` to indicate an unset variable),\n",
    "the second column is the result of the substitution, and the third column is the value stored in `str` (again,\n",
    "the script uses the word `UNSET` to indicate that `str` is unset).\n",
    "\n",
    "Notice that `${str?word}` results in an error and the script exiting before `${str:?word}` can be attempted."
   ]
  },
  {
   "cell_type": "markdown",
   "id": "a7642740",
   "metadata": {},
   "source": [
    "Run the following cell to run `empty.sh` with the empty string:"
   ]
  },
  {
   "cell_type": "code",
   "execution_count": 6,
   "id": "0838bd4e",
   "metadata": {},
   "outputs": [
    {
     "name": "stdout",
     "output_type": "stream",
     "text": [
      "${-WORD} \t\tstr=\n",
      "${:-WORD}\tWORD\tstr=\n",
      "${=WORD} \t\tstr=\n",
      "${:=WORD}\tWORD\tstr=WORD\n",
      "${+WORD} \tWORD\tstr=\n",
      "${:+WORD}\t\tstr=\n",
      "${?WORD} \t\tstr=\n",
      "./scripts/strings/empty.sh: line 63: str: WORD\n"
     ]
    },
    {
     "ename": "",
     "evalue": "1",
     "output_type": "error",
     "traceback": []
    }
   ],
   "source": [
    "./scripts/strings/empty.sh \"\""
   ]
  },
  {
   "cell_type": "markdown",
   "id": "ebb468d8",
   "metadata": {},
   "source": [
    "Run the following cell to run `empty.sh` with a non-empty string:"
   ]
  },
  {
   "cell_type": "code",
   "execution_count": 5,
   "id": "73172a19",
   "metadata": {},
   "outputs": [
    {
     "name": "stdout",
     "output_type": "stream",
     "text": [
      "${xyz-WORD} \txyz\tstr=xyz\n",
      "${xyz:-WORD}\txyz\tstr=xyz\n",
      "${xyz=WORD} \txyz\tstr=xyz\n",
      "${xyz:=WORD}\txyz\tstr=xyz\n",
      "${xyz+WORD} \tWORD\tstr=xyz\n",
      "${xyz:+WORD}\tWORD\tstr=xyz\n",
      "${xyz?WORD} \txyz\tstr=xyz\n",
      "${xyz:?WORD}\txyz\tstr=xyz\n"
     ]
    }
   ],
   "source": [
    "./scripts/strings/empty.sh xyz"
   ]
  },
  {
   "cell_type": "code",
   "execution_count": null,
   "id": "2cc92610",
   "metadata": {},
   "outputs": [],
   "source": []
  }
 ],
 "metadata": {
  "kernelspec": {
   "display_name": "Bash",
   "language": "bash",
   "name": "bash"
  },
  "language_info": {
   "codemirror_mode": "shell",
   "file_extension": ".sh",
   "mimetype": "text/x-sh",
   "name": "bash"
  }
 },
 "nbformat": 4,
 "nbformat_minor": 5
}
