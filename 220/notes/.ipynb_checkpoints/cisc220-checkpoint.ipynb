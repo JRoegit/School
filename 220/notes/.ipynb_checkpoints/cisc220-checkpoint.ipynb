{
 "cells": [
  {
   "cell_type": "markdown",
   "id": "d7d9224c",
   "metadata": {},
   "source": [
    "# CISC220: (Introduction to) System Level Programming\n",
    "\n",
    "Hi."
   ]
  },
  {
   "cell_type": "code",
   "execution_count": null,
   "id": "054f5ee3",
   "metadata": {},
   "outputs": [],
   "source": []
  }
 ],
 "metadata": {
  "kernelspec": {
   "display_name": "Bash",
   "language": "bash",
   "name": "bash"
  },
  "language_info": {
   "codemirror_mode": "shell",
   "file_extension": ".sh",
   "mimetype": "text/x-sh",
   "name": "bash"
  }
 },
 "nbformat": 4,
 "nbformat_minor": 5
}
