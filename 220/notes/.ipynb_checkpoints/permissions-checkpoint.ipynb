{
 "cells": [
  {
   "cell_type": "markdown",
   "id": "64caccbf",
   "metadata": {},
   "source": [
    "# Permissions\n",
    "\n",
    "UNIX associates *access rights* or *permissions* with every file. Permissions are granted to three\n",
    "classes called:\n",
    "\n",
    "* *user* : the owner of the file. Every file has a username associated with it.\n",
    "* *group* : multiple users can belong to a group. Every user belongs to a least one group and may\n",
    "belong to multiple groups. Many Linux distributions create a group having the same name as the\n",
    "user whenever a new user is added to the system. Every file has a groupname associated with it.\n",
    "* *other* : Any user that is not the owner nor a member of the group is in this class.\n",
    "\n",
    "<div class=\"alert alert-block alert-info\">\n",
    "    This code in this notebook assumes that the current working directory is \n",
    "    <code>./scripts/permissions</code>. Run the next cell once when using this notebook.\n",
    "    <br /><br />\n",
    "    If you see errors related to missing files then the working directory is probably incorrect.\n",
    "</div>"
   ]
  },
  {
   "cell_type": "code",
   "execution_count": 2,
   "id": "f5875fca",
   "metadata": {},
   "outputs": [
    {
     "name": "stdout",
     "output_type": "stream",
     "text": [
      "/home/cisc220/CISC220/notes\n",
      "bash: cd: ./scripts/permissions: No such file or directory\n"
     ]
    },
    {
     "ename": "",
     "evalue": "1",
     "output_type": "error",
     "traceback": []
    }
   ],
   "source": [
    "# run this cell exactly once each time you open this notebook\n",
    "cd ./scripts/permissions"
   ]
  },
  {
   "cell_type": "code",
   "execution_count": null,
   "id": "d7f32086",
   "metadata": {},
   "outputs": [],
   "source": []
  }
 ],
 "metadata": {
  "kernelspec": {
   "display_name": "Bash",
   "language": "bash",
   "name": "bash"
  },
  "language_info": {
   "codemirror_mode": "shell",
   "file_extension": ".sh",
   "mimetype": "text/x-sh",
   "name": "bash"
  }
 },
 "nbformat": 4,
 "nbformat_minor": 5
}
