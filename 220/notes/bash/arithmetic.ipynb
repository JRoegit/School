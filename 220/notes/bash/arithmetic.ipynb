{
 "cells": [
  {
   "cell_type": "markdown",
   "id": "fb74ca19",
   "metadata": {},
   "source": [
    "# Arithmetic\n",
    "\n",
    "<div class=\"alert alert-block alert-info\">\n",
    "    You can find all of the scripts in this notebook in the subdirectory containing this notebook:\n",
    "    <code>./scripts/arithmetic</code>\n",
    "</div>\n",
    "\n",
    "Bash supports signed integer arithmetic. On a typical modern desktop computer, the integer type is probably\n",
    "represented using 64 bits. The arithmetic operators available are similar to those in the Java language with\n",
    "the addition of `**` which performs integer exponentiation. See \n",
    "https://www.gnu.org/software/bash/manual/html_node/Shell-Arithmetic.html\n",
    "for a complete list of operators."
   ]
  },
  {
   "cell_type": "markdown",
   "id": "b613b80a",
   "metadata": {},
   "source": [
    "### `(( ))`\n",
    "\n",
    "The command `((` *expression* `))` evaluates *expression* as an arithmetic expression. Assigning values to\n",
    "variables and using the values stored in variables can be performed:"
   ]
  },
  {
   "cell_type": "code",
   "execution_count": null,
   "id": "555b6a00",
   "metadata": {},
   "outputs": [],
   "source": [
    "(( x = 1 + 2 ))\n",
    "echo $x"
   ]
  },
  {
   "cell_type": "markdown",
   "id": "0f9651d9",
   "metadata": {},
   "source": [
    "The `$` is not required when referencing a variable inside of `(( ))`:"
   ]
  },
  {
   "cell_type": "code",
   "execution_count": null,
   "id": "1f17063f",
   "metadata": {},
   "outputs": [],
   "source": [
    "x=1\n",
    "y=5\n",
    "(( z = x * y ))\n",
    "echo $z"
   ]
  },
  {
   "cell_type": "markdown",
   "id": "cd49f369",
   "metadata": {},
   "source": [
    "Non-numeric values, empty values, and unset variables have the value `0` inside of `(( ))`:"
   ]
  },
  {
   "cell_type": "code",
   "execution_count": null,
   "id": "769b156d",
   "metadata": {},
   "outputs": [],
   "source": [
    "x=abc\n",
    "y=5\n",
    "(( z = x + y ))    # non-numeric value in x\n",
    "echo $z\n",
    "\n",
    "x=\"\"\n",
    "y=5\n",
    "(( z = x + y ))    # empty x\n",
    "echo $z\n",
    "\n",
    "unset x\n",
    "y=5\n",
    "(( z = x / y ))    # unset x\n",
    "echo $z"
   ]
  },
  {
   "cell_type": "markdown",
   "id": "a08846b3",
   "metadata": {},
   "source": [
    "### Exit status of `(( ))`\n",
    "\n",
    "`((` *expression* `))` is a command and thus has an exit status. If *expression* is equal to `0`, then the exit\n",
    "status is set to `1`. If *expression* is not equal to `0`, then the exit status is set to `0`. "
   ]
  },
  {
   "cell_type": "code",
   "execution_count": null,
   "id": "2c74bf1e",
   "metadata": {},
   "outputs": [],
   "source": [
    "(( 0 + 0 ))   # or anything else that equals 0\n",
    "echo $?"
   ]
  },
  {
   "cell_type": "code",
   "execution_count": null,
   "id": "0e8f5bd1",
   "metadata": {},
   "outputs": [],
   "source": [
    "(( 0 + 5 ))   # or anything else that does not equal 0\n",
    "echo $?"
   ]
  },
  {
   "cell_type": "markdown",
   "id": "53e89ad9",
   "metadata": {},
   "source": [
    "### Using `(( ))` as a condition\n",
    "\n",
    "Because `(( ))` is a command, it can be used as a condition. For example, a script that requires exactly\n",
    "one command line argument might start with:\n",
    "\n",
    "```sh\n",
    "#!/bin/bash\n",
    "\n",
    "if (( $# != 1 )); then\n",
    "    echo \"Script requires 1 argument\" >&2\n",
    "    exit 1\n",
    "fi\n",
    "```\n",
    "\n",
    "and a script that requires at least three command line arguments might start with:\n",
    "\n",
    "```sh\n",
    "#!/bin/bash\n",
    "\n",
    "if (( $# < 3 )); then\n",
    "    echo \"Script requires at least 3 arguments\" >&2\n",
    "    exit 1\n",
    "fi\n",
    "```"
   ]
  },
  {
   "cell_type": "markdown",
   "id": "eaee69c1",
   "metadata": {},
   "source": [
    "The following script exits with a status of 0 if its first command line argument is evenly divisible by 2,\n",
    "otherwise it exits with a status of 1 (a missing command line argument or non-integer argument are treated\n",
    "as being the value `0`):\n",
    "\n",
    "```sh\n",
    "#!/bin/bash\n",
    "\n",
    "# iseven.sh\n",
    "\n",
    "if (( $# != 0 )); then\n",
    "    val=$1\n",
    "    if (( val % 2 != 0 )); then \n",
    "        exit 1\n",
    "    fi\n",
    "fi\n",
    "```"
   ]
  },
  {
   "cell_type": "code",
   "execution_count": null,
   "id": "5b258a8f",
   "metadata": {},
   "outputs": [],
   "source": [
    "./scripts/arithmetic/iseven.sh 2\n",
    "echo $?"
   ]
  },
  {
   "cell_type": "code",
   "execution_count": null,
   "id": "fcaad70c",
   "metadata": {},
   "outputs": [],
   "source": [
    "./scripts/arithmetic/iseven.sh 3\n",
    "echo $?"
   ]
  },
  {
   "cell_type": "markdown",
   "id": "5319042b",
   "metadata": {},
   "source": [
    "### A simple random number generator\n",
    "\n",
    "Bash defines a variable `RANDOM` that can be used for non-robust generation of random integer values\n",
    "(https://www.gnu.org/software/bash/manual/html_node/Bash-Variables.html):\n",
    "\n",
    "> Each time this parameter is referenced, it expands to a random integer between 0 and 32767.\n",
    "> Assigning a value to this variable seeds the random number generator. If `RANDOM` is unset, \n",
    "> it loses its special properties, even if it is subsequently reset.\n",
    "\n",
    "The following script uses `RANDOM` to print a random number:\n",
    "\n",
    "* between 0 and 32767 if no command line arguments are given\n",
    "* between 0 and *n-1* if one command line argument *n* is given\n",
    "* between *m* and $n-1* if two command line arguments *m* and *n* are given:\n",
    "\n",
    "---\n",
    "\n",
    "```sh\n",
    "#!/bin/bash\n",
    "\n",
    "# rand.sh\n",
    "\n",
    "if (( $# > 2 )); then\n",
    "    echo \"rand.sh: Wrong number of arguments\" >&2\n",
    "    exit 1\n",
    "fi\n",
    "if (( $# == 0 )); then\n",
    "    echo $RANDOM\n",
    "elif (( $# == 1 )); then \n",
    "    n=$(( $RANDOM % $1 ))\n",
    "    echo $n\n",
    "else\n",
    "    n=$(( $RANDOM % ($2 - $1) + $1 ))\n",
    "    echo $n\n",
    "fi\n",
    "\n",
    "```\n",
    "\n",
    "---"
   ]
  },
  {
   "cell_type": "code",
   "execution_count": null,
   "id": "b62dc103",
   "metadata": {},
   "outputs": [],
   "source": [
    "# prints random number between 0 and 32767\n",
    "./scripts/arithmetic/rand.sh"
   ]
  },
  {
   "cell_type": "code",
   "execution_count": null,
   "id": "3048f2f5",
   "metadata": {},
   "outputs": [],
   "source": [
    "# prints random number between 0 and 9\n",
    "./scripts/arithmetic/rand.sh 10"
   ]
  },
  {
   "cell_type": "code",
   "execution_count": null,
   "id": "117fe895",
   "metadata": {},
   "outputs": [],
   "source": [
    "# prints random number between 30 and 39\n",
    "./scripts/arithmetic/rand.sh 30 40"
   ]
  },
  {
   "cell_type": "code",
   "execution_count": null,
   "id": "263a25ad",
   "metadata": {},
   "outputs": [],
   "source": []
  }
 ],
 "metadata": {
  "kernelspec": {
   "display_name": "Bash",
   "language": "bash",
   "name": "bash"
  },
  "language_info": {
   "codemirror_mode": "shell",
   "file_extension": ".sh",
   "mimetype": "text/x-sh",
   "name": "bash"
  }
 },
 "nbformat": 4,
 "nbformat_minor": 5
}
