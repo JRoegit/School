{
 "cells": [
  {
   "cell_type": "markdown",
   "id": "b54b8b3e",
   "metadata": {},
   "source": [
    "# The Linux filesystem\n",
    "\n",
    "> A Unix file is just a big bag of bytes, with no other attributes. In particular, there is no capability to \n",
    "> store information about the file type or a pointer to an associated application program outside the\n",
    "> file's actual data.\n",
    ">\n",
    "> More generally, everything is a byte stream; even hardware devices are byte streams. This metaphor was a\n",
    "> tremendous success of early Unix, and a real advance over a world in which (for example) compiled programs\n",
    "> could not produce output that could be fed back to the compiler. Pipes and shell programming sprang from\n",
    "> this metaphor.\n",
    ">\n",
    "> But Unix's byte-stream metaphor is so central that Unix has trouble integrating software objects with\n",
    "> operations that don't fit neatly into the byte stream or file repertoire of operations (create, open, read, \n",
    "> write, delete). This is especially a problem for GUI objects such as icons, windows, and ‘live’ documents.\n",
    "> \n",
    "> http://www.catb.org/~esr/writings/taoup/html/ch20s03.html\n",
    "\n",
    "A filesystem is the part of an operating system that controls how data is stored and retrieved.\n",
    "A filesystem is most often associated with physical storage media (disk, USB drive, optical media, \n",
    "magnetic tape, etc.). Most computer users are used to interacting with the filesystem using a\n",
    "graphical file browser.\n",
    "\n",
    "There are many different filesystems (https://en.wikipedia.org/wiki/List_of_file_systems). \n",
    "Windows filesystems include FAT, exFAT, and NTFS.\n",
    "macOS uses  AFS (Apple File System). Linux supports a multitude of filesystems; some commmon ones\n",
    "include ext, ext2, ext3, ext4, ReiserFS, and XFS."
   ]
  },
  {
   "cell_type": "markdown",
   "id": "edf401d4",
   "metadata": {},
   "source": [
    "## Devices\n",
    "\n",
    "A device is a physical piece of hardware that can store files such as a disk drive, USB flash drive, \n",
    "CD-ROM drive, or magnetic tape drive. In UNIX, each device corresponds to one or more special files called\n",
    "device special files. A device special file is an interface to a device driver. Data can be read and/or\n",
    "written from and/or to the device through the file. The device special files are how UNIX models\n",
    "devices as byte stream."
   ]
  },
  {
   "cell_type": "markdown",
   "id": "5ec29d5e",
   "metadata": {},
   "source": [
    "## Filesystems\n",
    "\n",
    "A filesystem organizes data placed on a storage device. Data can be organized into files and files are\n",
    "given names. Filesystems typically have directories which represent a collection of files having a collective\n",
    "name. Most modern filesystems supported nested directories to support hierarchies of directories.\n",
    "\n",
    "The contents of a file are just bits. Imagine that an OS abstracts a storage device as a simple array. An\n",
    "image of any empty storage device might look like an empty array:\n",
    "\n",
    "![](./images/fs1.png)\n",
    "\n",
    "Suppose that we write five files to the storage device. Using our array abstraction, an image of the\n",
    "storage device might look like the following where each color corresponds to a different file:\n",
    "\n",
    "![](./images/fs2.png)\n",
    "\n",
    "Even with such a simplistic abstraction, the filesystem needs to store extra information so that it\n",
    "can read the contents of a particular file. Take a moment to think about what extra information\n",
    "needs to be stored. What other information might be useful?"
   ]
  },
  {
   "cell_type": "markdown",
   "id": "f73e43e9",
   "metadata": {},
   "source": [
    "## Inodes\n",
    "\n",
    "UNIX uses *inodes* to store information about the contents of a file. A partial list of the information stored\n",
    "includes:\n",
    "\n",
    "* the device where the inode resides\n",
    "* file type\n",
    "* user ID (owner of the file)\n",
    "* file size\n",
    "* time when the file was created\n",
    "* time when the file was last modified\n",
    "* time when the file was last accessed\n",
    "* and more (including where to find the file contents)\n",
    "\n",
    "An inode has an integer number called the *inode number* that is a unique id for the inode on a given device.\n",
    "Different devices can have inodes with the same inode number so the inode number is not a globally unique\n",
    "id for the filesystem.\n",
    "\n",
    "Notice that an inode does not store the filename of a file. Filenames are stored in a separate file\n",
    "called a *directory*. A directory is a file whose contents is basically a table mapping filenames to inode\n",
    "numbers. For example, on the author's computer the directory containing the Bash notebooks looks like\n",
    "the following:\n",
    "\n",
    "| inode number | filename |\n",
    "| :--- | :--- |\n",
    "| 662400 | `images/` |\n",
    "| 655381 | `scripts/` |\n",
    "| 662411 | `animals.txt` |\n",
    "| 655371 | `arithmetic.ipynb` |\n",
    "| 657898 | `arrays.ipynb` |\n",
    "| 661257 | `cli_intro.ipynb` |\n",
    "| ... | |\n",
    "\n",
    "In UNIX, ordinary files that contain data are called *regular files*. Directories are files, but they are not\n",
    "regular files."
   ]
  },
  {
   "cell_type": "markdown",
   "id": "4b9f493b",
   "metadata": {},
   "source": [
    "#### Hard links\n",
    "\n",
    "A hard link is a directory entry that maps a filename to a file (inode). Every file has at least one hard link. The\n",
    "table in the previous cell shows the hard links for the files in the directory containing this notebook.\n",
    "\n",
    "It is possible to create additional hard links to a single file (Linux does not allow more than one hard link\n",
    "to a directory). When this happens, multiple filenames all refer to the same file. If we edit the file\n",
    "using one of the filenames and then save the results, then viewing the file with any of its alternate\n",
    "filenames will show the edited file.\n",
    "\n",
    "See the *Files* notebook for additional information on hard links and symbolic links."
   ]
  },
  {
   "cell_type": "markdown",
   "id": "ace9a1d2",
   "metadata": {},
   "source": [
    "## Filesystem hierarchy standard\n",
    "\n",
    "The [filesystem hierarchy standard](https://en.wikipedia.org/wiki/Filesystem_Hierarchy_Standard)\n",
    "defines the directory structure and directory contents for Linux distributions.\n",
    "macOS uses a similar, but different, hierarchy.\n",
    "We do not need to study this in detail but it is useful to know something about it.\n",
    "\n",
    "There is a top-level (or uppermost) directory named `/` that contains all other directories. The\n",
    "top-level directory is usually called *slash* or the *root* directory.\n",
    "\n",
    "In a terminal, we can change to a directory using the `cd` built-in shell command. The following\n",
    "will change the *current working directory* to the root directory:"
   ]
  },
  {
   "cell_type": "code",
   "execution_count": null,
   "id": "b5147914",
   "metadata": {},
   "outputs": [],
   "source": [
    "cd /"
   ]
  },
  {
   "cell_type": "markdown",
   "id": "a6c5104f",
   "metadata": {},
   "source": [
    "The built-in shell command `pwd` will print the name of the current working directory:"
   ]
  },
  {
   "cell_type": "code",
   "execution_count": null,
   "id": "93376471",
   "metadata": {},
   "outputs": [],
   "source": [
    "pwd"
   ]
  },
  {
   "cell_type": "markdown",
   "id": "8dba5590",
   "metadata": {},
   "source": [
    "The command `ls` (ell ess, not one ess) will list the files in a directory:"
   ]
  },
  {
   "cell_type": "code",
   "execution_count": null,
   "id": "298abe10",
   "metadata": {},
   "outputs": [],
   "source": [
    "ls"
   ]
  },
  {
   "cell_type": "markdown",
   "id": "be27e5e7",
   "metadata": {},
   "source": [
    "There is a distinction between built-in shell commands and other commands.\n",
    "Built-in commands are commands that are defined by the Bash shell.\n",
    "Other commands are just programs that can be run by the Bash shell. To get documentation for a built-in\n",
    "command use:"
   ]
  },
  {
   "cell_type": "code",
   "execution_count": null,
   "id": "5365f00e",
   "metadata": {},
   "outputs": [],
   "source": [
    "man builtins"
   ]
  },
  {
   "cell_type": "markdown",
   "id": "b786312b",
   "metadata": {},
   "source": [
    "or use the `help` built-in:"
   ]
  },
  {
   "cell_type": "code",
   "execution_count": null,
   "id": "1ddae421",
   "metadata": {},
   "outputs": [],
   "source": [
    "help cd"
   ]
  },
  {
   "cell_type": "code",
   "execution_count": null,
   "id": "38c25705",
   "metadata": {},
   "outputs": [],
   "source": [
    "help pwd"
   ]
  },
  {
   "cell_type": "markdown",
   "id": "6d6c7a51",
   "metadata": {},
   "source": [
    "For other commands, use the `man` command to obtain the documentation."
   ]
  },
  {
   "cell_type": "code",
   "execution_count": null,
   "id": "7b6f3215",
   "metadata": {},
   "outputs": [],
   "source": [
    "man ls"
   ]
  },
  {
   "cell_type": "markdown",
   "id": "6f570856",
   "metadata": {},
   "source": [
    "A (very) incomplete image of the directory structure described by the hierarchy standard is shown below:\n",
    "\n",
    "![](./images/fs_hierarchy.png)\n",
    "\n",
    "The standard states the the following directories are required in `/` (https://refspecs.linuxfoundation.org/FHS_3.0/fhs/ch03s02.html):\n",
    "\n",
    "| Directory | Description |\n",
    "| :--- | :--- |\n",
    "| bin | Essential command binaries |\n",
    "| boot | Static files of the boot loader |\n",
    "| dev | Device files |\n",
    "| etc | Host-specific system configuration |\n",
    "| home | *Optional:* User home directories |\n",
    "| lib | Essential shared libraries and kernel modules |\n",
    "| media | Mount point for removable media |\n",
    "| mnt | Mount point for mounting a filesystem temporarily |\n",
    "| opt | Add-on application software packages |\n",
    "| run | Data relevant to running processes |\n",
    "| sbin | Essential system binaries |\n",
    "| srv | Data for services provided by this system |\n",
    "| tmp | Temporary files |\n",
    "| usr | Secondary hierarchy |\n",
    "| var | Variable data |\n",
    "\n",
    "The contents of a specific directory can be listed by passing the directory name to the `ls` command as a\n",
    "command line argument:"
   ]
  },
  {
   "cell_type": "code",
   "execution_count": null,
   "id": "c14d7832",
   "metadata": {},
   "outputs": [],
   "source": [
    "ls /bin"
   ]
  },
  {
   "cell_type": "markdown",
   "id": "015977bb",
   "metadata": {},
   "source": [
    "## Absolute pathnames\n",
    "\n",
    "A pathname is the name of a file that uniquely identifies the location of a file.\n",
    "An absolute pathname includes all of directory names that lead to the file. \n",
    "Directories are separated by the `/` character. The following are some examples of\n",
    "absolute pathnames:\n",
    "\n",
    "| Absolute pathname | Description |\n",
    "| :--- | :--- | \n",
    "| `/` | the root directory |\n",
    "| `/bin` | the `bin` directory located in the root directory |\n",
    "| `/bin/ls` | the `ls` file located in the `/bin` directory |\n",
    "| `/home/cisc220/CISC220/notes/bash/filesystem.ipynb` | the absolute pathname of this notebook file |\n"
   ]
  },
  {
   "cell_type": "markdown",
   "id": "951f04ef",
   "metadata": {},
   "source": [
    "## Relative pathnames\n",
    "\n",
    "A relative pathname includes all of the directory names that lead to the file starting from the current\n",
    "working directory. The following are some examples of relative pathnames assuming that the working\n",
    "directory is `/`:\n",
    "\n",
    "| Relative pathname | Description |\n",
    "| :--- | :--- | \n",
    "| `.` | the root directory |\n",
    "| `bin` | the `bin` directory located in the root directory |\n",
    "| `bin/ls` | the `ls` file located in the `/bin` directory |\n",
    "\n",
    "The following are some examples of relative pathnames assuming that the working\n",
    "directory is `/home/cisc220/CISC220`:\n",
    "\n",
    "| Relative pathname | Description |\n",
    "| :--- | :--- | \n",
    "| `..` | the parent directory `/home/cisc220` |\n",
    "| `notes` | the `notes` directory located in the directory `/home/cisc220/CISC220` |\n",
    "| `notes/bash/filesystem.ipynb` | the relative pathname of this notebook file located in the directory `/home/cisc220/CISC220` |\n",
    "\n",
    "Most commands that accept a pathname will accept both absolute and relative paths. For example, if the\n",
    "current working directory is the root directory, then we can list the contents of any other directory using a relative path:"
   ]
  },
  {
   "cell_type": "code",
   "execution_count": null,
   "id": "772cad8d",
   "metadata": {},
   "outputs": [],
   "source": [
    "# enter cd / if you've changed to a different directory\n",
    "ls home"
   ]
  },
  {
   "cell_type": "code",
   "execution_count": null,
   "id": "afe8ecc0",
   "metadata": {},
   "outputs": [],
   "source": [
    "# enter cd / if you've changed to a different directory\n",
    "ls usr"
   ]
  },
  {
   "cell_type": "code",
   "execution_count": null,
   "id": "cc394549",
   "metadata": {},
   "outputs": [],
   "source": [
    "# enter cd / if you've changed to a different directory\n",
    "ls home/cisc220"
   ]
  },
  {
   "cell_type": "markdown",
   "id": "7cc69c89",
   "metadata": {},
   "source": [
    "## More about the `cd` command\n",
    "\n",
    "`cd` on its own will change to the current user's home directory:"
   ]
  },
  {
   "cell_type": "code",
   "execution_count": null,
   "id": "3f01a23e",
   "metadata": {},
   "outputs": [],
   "source": [
    "cd\n",
    "pwd"
   ]
  },
  {
   "cell_type": "markdown",
   "id": "d58049f2",
   "metadata": {},
   "source": [
    "The symbol `~` expands to the current user's home directory (but this can be changed):"
   ]
  },
  {
   "cell_type": "code",
   "execution_count": null,
   "id": "bf64582e",
   "metadata": {},
   "outputs": [],
   "source": [
    "cd ~\n",
    "pwd"
   ]
  },
  {
   "cell_type": "markdown",
   "id": "b486314b",
   "metadata": {},
   "source": [
    "The symbol `.` represents the name of the current working directory:"
   ]
  },
  {
   "cell_type": "code",
   "execution_count": null,
   "id": "8b21f9fc",
   "metadata": {},
   "outputs": [],
   "source": [
    "cd\n",
    "pwd\n",
    "cd .\n",
    "pwd"
   ]
  },
  {
   "cell_type": "markdown",
   "id": "c38dedf5",
   "metadata": {},
   "source": [
    "The symbol `..` represents the name of the parent directory of the current working directory:"
   ]
  },
  {
   "cell_type": "code",
   "execution_count": null,
   "id": "ccf58147",
   "metadata": {},
   "outputs": [],
   "source": [
    "cd\n",
    "pwd\n",
    "cd ..\n",
    "pwd"
   ]
  },
  {
   "cell_type": "markdown",
   "id": "0464c337",
   "metadata": {},
   "source": [
    "You can move up multiple directories by using multiple `..`s:"
   ]
  },
  {
   "cell_type": "code",
   "execution_count": null,
   "id": "e56bdb79",
   "metadata": {},
   "outputs": [],
   "source": [
    "cd\n",
    "pwd\n",
    "cd ../..\n",
    "pwd"
   ]
  },
  {
   "cell_type": "markdown",
   "id": "3d03948f",
   "metadata": {},
   "source": [
    "If you have been navigating through the directory structure and want to go back to the previous working \n",
    "directory, then you can use `cd -`:"
   ]
  },
  {
   "cell_type": "code",
   "execution_count": null,
   "id": "986555f6",
   "metadata": {},
   "outputs": [],
   "source": [
    "cd /usr\n",
    "pwd\n",
    "cd         # should now be in your home directory\n",
    "pwd\n",
    "cd -       # should now be back in /usr, should print /usr"
   ]
  },
  {
   "cell_type": "markdown",
   "id": "64ede485",
   "metadata": {},
   "source": [
    "`cd -` prints the absolute path of the previous directory. You can suppress the output using `cd ~-`:"
   ]
  },
  {
   "cell_type": "code",
   "execution_count": null,
   "id": "e51df0f7",
   "metadata": {},
   "outputs": [],
   "source": [
    "cd /usr\n",
    "pwd\n",
    "cd         # should now be in your home directory\n",
    "pwd\n",
    "cd ~-      # should now be back in /usr"
   ]
  },
  {
   "cell_type": "code",
   "execution_count": null,
   "id": "6b136c7c",
   "metadata": {},
   "outputs": [],
   "source": []
  }
 ],
 "metadata": {
  "kernelspec": {
   "display_name": "Bash",
   "language": "bash",
   "name": "bash"
  },
  "language_info": {
   "codemirror_mode": "shell",
   "file_extension": ".sh",
   "mimetype": "text/x-sh",
   "name": "bash"
  }
 },
 "nbformat": 4,
 "nbformat_minor": 5
}
