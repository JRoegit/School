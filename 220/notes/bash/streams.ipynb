{
 "cells": [
  {
   "cell_type": "markdown",
   "id": "d52644f8",
   "metadata": {},
   "source": [
    "# Streams, redirections, pipelines, and tees\n",
    "\n",
    "One of the central UNIX metaphors is that all data is a byte stream.\n",
    "A byte stream is simply an ordered sequence of bytes. Programs can read from a stream of data, and\n",
    "programs can write to a stream of data.\n",
    "\n",
    "<div class=\"alert alert-block alert-info\">\n",
    "    This code in this notebook assumes that the current working directory is \n",
    "    <code>./scripts/permissions</code>. Run the next cell once when using this notebook.\n",
    "</div>"
   ]
  },
  {
   "cell_type": "code",
   "execution_count": null,
   "id": "7a451f0c",
   "metadata": {},
   "outputs": [],
   "source": [
    "# run this cell exactly once each time you open this notebook\n",
    "cd ./scripts/streams"
   ]
  },
  {
   "cell_type": "markdown",
   "id": "9e1ff7b2",
   "metadata": {},
   "source": [
    "## The standard streams\n",
    "\n",
    "> Another Unix breakthrough was to automatically associate input and output to terminal keyboard and terminal\n",
    "> display, respectively, by default--the program (and programmer) did absolutely nothing to establish input and\n",
    "> output for a typical input-process-output program.\n",
    ">\n",
    "> https://en.wikipedia.org/wiki/Standard_streams\n",
    "\n",
    "UNIX has three standard streams called *standard input* (stdin), *standard output* (stdout), and\n",
    "*standard error* (stderr).\n",
    "\n",
    "Standard input is a stream from which data can be read. On UNIX-like systems, standard input is connected to the\n",
    "keyboard by default.\n",
    "\n",
    "Standard output is a stream to which normal output data can be written. On UNIX-like systems, standard output is\n",
    "connected to the terminal by default.\n",
    "\n",
    "Standard error is a stream to which error or diagnostic output data can be written.\n",
    "On Unix-like systems, standard error is connected to the terminal by default.\n",
    "\n",
    "Each standard stream has a unique integer identifier called a *file descriptor*:\n",
    "\n",
    "* `0` standard input\n",
    "* `1` standard output\n",
    "* `2` standard error"
   ]
  },
  {
   "cell_type": "markdown",
   "id": "73a04c41",
   "metadata": {},
   "source": [
    "## The pipeline analogy\n",
    "\n",
    "Commands in UNIX are like segments of pipe: Input flows in one end and\n",
    "output flows out of the other end:\n",
    "\n",
    "![](images/pipeline1.png)\n",
    "\n",
    "Input might take the form of a command line argument. For example, the command `ls /bin` uses the command\n",
    "line argument `/bin` as input to the `ls` command:\n",
    "\n",
    "![](images/pipeline2.png)\n",
    "\n",
    "Some commands will accept input from standard input. In such commands, the user types in the command and\n",
    "presses `Enter`. The user then enters their input data, usually pressing `Enter` to separate lines\n",
    "of data, and then indicates that they are done entering data by pressing `Ctrl-d`. For example,\n",
    "we might run the `sort` command:\n",
    "\n",
    "```sh\n",
    "sort\n",
    "```\n",
    "\n",
    "and then enter some lines of data:\n",
    "\n",
    "```sh\n",
    "zebra\n",
    "elephant\n",
    "anteater\n",
    "dog\n",
    "```\n",
    "\n",
    "typing `Ctrl-d` after entering the last line. `sort` will then sort the lines of input.\n",
    "\n",
    "![](images/pipeline3.png)\n",
    "\n",
    "The `cowsay` program is another program that will read standard input.\n",
    "\n",
    "Most commands will send their output to standard output, although some might write their output to a file.\n",
    "\n",
    "If a command encounters an error, then some output usually goes to standard error. For example,\n",
    "if `ls` is asked to list information about a non-existant file then it will print an error message to\n",
    "standard error:\n",
    "\n",
    "![](images/pipeline5.png)"
   ]
  },
  {
   "cell_type": "markdown",
   "id": "1f136266",
   "metadata": {},
   "source": [
    "## Redirection\n",
    "\n",
    "The user can change where a command gets its input from or sends its output to via *redirection*.\n",
    "Redirecting standard output or standard error allows the user to send the output of a command to a file.\n",
    "Redirecting standard input allows the user to send the contents of a file as input to a command.\n",
    "\n",
    "#### Redirecting standard output\n",
    "\n",
    "To redirect standard output, place\n",
    "\n",
    "\n",
    "`1> `*output_filename*\n",
    "\n",
    "anywhere in a command where *output_filename* is the name of the file that you want to write the output to.\n",
    "The `1` is the file descriptor to redirect. Redirection creates the file if necessary, or overwrites the contents\n",
    "of the file if it already exists. Redirecting standard output causes any output that would have appeared\n",
    "on standard output to be redirected to the file.\n",
    "\n",
    "For example, to list all of the files except `.` and `..` in the current directory and save the output in\n",
    "`files.txt`:"
   ]
  },
  {
   "cell_type": "code",
   "execution_count": null,
   "id": "aabd63af",
   "metadata": {},
   "outputs": [],
   "source": [
    "ls -A 1> files.txt"
   ]
  },
  {
   "cell_type": "markdown",
   "id": "abd242e3",
   "metadata": {},
   "source": [
    "Use `cat` to view the contents of `files.txt`:"
   ]
  },
  {
   "cell_type": "code",
   "execution_count": null,
   "id": "7b6bde19",
   "metadata": {},
   "outputs": [],
   "source": [
    "cat files.txt"
   ]
  },
  {
   "cell_type": "markdown",
   "id": "32d9f854",
   "metadata": {},
   "source": [
    "When redirecting standard output, the file descriptor is optional. We could have written:\n",
    "\n",
    "```sh\n",
    "ls -A > files.txt\n",
    "```\n",
    "\n",
    "for the previous example.\n",
    "\n",
    "Any command that sends its output to standard output can have its output redirected to a file:"
   ]
  },
  {
   "cell_type": "code",
   "execution_count": null,
   "id": "4befab8c",
   "metadata": {},
   "outputs": [],
   "source": [
    "cowsay -f dragon \"Mmm, crunchy knight\" > moo.txt"
   ]
  },
  {
   "cell_type": "code",
   "execution_count": null,
   "id": "56c3c588",
   "metadata": {},
   "outputs": [],
   "source": [
    "cat moo.txt"
   ]
  },
  {
   "cell_type": "markdown",
   "id": "a8887ef7",
   "metadata": {},
   "source": [
    "Using `>>` instead of `>` will append to a file instead of overwriting it."
   ]
  },
  {
   "cell_type": "markdown",
   "id": "64c05dcf",
   "metadata": {},
   "source": [
    "#### Redirecting standard error\n",
    "\n",
    "Redirecting standard error is identical to redirecting standard output except that we (must) use the\n",
    "file descriptor `2`:"
   ]
  },
  {
   "cell_type": "code",
   "execution_count": null,
   "id": "86d11693",
   "metadata": {},
   "outputs": [],
   "source": [
    "ls zzz 2> error.txt"
   ]
  },
  {
   "cell_type": "code",
   "execution_count": null,
   "id": "77d93b10",
   "metadata": {},
   "outputs": [],
   "source": [
    "cat error.txt"
   ]
  },
  {
   "cell_type": "markdown",
   "id": "9d88bb54",
   "metadata": {},
   "source": [
    "#### Redirecting standard output and standard error to separate files\n",
    "\n",
    "Many shell commands do not stop running when they encounter an error. For example:"
   ]
  },
  {
   "cell_type": "code",
   "execution_count": null,
   "id": "6efe2cc1",
   "metadata": {},
   "outputs": [],
   "source": [
    "ls -A zzz file??"
   ]
  },
  {
   "cell_type": "markdown",
   "id": "923d36fd",
   "metadata": {},
   "source": [
    "Both standard output and standard error streams can be redirected for the same command:"
   ]
  },
  {
   "cell_type": "code",
   "execution_count": null,
   "id": "a80f44d8",
   "metadata": {},
   "outputs": [],
   "source": [
    "ls -A zzz file?? > files.txt 2> error.txt"
   ]
  },
  {
   "cell_type": "code",
   "execution_count": null,
   "id": "92a94413",
   "metadata": {},
   "outputs": [],
   "source": [
    "cat files.txt"
   ]
  },
  {
   "cell_type": "code",
   "execution_count": null,
   "id": "eccab97e",
   "metadata": {},
   "outputs": [],
   "source": [
    "cat error.txt"
   ]
  },
  {
   "cell_type": "markdown",
   "id": "b0f07d2a",
   "metadata": {},
   "source": [
    "#### Redirecting standard output and standard error to the same file\n",
    "\n",
    "If you want to redirect all of the output of a command to a file you should use a normal standard output\n",
    "redirection followed by `2>&1`.\n",
    "\n",
    "`2>&1` means duplicate file descriptor `1` and copy it to file descriptor `2`. This causes output\n",
    "to standard error to be redirected to wherever standard output has been redirected to:"
   ]
  },
  {
   "cell_type": "code",
   "execution_count": null,
   "id": "30b5f93d",
   "metadata": {},
   "outputs": [],
   "source": [
    "ls -A zzz file?? > files_all_output.txt 2>&1"
   ]
  },
  {
   "cell_type": "code",
   "execution_count": null,
   "id": "ce285a3b",
   "metadata": {},
   "outputs": [],
   "source": [
    "cat files_all_output.txt"
   ]
  },
  {
   "cell_type": "markdown",
   "id": "d1cd0d9d",
   "metadata": {},
   "source": [
    "Note that there are multiple redirections occurring in the previous example. The rule to remember is that\n",
    "the shell processes the redirections from left to right. If we change the order of the redirections in the\n",
    "previous example to:"
   ]
  },
  {
   "cell_type": "code",
   "execution_count": null,
   "id": "b53dbcff",
   "metadata": {},
   "outputs": [],
   "source": [
    "ls -A zzz file?? 2>&1 > files_all_output.txt"
   ]
  },
  {
   "cell_type": "code",
   "execution_count": null,
   "id": "19e18c24",
   "metadata": {},
   "outputs": [],
   "source": [
    "cat files_all_output.txt"
   ]
  },
  {
   "cell_type": "markdown",
   "id": "b77d1cfd",
   "metadata": {},
   "source": [
    "then file descriptor `1` is duplicated and copied to file descriptor `2` (so standard error now points\n",
    "to standard output) and then redirect standard output to the file `files_all_output.txt`. Now the error\n",
    "message is printed to standard output, and the non-error output of `ls` is redirected to the file."
   ]
  },
  {
   "cell_type": "markdown",
   "id": "c8747f7e",
   "metadata": {},
   "source": [
    "#### Redirecting standard input\n",
    "\n",
    "To redirect standard input so that it reads the contents of a file (instead of reading the keyboard) write:\n",
    "\n",
    "`0< `*input_filename*\n",
    "\n",
    "anywhere in the command where *input_filename* is the name of the file that you want to use as input to the command.\n",
    "The `0` is the file descriptor for standard input.\n",
    "\n",
    "Most commands that read standard input already accept files as inputs, but you can still use redirection\n",
    "if you want. For example, we can sort the lines of the file `unsorted.txt` like so:"
   ]
  },
  {
   "cell_type": "code",
   "execution_count": null,
   "id": "ca59c430",
   "metadata": {},
   "outputs": [],
   "source": [
    "sort 0< unsorted.txt"
   ]
  },
  {
   "cell_type": "markdown",
   "id": "3b53b005",
   "metadata": {},
   "source": [
    "but it is easier to avoid the input redirection:"
   ]
  },
  {
   "cell_type": "code",
   "execution_count": null,
   "id": "a965c936",
   "metadata": {},
   "outputs": [],
   "source": [
    "sort unsorted.txt"
   ]
  },
  {
   "cell_type": "markdown",
   "id": "ce5d8cab",
   "metadata": {},
   "source": [
    "The file descriptor is optional when redirecting standard input:"
   ]
  },
  {
   "cell_type": "code",
   "execution_count": null,
   "id": "18b9c480",
   "metadata": {},
   "outputs": [],
   "source": [
    "sort < unsorted.txt"
   ]
  },
  {
   "cell_type": "markdown",
   "id": "bdb260ca",
   "metadata": {},
   "source": [
    "If needed, standard output (and standard error) can also be redirected:"
   ]
  },
  {
   "cell_type": "code",
   "execution_count": null,
   "id": "260396d2",
   "metadata": {},
   "outputs": [],
   "source": [
    "sort < unsorted.txt > sorted.txt"
   ]
  },
  {
   "cell_type": "code",
   "execution_count": null,
   "id": "06cc89a5",
   "metadata": {},
   "outputs": [],
   "source": [
    "cat sorted.txt"
   ]
  },
  {
   "cell_type": "markdown",
   "id": "d424567b",
   "metadata": {},
   "source": [
    "## Pipelines\n",
    "\n",
    "Commands accept inputs and have outputs, so it is natural to ask if\n",
    "can you connect the output of a command to the input of a second command? The answer is \"yes\"!\n",
    "\n",
    "Use the symbol `|` to connect the output of one command to the input of the following command. \n",
    "For example, we can use the `fortune` command to generate an input string for the `cowsay` command:\n",
    "\n",
    "```sh\n",
    "fortune | cowsay\n",
    "```\n",
    "\n",
    "![](images/pipeline7.png)\n",
    "\n",
    "\n",
    "When listing the contents of a directory containing many files, it is often useful to pipe the output\n",
    "of `ls` to `less` or `more`:\n",
    "\n",
    "```sh\n",
    "ls /bin | less\n",
    "```\n",
    "\n",
    "![](images/pipeline6.png)"
   ]
  },
  {
   "cell_type": "markdown",
   "id": "93c8bc11",
   "metadata": {},
   "source": [
    "You can connect as many commands as you require. For example, the directories `/bin` and `/usr/bin` on the\n",
    "author's machine contain many duplicated files. We can see this easily by listing the contents of the\n",
    "directories and then sorting the result:\n",
    "\n",
    "```\n",
    "ls /bin /usr/bin | sort | less\n",
    "```\n",
    "\n",
    "which produces the (partial) output:\n",
    "\n",
    "```\n",
    "[\n",
    "[\n",
    "aa-enabled\n",
    "aa-enabled\n",
    "aa-exec\n",
    "aa-exec\n",
    "aa-features-abi\n",
    "aa-features-abi\n",
    "aaflip\n",
    "aaflip\n",
    "aconnect\n",
    "aconnect\n",
    "...\n",
    "```\n",
    "\n",
    "We can use the `wc` program to count the number of lines in the output to find the total number of\n",
    "files in both directories:\n",
    "\n",
    "```\n",
    "ls /bin /usr/bin | sort | wc -l\n",
    "```\n",
    "\n",
    "which outputs `3621` on the author's machine.\n",
    "\n",
    "We can use the `uniq` command to remove duplicate adjacent lines to find the total number of unique filenames\n",
    "in both directories:\n",
    "\n",
    "```\n",
    "ls /bin /usr/bin | sort | uniq | wc -l\n",
    "```\n",
    "\n",
    "which outputs `1812` on the author's machine.\n",
    "\n",
    "To get the number of duplicated filenames in the two directories we can  use:\n",
    "\n",
    "```\n",
    "ls /bin /usr/bin | sort | uniq -d | wc -l\n",
    "```\n",
    "\n",
    "which outputs `1809` on the author's machine."
   ]
  },
  {
   "cell_type": "markdown",
   "id": "064580e3",
   "metadata": {},
   "source": [
    "## Tees\n",
    "\n",
    "Redirection allows you to send the output of a command to a file, and\n",
    "piping allows you to send the output of a command to the input of another command.\n",
    "Can you do both? The answer is \"yes!\"\n",
    "\n",
    "The `tee` command reads standard input and copies it to both standard output and to one or more files\n",
    "(the image shows a single file but you can specify multiple files):\n",
    "\n",
    "![](./images/tee.png)\n",
    "\n",
    "The `tee` command is useful for saving intermediate results in a pipeline to a file (or files)\n",
    "For example, we save the current date and time to a file and print various fields of the output:"
   ]
  },
  {
   "cell_type": "code",
   "execution_count": null,
   "id": "aee4a1e4",
   "metadata": {},
   "outputs": [],
   "source": [
    "# date produces different output on macOS\n",
    "date"
   ]
  },
  {
   "cell_type": "code",
   "execution_count": null,
   "id": "bdee283b",
   "metadata": {},
   "outputs": [],
   "source": [
    "# save output of date to fulldate.txt and print output\n",
    "date | tee fulldate.txt"
   ]
  },
  {
   "cell_type": "code",
   "execution_count": null,
   "id": "5f4c69a7",
   "metadata": {},
   "outputs": [],
   "source": [
    "# save output of date to fulldate.txt and print the day\n",
    "date | tee fulldate.txt | cut --delimiter=\" \" --fields=1"
   ]
  },
  {
   "cell_type": "code",
   "execution_count": null,
   "id": "dc852931",
   "metadata": {},
   "outputs": [],
   "source": [
    "# save output of date to fulldate.txt and print the day\n",
    "date | tee fulldate.txt | cut -d\" \" -f1"
   ]
  },
  {
   "cell_type": "code",
   "execution_count": null,
   "id": "a8067169",
   "metadata": {},
   "outputs": [],
   "source": [
    "# save output of date to fulldate.txt and print the month\n",
    "date | tee fulldate.txt | cut -d\" \" -f3"
   ]
  },
  {
   "cell_type": "code",
   "execution_count": null,
   "id": "9784cb36",
   "metadata": {},
   "outputs": [],
   "source": [
    "# save output of date to fulldate.txt and print the year\n",
    "date | tee fulldate.txt | cut -d\" \" -f4"
   ]
  },
  {
   "cell_type": "markdown",
   "id": "7b7c1fbd",
   "metadata": {},
   "source": [
    "`tee` is a command so it can be inserted anywhere in a pipeline:"
   ]
  },
  {
   "cell_type": "code",
   "execution_count": null,
   "id": "03b59b12",
   "metadata": {},
   "outputs": [],
   "source": [
    "fortune | tee fortune.txt | cowsay | tee cow.txt | cowsay -n"
   ]
  },
  {
   "cell_type": "code",
   "execution_count": null,
   "id": "9e0a7fb4",
   "metadata": {},
   "outputs": [],
   "source": []
  }
 ],
 "metadata": {
  "kernelspec": {
   "display_name": "Bash",
   "language": "bash",
   "name": "bash"
  },
  "language_info": {
   "codemirror_mode": "shell",
   "file_extension": ".sh",
   "mimetype": "text/x-sh",
   "name": "bash"
  }
 },
 "nbformat": 4,
 "nbformat_minor": 5
}
