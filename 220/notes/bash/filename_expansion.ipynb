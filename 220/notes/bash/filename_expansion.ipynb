{
 "cells": [
  {
   "cell_type": "markdown",
   "id": "304785ea",
   "metadata": {},
   "source": [
    "# Filename expansion\n",
    "\n",
    "Filenames are used very often by the shell.\n",
    "Filename expansion, often called *globbing*, uses symbols called wildcards to help succinctly specify\n",
    "groups of filenames. If one of the characters `*`, `?`, or `[` appear in a word, and is not quoted, then\n",
    "the word is interpreted as a pattern, and is replaced with an alphabetically sorted list of filenames\n",
    "matching the pattern.\n",
    "\n",
    "The `glob` man page can be found by typing:\n",
    "\n",
    "```\n",
    "man 7 glob\n",
    "```\n",
    "\n",
    "The official documentation can be found at:\n",
    "\n",
    "* [GNU Bash manual page for Pattern Matching](https://www.gnu.org/software/bash/manual/html_node/Pattern-Matching.html)"
   ]
  },
  {
   "cell_type": "markdown",
   "id": "d238409a",
   "metadata": {},
   "source": [
    "## Wildcards\n",
    "\n",
    "The characters `*`, `?`, and `[` are called wildcards. A string is a wildcard pattern if it contains\n",
    "at least one wildcard. The following table describes how the wildcards match filenames:\n",
    "\n",
    "| Wildcard | Description |\n",
    "| :--- | :--- |\n",
    "| `*` | matches any string including the empty string |\n",
    "| `?` | matches any single character |\n",
    "| `[`*characters*`]` | matches any single character in the set *characters* |\n",
    "| `[!`*characters*`]` | matches any single character not in the set *characters* |\n",
    "| `[[:`*class*`:]]` | matches any single character in the specified POSIX class |\n",
    "\n",
    "Some examples of wildcard patterns are shown in the table below:\n",
    "\n",
    "| Pattern | Matches |\n",
    "| :--- | :--- |\n",
    "| `*` | All files |\n",
    "| `a*` | All files starting with `a` |\n",
    "| `A*` | All files starting with `A` |\n",
    "| `*.txt` | All files ending with `.txt` |\n",
    "| `a*.txt` | All files starting with `a` and ending with `.txt` |\n",
    "| `???` | Any three character filename |\n",
    "| `x?z` | Any three character filename starting with `x` and ending with `z` |\n",
    "| `x[yY12]z` | `xyz` or `xYz` or `x1z` or `x2z` |\n",
    "| `x[a-z]z` | Any three character filename starting with `x`, followed by a lowercase letter between `a` and `z`, and ending with `z` |\n",
    "| `x[0-9]z` | Any three character filename starting with `x`, followed by a digit, and ending with `z` |\n",
    "| `[0-9][0-9].pdf` | Any filename starting with two digits and ending in `.pdf` |\n",
    "\n",
    "If a wildcard pattern matches the name of one or more files in the current working directory, then\n",
    "the pattern is replaced with an alphabetically sorted list of filenames matching the pattern.\n",
    "\n",
    "In the directory `./scripts/filename_expansion` you will find many files. The files are empty with the\n",
    "exception of `A.txt` and `a.txt`. You can test the examples above by switching into the directory containing\n",
    "the files and using `echo` to print the list of matching filenames, or by using `ls` to list the matching\n",
    "filenames."
   ]
  },
  {
   "cell_type": "code",
   "execution_count": null,
   "id": "e6dbd0af",
   "metadata": {},
   "outputs": [],
   "source": [
    "# run this cell exactly once each time you open this notebook\n",
    "cd ./scripts/filename_expansion"
   ]
  },
  {
   "cell_type": "code",
   "execution_count": null,
   "id": "991beff0",
   "metadata": {},
   "outputs": [],
   "source": [
    "# change the wildcard pattern to see the effects on matching\n",
    "echo *"
   ]
  },
  {
   "cell_type": "code",
   "execution_count": null,
   "id": "63434a9a",
   "metadata": {},
   "outputs": [],
   "source": [
    "# change the wildcard pattern to see the effects on matching\n",
    "ls *"
   ]
  },
  {
   "cell_type": "markdown",
   "id": "a824b7b5",
   "metadata": {},
   "source": [
    "Many commands (such as `ls`) accept a list of filenames which makes filename expansion a powerful tool for\n",
    "supplying arguments to such commands. For example, we can concatenate the contents of all of the `.txt` files\n",
    "in the directory using a wildcard pattern:"
   ]
  },
  {
   "cell_type": "code",
   "execution_count": null,
   "id": "828edcf0",
   "metadata": {},
   "outputs": [],
   "source": [
    "cat *.txt"
   ]
  },
  {
   "cell_type": "markdown",
   "id": "16da8b54",
   "metadata": {},
   "source": [
    "## POSIX character classes\n",
    "\n",
    "POSIX defines classes of characters that are grouped using a name that is enclosed by `[:` and `:]`.\n",
    "The POSIX character classes may be used only inside of square brackets. The classes are described\n",
    "in the table below:\n",
    "\n",
    "| POSIX character class | Description |\n",
    "| :--- | :--- |\n",
    "| `[:alnum:]` | Alphanumeric characters made up of `[:alpha:]` and `[:digit:]` |\n",
    "| `[:alpha:]` | Alphabetic characters made up of `[:lower:]` and `[:upper:]` |\n",
    "| `[:blank:]` | The blank characters space and tab |\n",
    "| `[:cntrl:]` | Control characters (mostly non-printing) |\n",
    "| `[:digit:]` | The digits 0 through 9 |\n",
    "| `[:graph:]` | Graphical characters made up of `[:alnum:]` and `[:punct:]`  |\n",
    "| `[:lower:]` | The lowercase letters a through z |\n",
    "| `[:print:]` | The printable characters made up of `[alnum]`, `[punct]`, and space |\n",
    "| `[:punct:]` | The punctuation characters: `! \" # $ % & ' ( ) * + , - . / : ; < = > ? @ [ \\ ] ^ _ ` { \\| } ~` |\n",
    "| `[:space:]` | All whitespace characters: tab, newline, vertical tab, form feed, carriage return, and space |\n",
    "| `[:upper:]` | The uppercase letters A through Z |\n",
    "| `[:xdigit:]` | The hexadecimal digits 0 through 9, A through F, and a through f |\n",
    "\n",
    "Some examples of wildcard patterns using the POSIX classes are shown in the table below:\n",
    "\n",
    "| Pattern | Matches |\n",
    "| :--- | :--- |\n",
    "| `[[:upper:]]*` | All files starting with an uppercase letter |\n",
    "| `[![:upper:]]*` | All files not starting with an uppercase letter |\n",
    "| `x[[:digit:]]` | Any two character filename starting with `x` followed by one digit |"
   ]
  },
  {
   "cell_type": "code",
   "execution_count": null,
   "id": "9128f0b8",
   "metadata": {},
   "outputs": [],
   "source": [
    "echo [[:upper:]]*"
   ]
  },
  {
   "cell_type": "code",
   "execution_count": null,
   "id": "a535c313",
   "metadata": {},
   "outputs": [],
   "source": []
  }
 ],
 "metadata": {
  "kernelspec": {
   "display_name": "Bash",
   "language": "bash",
   "name": "bash"
  },
  "language_info": {
   "codemirror_mode": "shell",
   "file_extension": ".sh",
   "mimetype": "text/x-sh",
   "name": "bash"
  }
 },
 "nbformat": 4,
 "nbformat_minor": 5
}
