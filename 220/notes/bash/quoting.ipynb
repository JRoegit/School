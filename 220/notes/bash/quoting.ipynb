{
 "cells": [
  {
   "cell_type": "markdown",
   "id": "03514867",
   "metadata": {},
   "source": [
    "# Quoting\n",
    "\n",
    "As we have seen, some characters have special meaning to the shell. The space character is a prominent\n",
    "example: The shell uses the space character as a word separator and requires special treatment to appear\n",
    "as part of a filename or command name. Quoting is used to remove the special meaning of certain characters\n",
    "in the shell.\n",
    "\n",
    "<div class=\"alert alert-block alert-info\">\n",
    "    This code in this notebook assumes that the current working directory is \n",
    "    <code>./scripts/quoting</code>. Run the next cell once when using this notebook.\n",
    "    <br /><br />\n",
    "    If you see errors related to missing files then the working directory is probably incorrect.\n",
    "</div>"
   ]
  },
  {
   "cell_type": "code",
   "execution_count": null,
   "id": "7e2adec5",
   "metadata": {},
   "outputs": [],
   "source": [
    "# run exactly once before using this notebook\n",
    "cd scripts/quoting"
   ]
  },
  {
   "cell_type": "markdown",
   "id": "c6b253f3",
   "metadata": {},
   "source": [
    "## Escape character\n",
    "\n",
    "A non-quoted backslash `\\` is the shell escape character. The backslash preserves the literal\n",
    "value of the next character that follows the backslash except for the newline character. If you want to use\n",
    "the literal value of a character that has special meaning to the shell, then you can use a backslash\n",
    "in front of the character.\n",
    "\n",
    "The following program prints the characters that might need escaping (https://stackoverflow.com/questions/15783701/which-characters-need-to-be-escaped-when-using-bash)"
   ]
  },
  {
   "cell_type": "code",
   "execution_count": null,
   "id": "0bee9d89",
   "metadata": {},
   "outputs": [],
   "source": [
    "special=$'`!@#$%^&*()-_+={}|[]\\\\;\\':\",.<>?/ '\n",
    "for ((i=0; i < ${#special}; i++)); do\n",
    "    char=\"${special:i:1}\"\n",
    "    printf -v q_char '%q' \"$char\"\n",
    "    if [[ \"$char\" != \"$q_char\" ]]; then\n",
    "        printf 'Yes - character %s needs to be escaped\\n' \"$char\"\n",
    "    else\n",
    "        printf 'No - character %s does not need to be escaped\\n' \"$char\"\n",
    "    fi\n",
    "done | sort"
   ]
  },
  {
   "cell_type": "markdown",
   "id": "fed0674f",
   "metadata": {},
   "source": [
    "Escaping the space character is one way of dealing with spaces in filenames. Run the following cell to list the\n",
    "files in the current directory:"
   ]
  },
  {
   "cell_type": "code",
   "execution_count": null,
   "id": "c538b47d",
   "metadata": {},
   "outputs": [],
   "source": [
    "ls -1"
   ]
  },
  {
   "cell_type": "markdown",
   "id": "734191e2",
   "metadata": {},
   "source": [
    "You should see the following output:\n",
    "\n",
    "```\n",
    "'file_with_*_in_name'\n",
    "'file_with_?_in_name'\n",
    "'file with spaces in name'\n",
    "```\n",
    "\n",
    "The single quotes are not part of the filenames; the shell has inserted them to indicate that the filenames\n",
    "contain special characters that need to be quoted.\n",
    "\n",
    "We can use the escape character to view the contents of the files:"
   ]
  },
  {
   "cell_type": "code",
   "execution_count": null,
   "id": "241e7256",
   "metadata": {},
   "outputs": [],
   "source": [
    "cat file_with_\\*_in_name"
   ]
  },
  {
   "cell_type": "code",
   "execution_count": null,
   "id": "4bdb54d6",
   "metadata": {},
   "outputs": [],
   "source": [
    "cat file_with_\\?_in_name"
   ]
  },
  {
   "cell_type": "code",
   "execution_count": null,
   "id": "76f3df47",
   "metadata": {},
   "outputs": [],
   "source": [
    "cat file\\ with\\ spaces\\ in\\ name"
   ]
  },
  {
   "cell_type": "markdown",
   "id": "272a219a",
   "metadata": {},
   "source": [
    "## Single quotes\n",
    "\n",
    "Single quotes preserve the literal values of all of the characters within the quotes. A single quote may not appear\n",
    "between single quotes. The escape character `\\` has no special meaning between single quotes.\n",
    "\n",
    "We can single quote the filenames to view the contents of our files:"
   ]
  },
  {
   "cell_type": "code",
   "execution_count": null,
   "id": "fb3d7aac",
   "metadata": {},
   "outputs": [],
   "source": [
    "cat 'file_with_*_in_name'"
   ]
  },
  {
   "cell_type": "code",
   "execution_count": null,
   "id": "a7ea248e",
   "metadata": {},
   "outputs": [],
   "source": [
    "cat 'file_with_?_in_name'"
   ]
  },
  {
   "cell_type": "code",
   "execution_count": null,
   "id": "6cd7c60e",
   "metadata": {},
   "outputs": [],
   "source": [
    "cat 'file with spaces in name'"
   ]
  },
  {
   "cell_type": "markdown",
   "id": "b59077c8",
   "metadata": {},
   "source": [
    "## Double quotes\n",
    "\n",
    "Double quotes preserve the literal values of all of the characters within the quotes except for:\n",
    "\n",
    "* <code>&#36;</code>\n",
    "* <code>&#96;</code>\n",
    "* <code>\\</code>\n",
    "* <code>!</code> if history expansion is enabled \n",
    "\n",
    "The behavior of `\\` is modified inside of double quotes. The only characters that are escaped using\n",
    "`\\` are <code>&#36;</code>, <code>&#96;</code>, <code>&#92;</code>, <code>\"</code>, and the newline character.\n",
    "\n",
    "Double quoting is very common in Bash programming to prevent word splitting and filename expansion while still\n",
    "allowing variable dereferencing.\n",
    "\n",
    "We can double quote the filenames to view the contents of our files:"
   ]
  },
  {
   "cell_type": "code",
   "execution_count": null,
   "id": "a49988b0",
   "metadata": {},
   "outputs": [],
   "source": [
    "cat \"file_with_*_in_name\""
   ]
  },
  {
   "cell_type": "code",
   "execution_count": null,
   "id": "80db0613",
   "metadata": {},
   "outputs": [],
   "source": [
    "cat \"file_with_?_in_name\""
   ]
  },
  {
   "cell_type": "code",
   "execution_count": null,
   "id": "cdce43d8",
   "metadata": {},
   "outputs": [],
   "source": [
    "cat \"file with spaces in name\""
   ]
  },
  {
   "cell_type": "markdown",
   "id": "44da0fdd",
   "metadata": {},
   "source": [
    "Double quoting prevents word splitting, filename expansion, tilde expansion, and brace expansion.\n",
    "\n",
    "Parameter expansion, arithmetic expansion, and command expansion still occur. See the *Expansions* notebook for\n",
    "an overview of the different expansions."
   ]
  },
  {
   "cell_type": "code",
   "execution_count": null,
   "id": "6ee3d965",
   "metadata": {},
   "outputs": [],
   "source": []
  }
 ],
 "metadata": {
  "kernelspec": {
   "display_name": "Calysto Bash",
   "language": "bash",
   "name": "calysto_bash"
  },
  "language_info": {
   "file_extension": ".sh",
   "help_links": [
    {
     "text": "MetaKernel Magics",
     "url": "https://metakernel.readthedocs.io/en/latest/source/README.html"
    }
   ],
   "mimetype": "text/x-sh",
   "name": "bash",
   "version": "0.2.2"
  }
 },
 "nbformat": 4,
 "nbformat_minor": 5
}
