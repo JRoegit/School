{
 "cells": [
  {
   "cell_type": "markdown",
   "id": "1c07023a",
   "metadata": {},
   "source": [
    "# Creating, moving, removing, and copying files\n",
    "\n",
    "> Unix has a couple of unifying ideas or metaphors that shape its APIs and the development style that \n",
    "> proceeds from them. The most important of these are probably the \"everything is a file\" model and the\n",
    "> pipe metaphor built on top of it.\n",
    ">\n",
    "> The Art of Unix Programming, http://www.catb.org/esr/writings/taoup/html/ch03s01.html#id2892028\n",
    "\n",
    "The \"everything is a file\" model provides a single abstraction for performing input and output. Regular files,\n",
    "directories, storage devices, peripheral devices, and even some networking can all be accessed using the\n",
    "same set of basic commands.\n",
    "\n",
    "What most people think of as a computer file is simply a collection of bytes. Reading the contents of a\n",
    "file can be thought of as reading a stream of bytes. Writing data to a file can be thought of as\n",
    "writing a stream of bytes. \n",
    "\n",
    "<div class=\"alert alert-block alert-info\">\n",
    "    This code in this notebook assumes that the current working directory is \n",
    "    <code>./scripts/files</code>. Run the next cell once when using this notebook.\n",
    "    <br /><br />\n",
    "    If you see errors related to missing files then the working directory is probably incorrect.\n",
    "</div>"
   ]
  },
  {
   "cell_type": "code",
   "execution_count": null,
   "id": "1510ad12",
   "metadata": {},
   "outputs": [],
   "source": [
    "# run this cell exactly once each time you open this notebook\n",
    "cd ./scripts/files"
   ]
  },
  {
   "cell_type": "markdown",
   "id": "c0f648cd",
   "metadata": {},
   "source": [
    "## Filenames\n",
    "\n",
    "In UNIX, any character may appear in a filename except for the path separator character `/` and the null\n",
    "character `\\0`.\n",
    "\n",
    "Filenames are case sensitive. The filename `abc` is distinct from the filename `Abc`.\n",
    "\n",
    "A filename that begins with a `.` is usually considered to be a hidden file.\n",
    "\n",
    "As we have already seen, there are characters that have special meaning to the shell. While not forbidden,\n",
    "it is generally a good idea to avoid using the characters <code>!\"#$&'()*;<=>?[\\]^\\`{|}~</code> in a filename.\n",
    "Additionally, it is generally a good idea to avoid using whitespace in a filename (use the underscore `_` instead\n",
    "of a space).\n",
    "\n",
    "The hyphen `-` should never be the first character of a filename because it may be interpreted as a\n",
    "command option.\n",
    "\n",
    "A great deal of advice related to shell programming found on the Internet is devoted to explaining why\n",
    "certain constructs are needed to deal with unusual characters in filenames."
   ]
  },
  {
   "cell_type": "markdown",
   "id": "f964b199",
   "metadata": {},
   "source": [
    "## Creating files\n",
    "\n",
    "Obviously we can use a software program such as a word processor, text editor, or drawing program to create\n",
    "files. This section is concerned with creating text based files from the command line.\n",
    "\n",
    "touch\n",
    "\n",
    "mkdir\n",
    "\n",
    "redirection"
   ]
  },
  {
   "cell_type": "markdown",
   "id": "57c4559c",
   "metadata": {},
   "source": [
    "#### `touch`\n",
    "\n",
    "The `touch` command creates one or more named files if they do not already exist. The created files are empty."
   ]
  },
  {
   "cell_type": "code",
   "execution_count": null,
   "id": "3473ba41",
   "metadata": {},
   "outputs": [],
   "source": [
    "ls -l                  # should list only dir1, file1, and A.txt the first time you run this notebook \n",
    "touch file2 file3"
   ]
  },
  {
   "cell_type": "markdown",
   "id": "4478995a",
   "metadata": {},
   "source": [
    "If a file already exists, then `touch` updates the access and modification times of the file to the current time."
   ]
  },
  {
   "cell_type": "code",
   "execution_count": null,
   "id": "1056aca8",
   "metadata": {},
   "outputs": [],
   "source": [
    "ls -l file1            # note the modification time of file1\n",
    "touch file1\n",
    "ls -l file1            # note the modification time of file1"
   ]
  },
  {
   "cell_type": "markdown",
   "id": "0b158cfe",
   "metadata": {},
   "source": [
    "#### `mkdir`\n",
    "\n",
    "The `mkdir` command creates one or more named directories."
   ]
  },
  {
   "cell_type": "code",
   "execution_count": null,
   "id": "f52ff576",
   "metadata": {},
   "outputs": [],
   "source": [
    "echo \"before mkdir: \" && ls\n",
    "mkdir dir2 dir3\n",
    "echo \"after mkdir: \" && ls"
   ]
  },
  {
   "cell_type": "markdown",
   "id": "5efc4dc7",
   "metadata": {},
   "source": [
    "When creating a hierarchy of directories, `mkdir` will fail if one or more of the parent directories are missing."
   ]
  },
  {
   "cell_type": "code",
   "execution_count": null,
   "id": "492c29cc",
   "metadata": {},
   "outputs": [],
   "source": [
    "# fails because xxx and yyy do not exist\n",
    "mkdir xxx/yyy/zzz"
   ]
  },
  {
   "cell_type": "markdown",
   "id": "e08a2feb",
   "metadata": {},
   "source": [
    "You could manually create the missing parent directories:\n",
    "\n",
    "```sh\n",
    "# could do this, but see next cell for an easier way\n",
    "mkdir xxx\n",
    "mkdir xxx/yyy\n",
    "mkdir xxx/yyy/zzz\n",
    "```"
   ]
  },
  {
   "cell_type": "markdown",
   "id": "d250df35",
   "metadata": {},
   "source": [
    "but it is easier to use the `-p` option to create missing parent directories when needed."
   ]
  },
  {
   "cell_type": "code",
   "execution_count": null,
   "id": "98971aa3",
   "metadata": {},
   "outputs": [],
   "source": [
    "mkdir -p xxx/yyy/zzz\n",
    "tree"
   ]
  },
  {
   "cell_type": "markdown",
   "id": "dbcfbb46",
   "metadata": {},
   "source": [
    "The `tree` command lists contents of directories in a tree-like format."
   ]
  },
  {
   "cell_type": "markdown",
   "id": "b4b0ff94",
   "metadata": {},
   "source": [
    "#### Redirecting command output\n",
    "\n",
    "Many commands produce text output. It is possible to redirect this output directly to a file. The redirection\n",
    "operator `>` redirects the non-error output of a command to a specified file overwriting the file if it already\n",
    "exists."
   ]
  },
  {
   "cell_type": "code",
   "execution_count": null,
   "id": "8936dbd3",
   "metadata": {},
   "outputs": [],
   "source": [
    "cowsay \"Mooooo\" > moo.txt"
   ]
  },
  {
   "cell_type": "markdown",
   "id": "bb63b155",
   "metadata": {},
   "source": [
    "Notice that the output that would have normally appeared in the terminal no longer appears. Instead, the output\n",
    "has been redirected to the file `moo.txt`. We can verify that this has happened by printing the contents of the file:"
   ]
  },
  {
   "cell_type": "code",
   "execution_count": null,
   "id": "16bf55c5",
   "metadata": {},
   "outputs": [],
   "source": [
    "cat moo.txt"
   ]
  },
  {
   "cell_type": "markdown",
   "id": "379f8dc7",
   "metadata": {},
   "source": [
    "To append to an existing file (or create a non-existing file), use the operator `>>`:"
   ]
  },
  {
   "cell_type": "code",
   "execution_count": null,
   "id": "7e039ae1",
   "metadata": {},
   "outputs": [],
   "source": [
    "cowsay \"Mooooo again\" >> moo.txt"
   ]
  },
  {
   "cell_type": "markdown",
   "id": "882e0d24",
   "metadata": {},
   "source": [
    "Printing the file contents should show two cows:"
   ]
  },
  {
   "cell_type": "code",
   "execution_count": null,
   "id": "64ee1d84",
   "metadata": {},
   "outputs": [],
   "source": [
    "cat moo.txt"
   ]
  },
  {
   "cell_type": "markdown",
   "id": "0e5374e9",
   "metadata": {},
   "source": [
    "We will revisit the idea of redirection in a later notebook."
   ]
  },
  {
   "cell_type": "markdown",
   "id": "dd09d3c8",
   "metadata": {},
   "source": [
    "## Moving files\n",
    "\n",
    "The `mv` command renames or moves files. To change the name of a file named *fname* to *newname* use:\n",
    "\n",
    "`mv` *fname* *newname*\n",
    "\n",
    "For example:"
   ]
  },
  {
   "cell_type": "code",
   "execution_count": null,
   "id": "7b93da1f",
   "metadata": {},
   "outputs": [],
   "source": [
    "touch afile\n",
    "mv afile bfile      # rename afile to bfile\n",
    "ls"
   ]
  },
  {
   "cell_type": "markdown",
   "id": "e10dfe79",
   "metadata": {},
   "source": [
    "The destination directory for the newly named file may differ from the current directory. For example we can\n",
    "rename `bfile` to `cfile` and put the renamed file in the existing directory `dir1`:"
   ]
  },
  {
   "cell_type": "code",
   "execution_count": null,
   "id": "4160bbaa",
   "metadata": {},
   "outputs": [],
   "source": [
    "mv bfile dir1/cfile\n",
    "ls                  # no bfile in current dir\n",
    "ls dir1/cfile   "
   ]
  },
  {
   "cell_type": "markdown",
   "id": "04c162ad",
   "metadata": {},
   "source": [
    "To move a file *fname*, without renaming it, to a different directory *dirname* use:\n",
    "\n",
    "`mv` *fname* *dirname*\n",
    "\n",
    "For example we can create a file named `zfile` and move it to directory `dir1`:"
   ]
  },
  {
   "cell_type": "code",
   "execution_count": null,
   "id": "dd501524",
   "metadata": {},
   "outputs": [],
   "source": [
    "touch zfile\n",
    "mv zfile dir1\n",
    "ls                  # no zfile\n",
    "ls dir1"
   ]
  },
  {
   "cell_type": "markdown",
   "id": "7ce4c710",
   "metadata": {},
   "source": [
    "Renaming or moving a file to an existing filename will overwrite the existing file, and there is no way to\n",
    "recover the overwritten file. You may use the `-i` option to warn that overwriting is about to occur.\n",
    "Interactive prompts do not work in Jupyter; readers should try the following example in an actual shell:\n",
    "\n",
    "```sh\n",
    "touch xfile yfile\n",
    "mv -i xfile yfile\n",
    "```"
   ]
  },
  {
   "cell_type": "markdown",
   "id": "5d2ad917",
   "metadata": {},
   "source": [
    "## Removing files\n",
    "\n",
    "In UNIX, file deletion is permanent; there is no reliable way to completely recover the contents of a deleted\n",
    "file. This is considered to be one of the problems in the design of UNIX (The Art of Unix Programming, \n",
    "http://www.catb.org/esr/writings/taoup/html/ch20s03.html#id3015538). Readers should consider themselves\n",
    "warned!\n",
    "\n",
    "The `rm` command removes a file or files. To remove a file named *fname* use:\n",
    "\n",
    "`rm` *fname*\n",
    "\n",
    "For example:"
   ]
  },
  {
   "cell_type": "code",
   "execution_count": null,
   "id": "4b814b2f",
   "metadata": {},
   "outputs": [],
   "source": [
    "touch a.txt b.txt c.txt d.txt e.txt\n",
    "ls"
   ]
  },
  {
   "cell_type": "code",
   "execution_count": null,
   "id": "30afd34f",
   "metadata": {},
   "outputs": [],
   "source": [
    "rm a.txt b.txt\n",
    "ls"
   ]
  },
  {
   "cell_type": "code",
   "execution_count": null,
   "id": "a48a0c29",
   "metadata": {},
   "outputs": [],
   "source": [
    "rm *txt\n",
    "ls"
   ]
  },
  {
   "cell_type": "markdown",
   "id": "1d53c9ee",
   "metadata": {},
   "source": [
    "The `-i` option can be used to interactively prompt whether a file should be removed. This is occassionally useful\n",
    "when removing many files with a wildcard pattern."
   ]
  },
  {
   "cell_type": "markdown",
   "id": "2dc89756",
   "metadata": {},
   "source": [
    "The `rmdir` command will remove an empty directory."
   ]
  },
  {
   "cell_type": "code",
   "execution_count": null,
   "id": "c232869b",
   "metadata": {},
   "outputs": [],
   "source": [
    "mkdir somedir\n",
    "ls"
   ]
  },
  {
   "cell_type": "code",
   "execution_count": null,
   "id": "15aacd28",
   "metadata": {},
   "outputs": [],
   "source": [
    "rmdir somedir\n",
    "ls"
   ]
  },
  {
   "cell_type": "markdown",
   "id": "beffe49e",
   "metadata": {},
   "source": [
    "Attempting to remove a non-empty directory using `rmdir` produces an error:"
   ]
  },
  {
   "cell_type": "code",
   "execution_count": null,
   "id": "2a483515",
   "metadata": {},
   "outputs": [],
   "source": [
    "mkdir somedir\n",
    "touch somedir/somefile\n",
    "rmdir somedir"
   ]
  },
  {
   "cell_type": "markdown",
   "id": "1ac2fd43",
   "metadata": {},
   "source": [
    "To remove a directory and all of the files in the directory (including subdirectories and their contents), use\n",
    "the `-r` option of `rm` to recursively remove the directory:"
   ]
  },
  {
   "cell_type": "code",
   "execution_count": null,
   "id": "2111becf",
   "metadata": {},
   "outputs": [],
   "source": [
    "rm -r somedir"
   ]
  },
  {
   "cell_type": "markdown",
   "id": "c0170d06",
   "metadata": {},
   "source": [
    "## Copying files\n",
    "\n",
    "The `cp` command copies one file to a second file, or copies multiple files to a directory.\n",
    "\n",
    "To make a copy of a single file named `fname` use:\n",
    "\n",
    "`cp` *fname* *newname*\n",
    "\n",
    "where *newname* is the filename of the copy. If *newname* is the name of an existing file, then `cp` will \n",
    "overwrite the existing file with the copy. The following example copies the file `A.txt` to the file `A_words.txt`:"
   ]
  },
  {
   "cell_type": "code",
   "execution_count": null,
   "id": "4298c76e",
   "metadata": {},
   "outputs": [],
   "source": [
    "cp A.txt A_words.txt\n",
    "ls"
   ]
  },
  {
   "cell_type": "code",
   "execution_count": null,
   "id": "31803c58",
   "metadata": {},
   "outputs": [],
   "source": [
    "cat A.txt"
   ]
  },
  {
   "cell_type": "code",
   "execution_count": null,
   "id": "47e94f8f",
   "metadata": {},
   "outputs": [],
   "source": [
    "cat A_words.txt"
   ]
  },
  {
   "cell_type": "markdown",
   "id": "c66e4d44",
   "metadata": {},
   "source": [
    "Multiple files can be copied into a directory; for example, we can copy `A.txt` and `A_words.txt` into the directory\n",
    "`dir1`:"
   ]
  },
  {
   "cell_type": "code",
   "execution_count": null,
   "id": "0769bc16",
   "metadata": {},
   "outputs": [],
   "source": [
    "cp A*txt dir1\n",
    "ls dir1"
   ]
  },
  {
   "cell_type": "markdown",
   "id": "f2ef36af",
   "metadata": {},
   "source": [
    "Directories and their contents can be copied using the `-r` option:"
   ]
  },
  {
   "cell_type": "code",
   "execution_count": null,
   "id": "d8b41b3f",
   "metadata": {},
   "outputs": [],
   "source": [
    "cp -r dir1 words"
   ]
  },
  {
   "cell_type": "markdown",
   "id": "3c5d96e9",
   "metadata": {},
   "source": [
    "The directory `words` contains copies of all of the files that are in `dir1`."
   ]
  },
  {
   "cell_type": "markdown",
   "id": "07c505b3",
   "metadata": {},
   "source": [
    "## Linking to files\n",
    "\n",
    "#### Hard links\n",
    "\n",
    "Recall that a hard link is a directory entry that maps a filename to an inode. On the author's computer,\n",
    "the mappings between filenames and inodes for the directory `scripts/files` obtained using `ls -i1` is:\n",
    "\n",
    "| inode number | filename |\n",
    "| :--- | :--- |\n",
    "| 655532 | `A.txt` |\n",
    "| 667642 | `dir1` |\n",
    "| 662687 | `file1` |\n",
    "\n",
    "If you run this example on your own computer, you may see more files if you have run the previous\n",
    "examples in this notebook, and the inode numbers will almost certainly be different.\n",
    "\n",
    "The *long listing* option of `ls` obtained using `ls -il` produces the following output on the author's computer:\n",
    "\n",
    "```\n",
    "total 8\n",
    "655532 -rw-rw-r-- 1 cisc220 cisc220   97 Sep  3 17:41 A.txt\n",
    "667642 drwxrwxr-x 2 cisc220 cisc220 4096 Sep  3 17:07 dir1\n",
    "662687 -rw-rw-r-- 1 cisc220 cisc220    0 Sep  3 14:48 file1\n",
    "```\n",
    "\n",
    "The numbers in the third column of information are the number of hard links to each inode, or the \n",
    "number of hardlinks in a directory.\n",
    "\n",
    "The `ln` command can be used to create a hard link that maps a new filename to the inode that another\n",
    "filename maps to. The syntax is:\n",
    "\n",
    "`ln` *target* *link_name*\n",
    "\n",
    "where *target* is an existing filename and *link_name* is the filename of the link.\n",
    "For example, we can create a new filename `A` that maps to the inode that `A.txt` maps to like\n",
    "so:"
   ]
  },
  {
   "cell_type": "code",
   "execution_count": null,
   "id": "bc32b4f8",
   "metadata": {},
   "outputs": [],
   "source": [
    "ln A.txt A"
   ]
  },
  {
   "cell_type": "markdown",
   "id": "ef9290b7",
   "metadata": {},
   "source": [
    "The *long listing* option of `ls` obtained using `ls -il` produces the following output on the author's computer:\n",
    "\n",
    "```\n",
    "total 12\n",
    "655532 -rw-rw-r-- 2 cisc220 cisc220   97 Sep  3 17:41 A\n",
    "655532 -rw-rw-r-- 2 cisc220 cisc220   97 Sep  3 17:41 A.txt\n",
    "667642 drwxrwxr-x 2 cisc220 cisc220 4096 Sep  3 17:07 dir1\n",
    "662687 -rw-rw-r-- 1 cisc220 cisc220    0 Sep  3 14:48 file1\n",
    "```\n",
    "\n",
    "Notice that the number of hardlinks to inode 655532 is now equal to `2` indicating that there are two\n",
    "filenames that map to the inode. Also\n",
    "notice that the files `A` and `A.txt` have the same inode number. This means that the filenames `A` and `A.txt`\n",
    "both refer to the same file data. Editing the file using the filename `A` modifes the same data that using\n",
    "`A.txt` would. For example, we can append the string `ATM` to the end of the file via the filename `A`:"
   ]
  },
  {
   "cell_type": "code",
   "execution_count": null,
   "id": "a04fa602",
   "metadata": {},
   "outputs": [],
   "source": [
    "echo \"ATM\" >> A"
   ]
  },
  {
   "cell_type": "markdown",
   "id": "a267c57e",
   "metadata": {},
   "source": [
    "Printing the contents of the file using `A.txt` shows that the file has been modified:"
   ]
  },
  {
   "cell_type": "code",
   "execution_count": null,
   "id": "d8d1253b",
   "metadata": {},
   "outputs": [],
   "source": [
    "cat A.txt"
   ]
  },
  {
   "cell_type": "markdown",
   "id": "d63f88d0",
   "metadata": {},
   "source": [
    "If there is exactly one hard link to an inode, then removing the file by name causes the inode to be deleted.\n",
    "If there are more than one hard links to an inode, then removing the file by name only removes the filename\n",
    "and decreases the hard link count by one. For example, if we remove the file named `A`:"
   ]
  },
  {
   "cell_type": "code",
   "execution_count": null,
   "id": "e0d49e56",
   "metadata": {},
   "outputs": [],
   "source": [
    "rm A"
   ]
  },
  {
   "cell_type": "markdown",
   "id": "91c40ce6",
   "metadata": {},
   "source": [
    "then the inode (and the associated file data) is not removed because there is still a filename that links to\n",
    "the inode (namely `A.txt`). The *long listing* option of `ls` obtained using `ls -il` produces the following output on the author's computer:\n",
    "\n",
    "```\n",
    "total 8\n",
    "655532 -rw-rw-r-- 1 cisc220 cisc220  101 Sep  3 20:03 A.txt\n",
    "667642 drwxrwxr-x 2 cisc220 cisc220 4096 Sep  3 17:07 dir1\n",
    "662687 -rw-rw-r-- 1 cisc220 cisc220    0 Sep  3 14:48 file1\n",
    "```\n",
    "\n",
    "Notice that the hard link count to inode 655532 has decreased to `1` and that the filename `A.txt` still\n",
    "maps to inode 655532."
   ]
  },
  {
   "cell_type": "markdown",
   "id": "16609f4a",
   "metadata": {},
   "source": [
    "#### Symbolic or soft links\n",
    "\n",
    "A *symbolic* or *soft link* maps a filename to another filename. The `ln` command can be used to create\n",
    "a symbolic link using the `-s` option. The syntax is:\n",
    "\n",
    "`ln -s` *target* *link_name*\n",
    "\n",
    "where *target* is the filename to link to and *link_name* is the filename of the link. For example, we can\n",
    "create a symbolic link to `A.txt` like so:"
   ]
  },
  {
   "cell_type": "code",
   "execution_count": null,
   "id": "5d6b1853",
   "metadata": {},
   "outputs": [],
   "source": [
    "ln -s A.txt words_starting_with_A"
   ]
  },
  {
   "cell_type": "markdown",
   "id": "62fc4aef",
   "metadata": {},
   "source": [
    "The *long listing* option of `ls` obtained using `ls -il` produces the following output on the author's computer:\n",
    "\n",
    "```\n",
    "total 8\n",
    "655532 -rw-rw-r-- 1 cisc220 cisc220   97 Sep  3 20:13 A.txt\n",
    "667642 drwxrwxr-x 2 cisc220 cisc220 4096 Sep  3 17:07 dir1\n",
    "662687 -rw-rw-r-- 1 cisc220 cisc220    0 Sep  3 14:48 file1\n",
    "655553 lrwxrwxrwx 1 cisc220 cisc220    5 Sep  3 20:21 words_starting_with_A -> A.txt\n",
    "```\n",
    "\n",
    "Notice that the long listing obtained using `ls` shows the symbolic link as\n",
    "`words_starting_with_A -> A.txt`. Also notice that the symbolic link is a file having its own\n",
    "inode (655553).\n",
    "\n",
    "The file corresponding to `A.txt` can be acessed using either the name `A.txt` or the link name `words_starting_with_A`. For example, we can append the string `AWOL` to the end of the file via the link name:"
   ]
  },
  {
   "cell_type": "code",
   "execution_count": null,
   "id": "e224f08a",
   "metadata": {},
   "outputs": [],
   "source": [
    "echo \"AWOL\" >> words_starting_with_A"
   ]
  },
  {
   "cell_type": "markdown",
   "id": "eb985860",
   "metadata": {},
   "source": [
    "Printing the contents of the file using `A.txt` shows that the file has been modified:"
   ]
  },
  {
   "cell_type": "code",
   "execution_count": null,
   "id": "fe6fd7f6",
   "metadata": {},
   "outputs": [],
   "source": [
    "cat A.txt"
   ]
  },
  {
   "cell_type": "markdown",
   "id": "a1726ece",
   "metadata": {},
   "source": [
    "What happens if we rename the file `A.txt`? The symbolic link `words_starting_with_A` no longer maps to\n",
    "a valid filename. Trying to use the symbolic link to access the data in the file now fails because the\n",
    "symbolic link refers to a non-existant filename:"
   ]
  },
  {
   "cell_type": "code",
   "execution_count": null,
   "id": "9935a9c9",
   "metadata": {},
   "outputs": [],
   "source": [
    "mv A.txt a.txt\n",
    "cat words_starting_with_A"
   ]
  },
  {
   "cell_type": "markdown",
   "id": "af57314c",
   "metadata": {},
   "source": [
    "A symbolic link that refers to a non-existant filename is called a *broken*, *dangling*, or *dead* link.\n",
    "The link can be repaired by recreating the filename that the link maps to:"
   ]
  },
  {
   "cell_type": "code",
   "execution_count": null,
   "id": "9ee25549",
   "metadata": {},
   "outputs": [],
   "source": [
    "mv a.txt A.txt\n",
    "cat words_starting_with_A"
   ]
  },
  {
   "cell_type": "markdown",
   "id": "b23aed42",
   "metadata": {},
   "source": [
    "Many Linux distributions make extensive use of soft links to map names in `/bin` to executable programs located\n",
    "elsewhere on the filesystem."
   ]
  },
  {
   "cell_type": "code",
   "execution_count": null,
   "id": "afeb85ce",
   "metadata": {},
   "outputs": [],
   "source": []
  }
 ],
 "metadata": {
  "kernelspec": {
   "display_name": "Bash",
   "language": "bash",
   "name": "bash"
  },
  "language_info": {
   "codemirror_mode": "shell",
   "file_extension": ".sh",
   "mimetype": "text/x-sh",
   "name": "bash"
  }
 },
 "nbformat": 4,
 "nbformat_minor": 5
}
