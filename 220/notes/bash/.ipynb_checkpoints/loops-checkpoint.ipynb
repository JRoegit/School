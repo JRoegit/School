{
 "cells": [
  {
   "cell_type": "markdown",
   "id": "1da5149c",
   "metadata": {},
   "source": [
    "# Loops\n",
    "\n",
    "<div class=\"alert alert-block alert-info\">\n",
    "    You can find all of the scripts in this notebook in the subdirectory containing this notebook:\n",
    "    <code>./scripts/loops</code>\n",
    "</div>\n",
    "\n",
    "Bash has four types of loops:\n",
    "\n",
    "1. `until` loops as long as a test command has an exit status that is not zero\n",
    "2. `while` loops as long as a test command has an exit status that is zero\n",
    "3. a `for` loop that loops over the elements of a list (somewhat like Python's `for` loop)\n",
    "4. a `for` loop similar to the C-style `for` loop \n",
    "\n",
    "The `break` and `continue` commands can be used to control loop execution similar to how `break` and `continue`\n",
    "behave in Python and Java (although the Bash versions can specify which loop to exit or continue when loops are\n",
    "nested)."
   ]
  },
  {
   "cell_type": "markdown",
   "id": "02fe88cd",
   "metadata": {},
   "source": [
    "#### `until` and `while`\n",
    "\n",
    "Recall that in the following `if` statement\n",
    "\n",
    "```sh\n",
    "if test-command; then\n",
    "    commands\n",
    "fi\n",
    "```\n",
    "\n",
    "the exit status of *test-command* is used to determine if the body of the `if` block runs. An exit status \n",
    "of zero for *test-command* is considered to be \"true\" and a non-zero exit status is considered to be \"false\".\n",
    "\n",
    "An `until` loop runs *until a test command succeeds* and a `while` loop runs *while a test command succeeds*.\n",
    "Thus, an infinite loop can be written as:\n",
    "\n",
    "```sh\n",
    "until false; do\n",
    "    # loop body here\n",
    "done\n",
    "```\n",
    "\n",
    "or\n",
    "\n",
    "```sh\n",
    "while true; do\n",
    "    # loop body here\n",
    "done\n",
    "```\n",
    "\n",
    "The `[[ ]]` and `(( ))` constructs can be used as the *test-command*. Thus, an infinite loop can also be \n",
    "written as:\n",
    "\n",
    "```sh\n",
    "until [[ a == b ]]; do\n",
    "    # loop body here\n",
    "done\n",
    "```\n",
    "\n",
    "or\n",
    "\n",
    "```sh\n",
    "while [[ -n abc ]]; do\n",
    "    # loop body here\n",
    "done\n",
    "```\n",
    "\n",
    "or \n",
    "\n",
    "```sh\n",
    "until (( 1 + 1 < 1 )); do\n",
    "    # loop body here\n",
    "done\n",
    "```\n",
    "\n",
    "or\n",
    "\n",
    "```sh\n",
    "while (( 1 > 0 )); do\n",
    "    # loop body here\n",
    "done\n",
    "```\n",
    "\n",
    "Examples of loops that count down to zero starting from 10 are shown below:"
   ]
  },
  {
   "cell_type": "code",
   "execution_count": null,
   "id": "c4e1ae61",
   "metadata": {},
   "outputs": [],
   "source": [
    "count=10\n",
    "until (( count < 0 )); do\n",
    "    echo $count\n",
    "    count=$(( count - 1 ))\n",
    "done"
   ]
  },
  {
   "cell_type": "code",
   "execution_count": null,
   "id": "a7b33ebe",
   "metadata": {},
   "outputs": [],
   "source": [
    "count=10\n",
    "while (( count > -1 )); do\n",
    "    echo $count\n",
    "    (( count-- ))\n",
    "done"
   ]
  },
  {
   "cell_type": "markdown",
   "id": "0e9ad55e",
   "metadata": {},
   "source": [
    "The [Collatz conjecture](https://en.wikipedia.org/wiki/Collatz_conjecture) says that if we start with\n",
    "a positive integer $n$ and repeat the following steps then the value of $n$ will eventually equal $1$:\n",
    "\n",
    "* if $n$ is even then let $n = n/2$, otherwise\n",
    "* let $n=3 \\times n + 1$\n",
    "\n",
    "No one knows if the conjecture is true but mathematicians have used computers to test the conjecture up to\n",
    "values of $2^{68}$ (as of 2020).\n",
    "\n",
    "A script that prints the sequence of values that $n$ takes on is shown below:\n",
    "\n",
    "---\n",
    "```sh\n",
    "#!/bin/bash\n",
    "\n",
    "# collatz.sh\n",
    "\n",
    "if (( $# == 0 )); then\n",
    "    echo \"collatz.sh: missing positive integer argument\" >&2\n",
    "    exit 1\n",
    "else\n",
    "    val=$1\n",
    "fi\n",
    "if [[ ! $val =~ ^[-+]?[0-9]+$ ]]; then\n",
    "    echo \"collatz.sh: argument is not an integer\" >&2\n",
    "    exit 1\n",
    "fi\n",
    "if (( val < 1 )); then\n",
    "    echo \"collatz.sh: argument is not positive\" >&2\n",
    "    exit 2\n",
    "fi\n",
    "echo $val\n",
    "while (( val != 1 )); do\n",
    "    if (( val % 2 == 0 )); then\n",
    "        val=$(( val / 2 ))\n",
    "    else\n",
    "        val=$(( 3 * val + 1 ))\n",
    "    fi\n",
    "    echo $val\n",
    "done\n",
    "\n",
    "```\n",
    "---"
   ]
  },
  {
   "cell_type": "code",
   "execution_count": null,
   "id": "55e1dfdd",
   "metadata": {},
   "outputs": [],
   "source": [
    "./scripts/loops/collatz.sh 27"
   ]
  },
  {
   "cell_type": "markdown",
   "id": "f2f7468f",
   "metadata": {},
   "source": [
    "### `for` loop over elements in a list\n",
    "\n",
    "There is no list data type in Bash, but the official Bash documentation often mentions the term \"list\". In Bash,\n",
    "a list is simply a sequence of whitespace separated strings. A `for` loop over the elements of a list looks\n",
    "somewhat similar to a Python `for` loop:\n",
    "\n",
    "```sh\n",
    "for name in list; do\n",
    "    commands\n",
    "done\n",
    "```\n",
    "\n",
    "The above `for` loop executes the loop body *commands* once for each string in *list*. Inside the loop body,\n",
    "*name* is bound to the current string being processed in *list*. An example of a `for` loop that counts down to zero starting from 10 is shown below:"
   ]
  },
  {
   "cell_type": "code",
   "execution_count": null,
   "id": "6e90babf",
   "metadata": {},
   "outputs": [],
   "source": [
    "for i in 10 9 8 7 6 5 4 3 2 1 0; do\n",
    "    echo $i\n",
    "done"
   ]
  },
  {
   "cell_type": "markdown",
   "id": "763e0776",
   "metadata": {},
   "source": [
    "The list of strings can be obtained from an expansion. For example, word splitting after parameter substitution\n",
    "produces a list: "
   ]
  },
  {
   "cell_type": "code",
   "execution_count": null,
   "id": "9d6f74ec",
   "metadata": {},
   "outputs": [],
   "source": [
    "str=\"this is a string   with words          separated by spaces\"\n",
    "for s in $str; do\n",
    "    echo $s\n",
    "done"
   ]
  },
  {
   "cell_type": "markdown",
   "id": "3a2c63a2",
   "metadata": {},
   "source": [
    "In the above example, `$str` is intentionally unquoted so that the shell performs word splitting.\n",
    "\n",
    "Filename expansion produces a list of zero or more filenames (but see the following example for what happens\n",
    "when a filename expansion produces no filenames):"
   ]
  },
  {
   "cell_type": "code",
   "execution_count": null,
   "id": "1e41aaf7",
   "metadata": {},
   "outputs": [],
   "source": [
    "for script in ./scripts/loops/*sh; do\n",
    "    echo \"$script\"\n",
    "done"
   ]
  },
  {
   "cell_type": "markdown",
   "id": "ee8bb0fe",
   "metadata": {},
   "source": [
    "A potential source of error occurs when a filename expansion fails to match any filenames; in this case, the list\n",
    "is the string equal to the text of the expansion:"
   ]
  },
  {
   "cell_type": "code",
   "execution_count": null,
   "id": "4ff4b4a9",
   "metadata": {},
   "outputs": [],
   "source": [
    "# no pdf files in ./scripts/loops\n",
    "for script in ./scripts/loops/*pdf; do\n",
    "    echo \"$script\"\n",
    "done"
   ]
  },
  {
   "cell_type": "markdown",
   "id": "455aefba",
   "metadata": {},
   "source": [
    "Brace expansion produces a list of strings:"
   ]
  },
  {
   "cell_type": "code",
   "execution_count": null,
   "id": "1e0b6b1b",
   "metadata": {},
   "outputs": [],
   "source": [
    "for i in {10..0}; do\n",
    "    echo $i\n",
    "done"
   ]
  },
  {
   "cell_type": "markdown",
   "id": "41d26e50",
   "metadata": {},
   "source": [
    "A command substitution is a common source of lists in a `for` loop:"
   ]
  },
  {
   "cell_type": "code",
   "execution_count": null,
   "id": "5d0b622c",
   "metadata": {},
   "outputs": [],
   "source": [
    "for i in $(seq 10 -1 0); do\n",
    "    echo $i\n",
    "done"
   ]
  },
  {
   "cell_type": "markdown",
   "id": "93d37403",
   "metadata": {},
   "source": [
    "<div class=\"alert alert-block alert-warning\">\n",
    "    You should generally avoid using the <tt>seq</tt> command to perform counting. Use a C-style for loop\n",
    "    instead (see next section). The shell must spawn a subshell to run the <tt>seq</tt> command which\n",
    "    is a waste of resources for a task that the shell can perform on its own.\n",
    "</div>"
   ]
  },
  {
   "cell_type": "markdown",
   "id": "10826b7b",
   "metadata": {},
   "source": [
    "The following snippet uses `grep` to search for lines containing the keyword `if` in the `collatz.sh` script\n",
    "and pipes the result to `cut` to keep just the line number:"
   ]
  },
  {
   "cell_type": "code",
   "execution_count": null,
   "id": "17e328cd",
   "metadata": {},
   "outputs": [],
   "source": [
    "echo \"keyword if appears on lines:\"\n",
    "for linenum in $(grep -En if ./scripts/loops/collatz.sh | cut -f1 -d:); do\n",
    "    echo $linenum\n",
    "done"
   ]
  },
  {
   "cell_type": "markdown",
   "id": "eba39ac6",
   "metadata": {},
   "source": [
    "### C-style `for` loop\n",
    "\n",
    "Bash provides a C-style `for` loop that can be used when the loop control variables are manipulated\n",
    "using arithmetic:\n",
    "\n",
    "```sh\n",
    "for (( expr1; expr2; expr3 )); do\n",
    "    commands\n",
    "done\n",
    "```\n",
    "\n",
    "*expr1* is an arithmetic expression that is evaluated once before the loop runs. Typically, *expr1* is used\n",
    "to initialize any loop variables.\n",
    "\n",
    "*expr2* is an arithmetic expression that is evaluated before each iteration of the loop. Typically, *expr2*\n",
    "is a condition involving the loop variables. The loop body runs if *expr2* evaluates to a non-zero value\n",
    "(recall that an arithmetic expression is analogous to `true` if its value is not zero). The loop terminates\n",
    "when *expr2* evaluates to zero.\n",
    "\n",
    "*expr3* is an arithmetic expression that is evaluated at the end of each iteration of the loop. Typically,\n",
    "*expr3* is used to update the loop variables.\n",
    "\n",
    "An example of a loop that counts down to zero starting from 10 is:"
   ]
  },
  {
   "cell_type": "code",
   "execution_count": null,
   "id": "fbc6fb42",
   "metadata": {},
   "outputs": [],
   "source": [
    "for (( i=10; i >= 0; i-- )); do\n",
    "    echo $i\n",
    "done"
   ]
  },
  {
   "cell_type": "markdown",
   "id": "98eaef41",
   "metadata": {},
   "source": [
    "# Looping over command line arguments\n",
    "\n",
    "The special parameters `*` and `@` both expand to the positional parameters (the command line arguments\n",
    "provided to the script) starting at `$1`. Using `@` is almost always the correct thing to do when\n",
    "sequentially processing the command line arguments to a script.\n",
    "\n",
    "The following script uses a `for` loop to iterate over all of the command line arguments:\n",
    "\n",
    "---\n",
    "```sh\n",
    "#!/bin/bash\n",
    "\n",
    "# for_each_arg.sh\n",
    "\n",
    "i=1\n",
    "for arg in \"$@\"; do\n",
    "    echo \"\\$${i} : $arg\"\n",
    "    (( i++ ))\n",
    "done\n",
    "```\n",
    "---\n"
   ]
  },
  {
   "cell_type": "code",
   "execution_count": null,
   "id": "c6c3251a",
   "metadata": {},
   "outputs": [],
   "source": [
    "./scripts/loops/for_each_arg.sh arg1 \"arg2 has some spaces\" \"arg3 has some spaces, too\""
   ]
  },
  {
   "cell_type": "markdown",
   "id": "151a7bce",
   "metadata": {},
   "source": [
    "The quotes around `$@` are important in this context. `\"$@\"` expands to `\"$1\" \"$2\" ...` which prevents word\n",
    "splitting of the arguments. \n",
    "\n",
    "An unquoted `$@` expands to `$1 $2 ...` so word splitting of the arguments occur if they contain whitespace.\n",
    "The script `bad_for_each_arg.sh` is identical to `for_each_arg.sh` except that the \n",
    "`$@` is not quoted. Running `bad_for_each_arg.sh` with the same command line arguments as above produces\n",
    "different output:"
   ]
  },
  {
   "cell_type": "code",
   "execution_count": null,
   "id": "877bcc16",
   "metadata": {},
   "outputs": [],
   "source": [
    "./scripts/loops/bad_for_each_arg.sh arg1 \"arg2 has some spaces\" \"arg3 has some spaces, too\""
   ]
  },
  {
   "cell_type": "markdown",
   "id": "0cf22423",
   "metadata": {},
   "source": [
    "It is also common to see a `while` loop combined with the `shift` builtin used to sequentially process\n",
    "command line arguments. `shift n` shifts the positional parameters to the left by *n* where *n* is a non-negative\n",
    "integer value. *n* is assumed to be equal to $1$ if it is missing. The positional parameters are unchanged\n",
    "if *n* is zero or greater than `$#`. The value of `#` is updated to reflect the updated number of positional\n",
    "parameters.\n",
    "\n",
    "`shift` or `shift 1` shifts the value of `$2` to `$1`, `$3` to `$2`, and so on. `$n` is unset. If you imagine\n",
    "that the positional parameters are stored in a queue, then `shift` or `shift 1` is similar to dequeuing one\n",
    "element from the queue.\n",
    "\n",
    "The following script uses a `while` loop combined with `shift` to sequentially process command line arguments:\n",
    "\n",
    "---\n",
    "```sh\n",
    "#!/bin/bash\n",
    "\n",
    "# shift_arg.sh\n",
    "\n",
    "while (( $# > 0 )); do\n",
    "    # do something with first positional parameter\n",
    "    # e.g., print its value\n",
    "    echo \"$1\"\n",
    "\n",
    "    # now shift positional parameters\n",
    "    shift\n",
    "done\n",
    "\n",
    "```\n",
    "---"
   ]
  },
  {
   "cell_type": "code",
   "execution_count": null,
   "id": "18e7445c",
   "metadata": {},
   "outputs": [],
   "source": [
    "./scripts/loops/shift_arg.sh arg1 \"arg2 has some spaces\" \"arg3 has some spaces, too\""
   ]
  },
  {
   "cell_type": "markdown",
   "id": "bb231022",
   "metadata": {},
   "source": [
    "## Reading a file one line at a time\n",
    "\n",
    "Plain-text files often contain line oriented data where each line contains some structured information and\n",
    "each line ends with a newline character. Such files can be read one line at a time using a `while` loop,\n",
    "the builtin `read` command, and a redirection:\n",
    "\n",
    "```sh\n",
    "while read -r line; do\n",
    "    # print the line or do some other processing\n",
    "    echo \"$line\"\n",
    "done < \"$file\"\n",
    "```\n",
    "\n",
    "The `read` builtin command reads one line of text from standard input and stores the text in the variable\n",
    "`line`. The `-r` option causes `read` to treat the backslash `\\` as an ordinary character instead of the\n",
    "escape character. The exit status of `read` is `0` unless `read` encounters an error when trying to read\n",
    "the line of input; thus, the `while` loop runs as long as `read` is able to successfully read a line of\n",
    "text that is terminated by a newline character.\n",
    "\n",
    "Consider the following file (found in `./scripts/loops/students.txt`) that contains a list of student\n",
    "information one student per line:\n",
    "\n",
    "```\n",
    "# student number, last name, first name\n",
    "12345,Parr,Jack-Jack\n",
    "23456,Wazowski,Mike\n",
    "98765,Best,Lucius\n",
    "```\n",
    "\n",
    "The following cell uses the loop shown above to process the file:"
   ]
  },
  {
   "cell_type": "code",
   "execution_count": null,
   "id": "b62f729a",
   "metadata": {},
   "outputs": [],
   "source": [
    "file=\"./scripts/loops/students.txt\"\n",
    "while read -r line; do\n",
    "    echo \"$line\"\n",
    "done < \"$file\""
   ]
  },
  {
   "cell_type": "markdown",
   "id": "29387092",
   "metadata": {},
   "source": [
    "We can ignore the first line of the file using some simple logic and a regular expression inside the loop:"
   ]
  },
  {
   "cell_type": "code",
   "execution_count": null,
   "id": "50d38614",
   "metadata": {},
   "outputs": [],
   "source": [
    "file=\"./scripts/loops/students.txt\"\n",
    "while read -r line; do\n",
    "    # ignore lines starting with #\n",
    "    if [[ $line =~ ^# ]]; then\n",
    "        continue\n",
    "    fi\n",
    "    echo \"$line\"\n",
    "done < \"$file\""
   ]
  },
  {
   "cell_type": "markdown",
   "id": "13509eca",
   "metadata": {},
   "source": [
    "`read` is able to split the contents of the line into separate fields and each field can be stored in\n",
    "a separate variable. `read` uses the characters in `IFS` to perform the splitting. For example,\n",
    "we can extract the student number, last name, and first name of each student like so:"
   ]
  },
  {
   "cell_type": "code",
   "execution_count": null,
   "id": "1e727211",
   "metadata": {},
   "outputs": [],
   "source": [
    "file=\"./scripts/loops/students.txt\"\n",
    "OLDIFS=$IFS\n",
    "IFS=\",\"\n",
    "while read -r student_number last_name first_name; do\n",
    "    # ignore lines starting with #\n",
    "    if [[ $student_number =~ ^# ]]; then\n",
    "        continue\n",
    "    fi\n",
    "    echo \"Student number : $student_number\"\n",
    "    echo \"Last name      : $last_name\"\n",
    "    echo \"First name     : $first_name\"\n",
    "    echo \"\"\n",
    "done < \"$file\"\n",
    "IFS=$OLDIFS"
   ]
  },
  {
   "cell_type": "markdown",
   "id": "7508b926",
   "metadata": {},
   "source": [
    "Instead of saving and restoring the state of `IFS`, we can set `IFS` only for the duration of the\n",
    "`read` command using the following:"
   ]
  },
  {
   "cell_type": "code",
   "execution_count": null,
   "id": "bbca4015",
   "metadata": {},
   "outputs": [],
   "source": [
    "file=\"./scripts/loops/students.txt\"\n",
    "\n",
    "while IFS=\",\" read -r student_number last_name first_name; do\n",
    "    # ignore lines starting with #\n",
    "    if [[ $student_number =~ ^# ]]; then\n",
    "        continue\n",
    "    fi\n",
    "    echo \"Student number : $student_number\"\n",
    "    echo \"Last name      : $last_name\"\n",
    "    echo \"First name     : $first_name\"\n",
    "    echo \"\"\n",
    "done < \"$file\""
   ]
  },
  {
   "cell_type": "code",
   "execution_count": null,
   "id": "ecda929b",
   "metadata": {},
   "outputs": [],
   "source": []
  }
 ],
 "metadata": {
  "kernelspec": {
   "display_name": "Calysto Bash",
   "language": "bash",
   "name": "calysto_bash"
  },
  "language_info": {
   "file_extension": ".sh",
   "help_links": [
    {
     "text": "MetaKernel Magics",
     "url": "https://metakernel.readthedocs.io/en/latest/source/README.html"
    }
   ],
   "mimetype": "text/x-sh",
   "name": "bash",
   "version": "0.2.2"
  }
 },
 "nbformat": 4,
 "nbformat_minor": 5
}
