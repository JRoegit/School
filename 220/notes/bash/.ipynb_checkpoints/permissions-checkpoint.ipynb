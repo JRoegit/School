{
 "cells": [
  {
   "cell_type": "markdown",
   "id": "64caccbf",
   "metadata": {},
   "source": [
    "# Permissions\n",
    "\n",
    "UNIX-like OSes were designed for multi-tasking, multi-user systems. Typically, there multiple users of the computer\n",
    "at the same time where users are typically logged into the computer over a network.\n",
    "For this to work, there need to be mechanisms in place that protect users from each other and that protect the OS from normal users. For example, \n",
    "a user should not be able to modify (or perhaps even see) another user's files, and\n",
    "a normal user should not be able to modify critical OS files.\n",
    "\n",
    "UNIX associates *access rights* or *permissions* with every file. Permissions are granted to three\n",
    "classes called:\n",
    "\n",
    "* *user* : the owner of the file. Every file has a username associated with it.\n",
    "* *group* : multiple users can belong to a group. Every user belongs to a least one group and may\n",
    "belong to multiple groups. Many Linux distributions create a group having the same name as the\n",
    "user whenever a new user is added to the system. Every file has a groupname associated with it.\n",
    "* *other* : Any user that is not the owner nor a member of the group is in this class.\n",
    "\n",
    "<div class=\"alert alert-block alert-info\">\n",
    "    This code in this notebook assumes that the current working directory is \n",
    "    <code>./scripts/permissions</code>. Run the next cell once when using this notebook.\n",
    "    <br /><br />\n",
    "    If you see errors related to missing files then the working directory is probably incorrect.\n",
    "</div>"
   ]
  },
  {
   "cell_type": "code",
   "execution_count": null,
   "id": "f5875fca",
   "metadata": {},
   "outputs": [],
   "source": [
    "# run this cell exactly once each time you open this notebook\n",
    "cd ./scripts/permissions"
   ]
  },
  {
   "cell_type": "markdown",
   "id": "d24866e6",
   "metadata": {},
   "source": [
    "The long listing output of `ls` shows the username and groupname of a file:"
   ]
  },
  {
   "cell_type": "code",
   "execution_count": null,
   "id": "0c79a3da",
   "metadata": {},
   "outputs": [],
   "source": [
    "ls -l file1"
   ]
  },
  {
   "cell_type": "markdown",
   "id": "23d077f6",
   "metadata": {},
   "source": [
    "You should see something resembling the following:\n",
    "\n",
    "![](./images/long_listing.png)"
   ]
  },
  {
   "cell_type": "markdown",
   "id": "b0027b4d",
   "metadata": {},
   "source": [
    "The parts of the long listing output in this example are:\n",
    "\n",
    "1. file type (leftmost symbol) and permissions (remaining symbols)\n",
    "2. number of hard links\n",
    "3. username\n",
    "4. groupname\n",
    "5. disk size in bytes\n",
    "6. timestamp\n",
    "7. filename\n",
    "\n",
    "Note that the long listing format is not standardized and that you may need to consult your local\n",
    "documentation for details.\n",
    "\n",
    "#### 1. File type and permissions\n",
    "\n",
    "The leftmost symbol denotes the file type of the file. There are seven standard file types\n",
    "(https://en.wikipedia.org/wiki/Unix_file_types). Some of the file types that readers might encounter \n",
    "in this course are described in the following table.\n",
    "\n",
    "| Symbol | File type |\n",
    "| :--- | :--- |\n",
    "| <code>-</code> | regular file |\n",
    "| <code>d</code> | directory |\n",
    "| <code>l</code> | symbolic link |\n",
    "| <code>c</code> | device file: character special file (handles data as a stream of bytes such as a terminal) |\n",
    "| <code>b</code> | device file: block special file (handles data as blocks such as a disk drive)  |\n",
    "\n",
    "The remaining symbols indicate the *user* permissions, *group* permissions, and *other* permissions\n",
    "on the file taken in groups of three symbols. From left to right, the example above reads:\n",
    "\n",
    "* `rw-` the *user* permissions\n",
    "* `rw-` the *group* permissions\n",
    "* `r--` the *other* permissions\n",
    "\n",
    "The symbols always appear in the same order: read-write-execute. An `r` indicates that read permission\n",
    "is granted. A `w` indicates that write permission is granted. An `x` indicates that execute permission \n",
    "is granted. A `-` means that the particular permission is not granted. In the example, we can see that\n",
    "the owner of the file has read and write permission, members of the group have read and write permission,\n",
    "and all other users have read permission.\n",
    "\n",
    "Permissions affect regular files and directories differently as shown in the following two tables:\n",
    "\n",
    "| Permission | Regular files |\n",
    "| :--- | :--- |\n",
    "| read | File can be opened and read |\n",
    "| write | File can be written to or truncated. Does not allow creation, deletion, or renaming |\n",
    "| execute | File can be run like a program or executed as a script |\n",
    "\n",
    "| Permission | Directories |\n",
    "| :--- | :--- |\n",
    "| read | Directory contents can be listed if execute permission is also granted |\n",
    "| write | Files can be created, deleted, or renamed if execute permission is also granted |\n",
    "| execute | Directory can be entered |\n",
    "\n",
    "The symbol in the execute positions can also be `s`, `S`, `t`, or `T`, but these permissions\n",
    "are beyond the scope of this notebook.\n",
    "\n",
    "#### 2. Number of hard links\n",
    "\n",
    "See the *Filesystem* and *Creating, moving, removing, and copying files* notebooks for details.\n",
    "\n",
    "#### 3. Username\n",
    "\n",
    "The username is name of the user that owns the file.\n",
    "\n",
    "#### 4. Groupname\n",
    "\n",
    "The groupname is name of the group that the file belongs to. On many Linux distributions, every\n",
    "user has a group named after them called a *user private group* and the default group that a file is assigned to\n",
    "is the user private group. The owner of the file may assign the file to a different group.\n",
    "\n",
    "#### 5. Disk size \n",
    "\n",
    "The disk size on the author's computer is listed in bytes, but this can be changed by other\n",
    "command line options.\n",
    "\n",
    "#### 6. Timestamp\n",
    "\n",
    "The timestamp is the modification time on the author's computer. The modification time is the last\n",
    "time the file contents were modified.\n",
    "\n",
    "#### 7. Filename\n",
    "\n",
    "Self explanatory."
   ]
  },
  {
   "cell_type": "markdown",
   "id": "e3c24fc1",
   "metadata": {},
   "source": [
    "## Changing file permissions\n",
    "\n",
    "The file owner can use the `chmod` command to change the permissions of a file.\n",
    "\n",
    "#### Permissions as octal values\n",
    "\n",
    "Each of the *user-group-other* permissions can be assigned an integer value between 0 and 7. The\n",
    "following table illustrates the results:\n",
    "\n",
    "| Octal value | Binary value | File permissions |\n",
    "| :--- | :--- | :--- |\n",
    "| 0 | 000 | --- |\n",
    "| 1 | 001 | --x |\n",
    "| 2 | 010 | -w- |\n",
    "| 3 | 011 | -wx |\n",
    "| 4 | 100 | r-- |\n",
    "| 5 | 101 | r-x |\n",
    "| 6 | 110 | rw- |\n",
    "| 7 | 111 | rwx |\n",
    "\n",
    "For example, to grant read access to *user* and remove all other permissions:"
   ]
  },
  {
   "cell_type": "code",
   "execution_count": null,
   "id": "889f9703",
   "metadata": {},
   "outputs": [],
   "source": [
    "chmod 400 file1\n",
    "ls -l"
   ]
  },
  {
   "cell_type": "markdown",
   "id": "1a123a92",
   "metadata": {},
   "source": [
    "To grant read access to all users and remove all other permissions:"
   ]
  },
  {
   "cell_type": "code",
   "execution_count": null,
   "id": "d1e91bca",
   "metadata": {},
   "outputs": [],
   "source": [
    "chmod 444 file1\n",
    "ls -l"
   ]
  },
  {
   "cell_type": "markdown",
   "id": "f52fefd7",
   "metadata": {},
   "source": [
    "To grant all permissions to *user* and read and execute permissions to everyone else:"
   ]
  },
  {
   "cell_type": "code",
   "execution_count": null,
   "id": "0abb588a",
   "metadata": {},
   "outputs": [],
   "source": [
    "chmod 755 file1\n",
    "ls -l"
   ]
  },
  {
   "cell_type": "markdown",
   "id": "32433223",
   "metadata": {},
   "source": [
    "#### Permissions as symbolic values\n",
    "\n",
    "The `chmod` command also accepts a sequence of symbols for setting permissions. There are three sets of symbols.\n",
    "The first set of symbols indicate the user class to modify:\n",
    "\n",
    "| Symbol | Meaning |\n",
    "| :--- | :--- |\n",
    "| u | *user* or owner |\n",
    "| g | *group* |\n",
    "| o | *other* |\n",
    "| a | all users |\n",
    "\n",
    "The second set of symbols indicate whether to add, remove,\n",
    "or assign a permission:\n",
    "\n",
    "| Symbol | Meaning |\n",
    "| :--- | :--- |\n",
    "| + | add a permission |\n",
    "| - | remove a permission |\n",
    "| = | assign a permission |\n",
    "\n",
    "The last set of symbols indicate which permissions are affected:\n",
    "\n",
    "| Symbol | Meaning |\n",
    "| :--- | :--- |\n",
    "| r | read |\n",
    "| w | write |\n",
    "| x | execute |\n",
    "\n",
    "Suppose that we have a file with no permissions set:"
   ]
  },
  {
   "cell_type": "code",
   "execution_count": null,
   "id": "f646e09b",
   "metadata": {},
   "outputs": [],
   "source": [
    "chmod 000 file1\n",
    "ls -l"
   ]
  },
  {
   "cell_type": "markdown",
   "id": "1eee6356",
   "metadata": {},
   "source": [
    "We can add read permission for all users like so:"
   ]
  },
  {
   "cell_type": "code",
   "execution_count": null,
   "id": "2669351c",
   "metadata": {},
   "outputs": [],
   "source": [
    "chmod a+r file1\n",
    "ls -l"
   ]
  },
  {
   "cell_type": "markdown",
   "id": "3b431350",
   "metadata": {},
   "source": [
    "We can add write permission for the owner like so:"
   ]
  },
  {
   "cell_type": "code",
   "execution_count": null,
   "id": "d17f6369",
   "metadata": {},
   "outputs": [],
   "source": [
    "chmod u+w file1\n",
    "ls -l"
   ]
  },
  {
   "cell_type": "markdown",
   "id": "7f0d7315",
   "metadata": {},
   "source": [
    "We can remove write permission for the owner like so:"
   ]
  },
  {
   "cell_type": "code",
   "execution_count": null,
   "id": "b6c97005",
   "metadata": {},
   "outputs": [],
   "source": [
    "chmod u-w file1\n",
    "ls -l"
   ]
  },
  {
   "cell_type": "markdown",
   "id": "79e19add",
   "metadata": {},
   "source": [
    "We can assign all permissions for the owner like so:"
   ]
  },
  {
   "cell_type": "code",
   "execution_count": null,
   "id": "b76d8772",
   "metadata": {},
   "outputs": [],
   "source": [
    "chmod u=rwx file1\n",
    "ls -l"
   ]
  },
  {
   "cell_type": "markdown",
   "id": "48236695",
   "metadata": {},
   "source": [
    "Multiple changes can be performed using a comma to separate the different permission specifications.\n",
    "For example, we can assign read and execute permissions for *group* and remove all permissions for *other* like so:"
   ]
  },
  {
   "cell_type": "code",
   "execution_count": null,
   "id": "4660792d",
   "metadata": {},
   "outputs": [],
   "source": [
    "chmod g=rx,o-rwx file1\n",
    "ls -l"
   ]
  },
  {
   "cell_type": "code",
   "execution_count": null,
   "id": "bfd41ca2",
   "metadata": {},
   "outputs": [],
   "source": []
  }
 ],
 "metadata": {
  "kernelspec": {
   "display_name": "Bash",
   "language": "bash",
   "name": "bash"
  },
  "language_info": {
   "codemirror_mode": "shell",
   "file_extension": ".sh",
   "mimetype": "text/x-sh",
   "name": "bash"
  }
 },
 "nbformat": 4,
 "nbformat_minor": 5
}
