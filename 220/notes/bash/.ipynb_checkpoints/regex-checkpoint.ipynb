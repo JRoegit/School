{
 "cells": [
  {
   "cell_type": "markdown",
   "id": "86368a49",
   "metadata": {},
   "source": [
    "# Regular expressions\n",
    "\n",
    "<div class=\"alert alert-block alert-info\">\n",
    "    You can find all of the scripts in this notebook in the subdirectory containing this notebook:\n",
    "    <code>./scripts/regex</code>\n",
    "</div>\n",
    "\n",
    "> Some people, when confronted with a problem, think “I know,\n",
    "> I'll use regular expressions.”  Now they have two problems.\n",
    "> -Jamie Zawinski (see http://regex.info/blog/2006-09-15/247)\n",
    "\n",
    "A regular expression, or regex, is a sequence of characters that specifies a search pattern. Regular expressions\n",
    "are different from Bash's built-in pattern matching (but potentially confusingly use the same symbols for\n",
    "specifying patterns).\n",
    "\n",
    "The idea comes from theoretical computer science and formal language theory.\n",
    "A regular expression might be appropriate when you need to search for text that matches a pattern.\n",
    "Bash uses the POSIX extended regular expression syntax.\n",
    "\n",
    "This notebook does not cover all features of regular expressions (otherwise it would essentially be a book\n",
    "of its own). Interested readers may refer to the end of this notebook for additional resources."
   ]
  },
  {
   "cell_type": "markdown",
   "id": "dd12e8ee",
   "metadata": {},
   "source": [
    "### The `=~` operator\n",
    "\n",
    "The `=~` operator performs regular expression pattern matching inside of `[[ ]]`. The following:\n",
    "\n",
    "---\n",
    "```sh\n",
    "if [[ $str =~ $re ]]; then\n",
    "    echo \"$str matches $re\"\n",
    "else\n",
    "    echo \"$str does not match $re\"\n",
    "fi\n",
    "\n",
    "```\n",
    "---\n",
    "\n",
    "tests if any part of the string `$str` contains the pattern defined by the regular expression `$re`.\n",
    "\n",
    "<div class=\"alert alert-block alert-warning\">\n",
    "    Be careful when quoting the regular expression. Quoting the variable expansion forces the entire\n",
    "    pattern to be matched as a string instead of performing regular expression matching.<br /><br />\n",
    "    Quoting part of the regular expression forces the quoted part to be matched as a string.\n",
    "</div>\n",
    "\n",
    "\n",
    "The following script is useful for experimenting with regular expressions:\n",
    "\n",
    "---\n",
    "```sh\n",
    "#!/bin/bash\n",
    "\n",
    "# test_regex.sh\n",
    "\n",
    "if (( $# != 2 )); then\n",
    "    echo \"Usage: test_regex string regex\" >&2\n",
    "    exit 1\n",
    "fi\n",
    "str=$1\n",
    "re=$2\n",
    "if [[ $str =~ $re ]]; then\n",
    "    echo \"The string $str is matched by the regex $re\"\n",
    "else\n",
    "    echo \"The string $str is not matched by the regex $re\"\n",
    "fi\n",
    "\n",
    "```\n",
    "---"
   ]
  },
  {
   "cell_type": "markdown",
   "id": "62acc801",
   "metadata": {},
   "source": [
    "### POSIX extended regular expressions syntax\n",
    "\n",
    "A regular expression is simply a string where each character is either a regular character or a metacharacter\n",
    "having special meaning.\n",
    "\n",
    "Regular characters are matched literally. For example, the regular expression `a` defines the pattern `a`.\n",
    "`[[ $str =~ a ]]` is true if the string `str` contains at least one `a`:"
   ]
  },
  {
   "cell_type": "code",
   "execution_count": null,
   "id": "2d12de2c",
   "metadata": {},
   "outputs": [],
   "source": [
    "./scripts/regex/test_regex.sh hello a"
   ]
  },
  {
   "cell_type": "code",
   "execution_count": null,
   "id": "30dcb624",
   "metadata": {},
   "outputs": [],
   "source": [
    "./scripts/regex/test_regex.sh walrus a"
   ]
  },
  {
   "cell_type": "markdown",
   "id": "04911109",
   "metadata": {},
   "source": [
    "A string matches the regular expression `and` if the string contains the sequence of characters `and`:"
   ]
  },
  {
   "cell_type": "code",
   "execution_count": null,
   "id": "a5dd0d9d",
   "metadata": {},
   "outputs": [],
   "source": [
    "./scripts/regex/test_regex.sh hangry and"
   ]
  },
  {
   "cell_type": "code",
   "execution_count": null,
   "id": "6183a76d",
   "metadata": {},
   "outputs": [],
   "source": [
    "./scripts/regex/test_regex.sh sandman and"
   ]
  },
  {
   "cell_type": "markdown",
   "id": "a9ecc84b",
   "metadata": {},
   "source": [
    "Metacharacters are symbols that have special meaning in a regular expression. The following table summarizes\n",
    "the meaning of the metacharacters used in the POSIX extended regular expression syntax:\n",
    "\n",
    "| Metacharacter | Description |\n",
    "| :--- | :--- |\n",
    "| <code>^</code>     | An anchor. Matches the beginning of the line when used as the first character of an expression.|\n",
    "| <code>\\$</code>     | An anchor. Matches the end of the line when used as the last character of an expression. |\n",
    "| <code>.</code>      | Matches any single character. |\n",
    "| <code>[ ]</code>    | Bracket expression. Matches any single character that is inside the brackets. |\n",
    "| <code>[^ ]</code>   | Matches any single character that is not inside the brackets. |\n",
    "| <code>()</code>     | A subexpression. |\n",
    "| <code>*</code>      | Matches the preceding element zero or more times. |\n",
    "| <code>?</code>      | Matches the preceding element zero or one time. |\n",
    "| <code>+</code>      | Matches the preceding element one or more times. |\n",
    "| <code>{m,n}</code>  | Matches the preceding element at least m and not more than n times |\n",
    "| <code>\\|</code>      | The choice operator. Matches the expression before or after the operator. |\n",
    "\n",
    "The metacharacters shown above lose their meaning inside of square brackets; thus, metacharacters can be\n",
    "matched by placing them inside of square brackets.\n",
    "\n",
    "The following table shows basic examples of regular expressions and strings that match:\n",
    "\n",
    "| Regex | Matches |\n",
    "| :--- | :--- |\n",
    "| <code>hello</code> | any string containing the substring `hello` |\n",
    "| <code>^hello\\$</code> | `hello` |\n",
    "| <code>^.ello\\$</code> | `1ello`, `Aello`, `jello`, and many more |\n",
    "| <code>^h..lo\\$</code> | `h11lo`, `hAylo`, `h@Mlo`, and many more |\n",
    "| <code>^s[aei]t\\$</code> | `sat`, `set`, `sit` |\n",
    "| <code>^s[a-z]t\\$</code> | `sat`, `sbt`, `sct`, ..., `szt` |\n",
    "| <code>^s[-a-z]t\\$</code> | `s-t`, `sat`, `sbt`, ..., `szt` |\n",
    "| <code>^file[0-9]\\$</code> | `file0`, `file1`, ..., `file9` |\n",
    "| <code>^a[.]c$</code> | `a.c` |"
   ]
  },
  {
   "cell_type": "code",
   "execution_count": null,
   "id": "9ecbde39",
   "metadata": {},
   "outputs": [],
   "source": [
    "./scripts/regex/test_regex.sh \"Say hello\" hello"
   ]
  },
  {
   "cell_type": "markdown",
   "id": "e3e3cf9f",
   "metadata": {},
   "source": [
    "A single character (not metacharacters), a subexpression, or a bracket expression is called an *atom*. The\n",
    "quantifiers `*`, `?`, `+`, and `{m,n}` specify how many times an atom must match.\n",
    "\n",
    "The following table shows examples of using the quantifier metacharacters to control the number of\n",
    "characters to match:\n",
    "\n",
    "| Regex | Matches |\n",
    "| :--- | :--- |\n",
    "| <code>^.*\\$</code> | all strings including the empty string |\n",
    "| <code>^.+\\$</code> | all non-empty strings |\n",
    "| <code>^.?\\$</code> | the empty string and all strings of length one |\n",
    "| <code>[0-9]</code> | any string containing at least one digit |\n",
    "| <code>[0-9]+</code> | any string containing at least one digit |\n",
    "| <code>^[0-9]+\\$</code> | any unsigned integer (may overflow) |\n",
    "| <code>^-[0-9]+\\$</code> | any negative integer |\n",
    "| <code>^[-+]?[0-9]+\\$</code> | any signed or unsigned integer |\n",
    "| <code>^[-+]?[[:digit:]]+\\$</code> | any signed or unsigned integer |\n",
    "| <code>^xa{1}\\$</code> | `xa` |\n",
    "| <code>^xa{1,}\\$</code> | `x` followed by one or more `a`s |\n",
    "| <code>^xa{1,3}\\$</code> | `xa`, `xaa`, or `xaaa` |\n",
    "| <code>^(abc)+\\$</code> | `abc`, `abcabc`, `abcabcabc`, ... |"
   ]
  },
  {
   "cell_type": "code",
   "execution_count": null,
   "id": "ae41ce17",
   "metadata": {},
   "outputs": [],
   "source": [
    "./scripts/regex/test_regex.sh \"^.*$\" \"\""
   ]
  },
  {
   "cell_type": "markdown",
   "id": "73596682",
   "metadata": {},
   "source": [
    "Two regular expressions may be joined using the metacharacter `|`. The resulting regular expression\n",
    "matches any string that matches either of the joined expressions.\n",
    "\n",
    "\n",
    "| Regex | Regex before `\\|` | Regex after `\\|` | Matches |\n",
    "| :--- | :--- | :--- | :--- |\n",
    "| <code>a&vert;b</code> | <code>a</code> | <code>b</code> | any string containing an `a` or a `b` |\n",
    "| <code>^b&vert;cat\\$</code> | <code>^b</code> | <code>cat\\$</code> | any string starting with `b` or ending with `cat` |\n",
    "| <code>^b&vert;(^c)at\\$</code> | <code>^b</code> | <code>(^c)at\\$</code> | any string starting with `b` or the string `cat` |\n",
    "| <code>(^b&vert;^c)at\\$</code> | <code>^b</code> | <code>^c</code> | `bat` or `cat` |"
   ]
  },
  {
   "cell_type": "code",
   "execution_count": null,
   "id": "dc847d3b",
   "metadata": {},
   "outputs": [],
   "source": [
    "./scripts/regex/test_regex.sh java \"a|b\""
   ]
  },
  {
   "cell_type": "markdown",
   "id": "b99d32e5",
   "metadata": {},
   "source": [
    "What do the following regular expressions match?\n",
    "\n",
    "* <code>^(19|20)[0-9][0-9]\\$</code>\n",
    "* <code>^(0[1-9]|1[0-2])\\$</code>\n",
    "* <code>^(0[1-9]|[12][0-9]|3[01])\\$</code>"
   ]
  },
  {
   "cell_type": "markdown",
   "id": "e9e8ff8e",
   "metadata": {},
   "source": [
    "### The `grep` program\n",
    "\n",
    "`grep` (shorthand for \"global regular expression print\") is one of many programs that use regular expressions.\n",
    "`grep` searches a file/files or standard input for lines that match a regular expression.\n",
    "Use the `-E` option to use POSIX extended regexes otherwise\n",
    "`grep` uses POSIX basic regexes. The basic usage is:\n",
    "\n",
    "```sh\n",
    "grep -E [options] regex [file...]\n",
    "```\n",
    "\n",
    "If no files are given, then `grep` reads from standard input.\n",
    "\n",
    "Some examples of using the `grep` program are shown in the following cells."
   ]
  },
  {
   "cell_type": "markdown",
   "id": "b50aba05",
   "metadata": {},
   "source": [
    "#### List files in `/usr/bin` that contain the string `zip` in their name"
   ]
  },
  {
   "cell_type": "code",
   "execution_count": null,
   "id": "67fb6480",
   "metadata": {},
   "outputs": [],
   "source": [
    "echo \"files that contain zip\"\n",
    "ls /usr/bin | grep -E zip\n",
    "\n",
    "echo \"files that start with zip\"\n",
    "ls /usr/bin | grep -E ^zip\n",
    "\n",
    "echo \"files that end with zip\"\n",
    "ls /usr/bin | grep -E zip$\n"
   ]
  },
  {
   "cell_type": "markdown",
   "id": "864dd3d5",
   "metadata": {},
   "source": [
    "#### Print all lines of a Java source code file that start a `for` loop\n",
    "\n",
    "The `-n` option prints the line number of the matching line."
   ]
  },
  {
   "cell_type": "code",
   "execution_count": null,
   "id": "244946f6",
   "metadata": {},
   "outputs": [],
   "source": [
    "grep -En for ./scripts/regex/AllWordsLookup.java"
   ]
  },
  {
   "cell_type": "markdown",
   "id": "662812a2",
   "metadata": {},
   "source": [
    "Slightly better is to search for the string `for` followed by zero or more spaces followed by the opening\n",
    "`(`. The `(` is a metacharacter in a regex so it must be escaped or placed inside `[]`:"
   ]
  },
  {
   "cell_type": "code",
   "execution_count": null,
   "id": "d7a26e1a",
   "metadata": {},
   "outputs": [],
   "source": [
    "grep -En \"for[[:blank:]]*[(]\" ./scripts/regex/AllWordsLookup.java"
   ]
  },
  {
   "cell_type": "markdown",
   "id": "ea2da724",
   "metadata": {},
   "source": [
    "#### Print all lines of an HTML file that contain an anchor tag"
   ]
  },
  {
   "cell_type": "code",
   "execution_count": null,
   "id": "a1696c47",
   "metadata": {},
   "outputs": [],
   "source": [
    "grep -En \"<a \" mywebpage.html"
   ]
  },
  {
   "cell_type": "markdown",
   "id": "a7488697",
   "metadata": {},
   "source": [
    "#### Help solving a crossword puzzle clue\n",
    "\n",
    "If you install the `spell` program then there will be a dictionary file named `/usr/share/dict/words`. `grep`\n",
    "can be used to search the dictionary file for words that match a pattern."
   ]
  },
  {
   "cell_type": "code",
   "execution_count": null,
   "id": "9b61e2d8",
   "metadata": {},
   "outputs": [],
   "source": [
    "grep -Ei \"^.ak.s$\" /usr/share/dict/words"
   ]
  },
  {
   "cell_type": "markdown",
   "id": "8e251446",
   "metadata": {},
   "source": [
    "# More information\n",
    "\n",
    "> Regular expressions are like a particularly spicy hot sauce – to be used in moderation and with restraint only when appropriate. -Jeff Atwood (https://blog.codinghorror.com/regular-expressions-now-you-have-two-problems/)\n",
    "\n",
    "Regular expressions are a powerful tool but can be challenging to read and write.\n",
    "Readers seeking more information\n",
    "on regular expressions may find the following resources to be useful:\n",
    "\n",
    "* https://www.regular-expressions.info/\n",
    "* http://regex.info/book.html\n",
    "* https://www.rexegg.com/\n"
   ]
  },
  {
   "cell_type": "code",
   "execution_count": null,
   "id": "008ab1a5",
   "metadata": {},
   "outputs": [],
   "source": []
  }
 ],
 "metadata": {
  "kernelspec": {
   "display_name": "Bash",
   "language": "bash",
   "name": "bash"
  },
  "language_info": {
   "codemirror_mode": "shell",
   "file_extension": ".sh",
   "mimetype": "text/x-sh",
   "name": "bash"
  }
 },
 "nbformat": 4,
 "nbformat_minor": 5
}
