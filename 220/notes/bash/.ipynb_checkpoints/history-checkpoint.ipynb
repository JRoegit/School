{
 "cells": [
  {
   "cell_type": "markdown",
   "id": "7cdd359d",
   "metadata": {},
   "source": [
    "# A very brief history of UNIX and GNU/Linux\n",
    "\n",
    "An operating system (OS) is\n",
    "system software that manages computer hardware providing an interface to the hardware for other application\n",
    "software (https://en.wikipedia.org/wiki/Operating_system). Microsoft Windows and Apple's macOS are two popular\n",
    "operating systems used on personal computers.\n",
    "\n",
    "GNU/Linux, or more commonly just Linux, is a free, open-source, operating system widely used on servers,\n",
    "mainframes, supercomputers, and embedded devices. Linux is actually the *kernel* of the GNU/Linux operating system.\n",
    "An OS kernel provides an interface between hardware and software applications.\n",
    "\n",
    "Linux is modelled on the UNIX kernel. UNIX was developed in the late 1970s at Bell Labs. UNIX\n",
    "became one of the first portable OSes because it was mostly written in the C programming language\n",
    "instead of machine-specific assembly language. When a commercial version of UNIX was released in 1975,\n",
    "the cost of a license was $20,000US.\n",
    "\n",
    "In 1983, Richard Stallman started the GNU project with the goal of creating a free, UNIX-like OS. The GNU\n",
    "project developed the tools needed for kernel development but was still missing an actual kernel. The GNU\n",
    "kernel was called Hurd but development was slow (and still continues to this day).\n",
    "\n",
    "In 1991, Finnish graduate student Linus Torvalds announced on Usenet that he was developing a free operating system (as a hobby) for 80386 processors. Torvalds used GNU software for Linux kernel development and thus GNU/Linux was born.\n",
    "\n",
    "Linux is currently the dominant OS in cloud infrastructure and supercomputing. Google's mobile OS\n",
    "Android is derived from Linux and runs more than 70\\% of smartphones in the world.\n",
    "Linux is also common in embedded systems. Linux is uncommon on the desktop (unless you include Chrome OS).\n",
    "\n",
    "* [History of UNIX on Wikipedia](https://en.wikipedia.org/wiki/History_of_Unix)\n",
    "* [The Evolution of the Unix Time-sharing System](https://webarchive.loc.gov/all/20100506231949/http://cm.bell-labs.com/cm/cs/who/dmr/hist.html)\n",
    "* [Beginners Level Course: What is Linux?](https://www.linux.org/threads/what-is-linux.4106/)\n",
    "\n",
    "### POSIX\n",
    "\n",
    "Occasionally you will see the name POSIX (Portable Operating System Interface) mentioned.\n",
    "POSIX is a set of standards for maintaining combability between operating systems.\n",
    "POSIX certified OSes include vendor supported UNIXes and macOS.\n",
    "Many Linux distributions are mostly compliant with the standard."
   ]
  },
  {
   "cell_type": "markdown",
   "id": "27fd3a00",
   "metadata": {},
   "source": [
    "## Bash\n",
    "\n",
    "Most users interact with an OS via a graphical user interface (GUI). An alternative form of interaction is to\n",
    "use a command line interface (CLI) where commands are typed into a console. In the early days of computing,\n",
    "a CLI was the only way to interact with the computer, and a CLI is still the most common\n",
    "way of administering large networks of computers. \n",
    "\n",
    "Historically, the CLI took the form of a terminal which is an electronic or electromechanical device for data input/output. Before computer monitors became available, a terminal would consist of a keyboard and a printer\n",
    "such as the IBM 2741 terminal shown in the figure below:\n",
    "\n",
    "![](./images/terminal1.png)\n",
    "\n",
    "When electronic displays became available, the keyboard and display were integrated such as in the\n",
    "DEC VT100 shown in the figure below:\n",
    "\n",
    "![](./images/terminal2.png)\n",
    "\n",
    "Terminals on modern computers are usually software programs called emulators. An example is shown in the figure below:\n",
    "\n",
    "![](./images/terminal3.png)\n",
    "\n",
    "Terminal emulators run a software program called a shell. The shell is a program that interprets text that\n",
    "it receives from the terminal to determine meaning. There are many different shells (https://en.wikipedia.org/wiki/Comparison_of_command_shells).\n",
    "\n",
    "The shell used in this course is the Bash shell which is the default shell in many Linux distributions.\n",
    "Bash is shorthand for \"Bourne Again SHell\". Bash replaces the older UNIX Bourne shell."
   ]
  },
  {
   "cell_type": "code",
   "execution_count": null,
   "id": "6c9fcd60",
   "metadata": {},
   "outputs": [],
   "source": []
  }
 ],
 "metadata": {
  "kernelspec": {
   "display_name": "Bash",
   "language": "bash",
   "name": "bash"
  },
  "language_info": {
   "codemirror_mode": "shell",
   "file_extension": ".sh",
   "mimetype": "text/x-sh",
   "name": "bash"
  }
 },
 "nbformat": 4,
 "nbformat_minor": 5
}
