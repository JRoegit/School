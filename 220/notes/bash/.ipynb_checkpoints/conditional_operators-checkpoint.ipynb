{
 "cells": [
  {
   "cell_type": "markdown",
   "id": "bb483916",
   "metadata": {},
   "source": [
    "# Conditional operators\n",
    "\n",
    "<div class=\"alert alert-block alert-info\">\n",
    "    You can find all of the scripts in this notebook in the subdirectory containing this notebook:\n",
    "    <code>./scripts/conditional_operators</code>\n",
    "</div>\n",
    "\n",
    "Conditions can be grouped, negated, or combined using the following operators (from greatest\n",
    "to least precedence):\n",
    "\n",
    "`( expr )`\n",
    "\n",
    "* returns the value of `expr`\n",
    "    \n",
    "`! expr`\n",
    "\n",
    "* true if `expr` is false, false if `expr` is true\n",
    "\n",
    "`expr1 && expr2`\n",
    "\n",
    "* true if both `expr1` and `expr2` are true, false otherwise\n",
    "* `expr2` is not evaluated if `expr1` is false\n",
    "   \n",
    "`expr1 || expr2`\n",
    "\n",
    "* true if either `expr1` or `expr2` is true, false otherwise\n",
    "* `expr2` is not evaluated if `expr` is true"
   ]
  },
  {
   "cell_type": "markdown",
   "id": "5b525307",
   "metadata": {},
   "source": [
    "#### Example: Does a file not exist?"
   ]
  },
  {
   "cell_type": "code",
   "execution_count": null,
   "id": "ea8ccf72",
   "metadata": {},
   "outputs": [],
   "source": [
    "file=./scripts/conditional_operators/newfile\n",
    "\n",
    "if [[ ! -e $file ]]; then\n",
    "    echo \"Creating $file ...\"\n",
    "    touch \"$file\"\n",
    "else\n",
    "    echo \"$file already exists\"\n",
    "fi"
   ]
  },
  {
   "cell_type": "markdown",
   "id": "c22cb51a",
   "metadata": {},
   "source": [
    "#### Example: Is a file a regular file and readable by the current user?"
   ]
  },
  {
   "cell_type": "code",
   "execution_count": null,
   "id": "d3c6b098",
   "metadata": {},
   "outputs": [],
   "source": [
    "# remove read access from the file not_readable\n",
    "chmod a-r scripts/conditional_operators/not_readable\n",
    "\n",
    "file=./scripts/conditional_operators/readable\n",
    "# file=./scripts/conditional_operators/not_readable\n",
    "\n",
    "if [[ -f $file && -r $file ]]; then\n",
    "    echo \"$file is a file a regular file and readable by $USER\"\n",
    "else\n",
    "    echo \"$file is a not a regular file and/or not readable by $USER\"\n",
    "fi"
   ]
  },
  {
   "cell_type": "markdown",
   "id": "693d2419",
   "metadata": {},
   "source": [
    "#### Example: Is a year a leap year?\n",
    "\n",
    "A year is a leap year if it is divisible by 400, or if it is divisible by 4 and not divisible by 100."
   ]
  },
  {
   "cell_type": "code",
   "execution_count": null,
   "id": "123840c2",
   "metadata": {},
   "outputs": [],
   "source": [
    "yr=2000\n",
    "if (( yr % 400 == 0 || (yr % 4 == 0 && yr % 100 != 0) )); then\n",
    "    echo \"$yr is a leap year\"\n",
    "else \n",
    "    echo \"$yr is not a leap year\"\n",
    "fi"
   ]
  },
  {
   "cell_type": "code",
   "execution_count": null,
   "id": "e64d902f",
   "metadata": {},
   "outputs": [],
   "source": []
  }
 ],
 "metadata": {
  "kernelspec": {
   "display_name": "Bash",
   "language": "bash",
   "name": "bash"
  },
  "language_info": {
   "codemirror_mode": "shell",
   "file_extension": ".sh",
   "mimetype": "text/x-sh",
   "name": "bash"
  }
 },
 "nbformat": 4,
 "nbformat_minor": 5
}
