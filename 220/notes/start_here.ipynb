{
 "cells": [
  {
   "cell_type": "markdown",
   "id": "e73971ad",
   "metadata": {},
   "source": [
    "# Introduction\n",
    "\n",
    "These notebooks are intended to serve as the course notes for the course\n",
    "*CISC220: System Level Programming* in the School of Computing at Queen's University.\n",
    "\n",
    "The notebooks are intended to be an accurate, but incomplete, resource for learning about\n",
    "Bash and C programming. Authoritative references for Bash and C can be found at:\n",
    "\n",
    "* GNU Bash Manual: https://www.gnu.org/software/bash/manual/\n",
    "* C reference at cppreference.com https://en.cppreference.com/w/c\n",
    "\n",
    "Recommended textbooks available from Queen's University Library can be accessed at:\n",
    "\n",
    "* The Linux Command Line, 2nd Edition: https://ocul-qu.primo.exlibrisgroup.com/permalink/01OCUL_QU/r9dor2/alma9952310562805158\n",
    "* Effective C: https://ocul-qu.primo.exlibrisgroup.com/permalink/01OCUL_QU/r9dor2/alma9952411491605158\n",
    "* Modern C: https://ocul-qu.primo.exlibrisgroup.com/permalink/01OCUL_QU/r9dor2/alma9952389914705158"
   ]
  },
  {
   "cell_type": "markdown",
   "id": "1802e206",
   "metadata": {},
   "source": [
    "# Table of Contents\n",
    "\n",
    "#### Unix and Linux\n",
    "* [A very brief history of UNIX and Linux](bash/history.ipynb)\n",
    "* [Rules of the UNIX philosophy](bash/rules_of_the_unix_philosophy.ipynb)\n",
    "\n",
    "#### Bash\n",
    "* [Introduction to the command line](bash/cli_intro.ipynb)\n",
    "* [The Linux filesystem](bash/filesystem.ipynb)\n",
    "* [Commands](bash/commands.ipynb)\n",
    "* [Filename expansion](bash/filename_expansion.ipynb)\n",
    "* [Quoting](bash/quoting.ipynb)\n",
    "* [Creating, moving, removing, and copying files](./bash/files.ipynb)\n",
    "* [Permissions](bash/permissions.ipynb)\n",
    "* [Streams, redirections, pipelines, and tees](./bash/streams.ipynb)\n",
    "* [Expansions](bash/expansions.ipynb)\n",
    "* [Introduction to Bash scripting](bash/introduction_to_bash_scripting.ipynb)\n",
    "* [Variables](bash/variables.ipynb)\n",
    "* [Strings](bash/strings.ipynb)\n",
    "* [The `tr` command](bash/tr.ipynb)\n",
    "* [Regular expressions](bash/regex.ipynb)\n",
    "* [Arithmetic](bash/arithmetic.ipynb)\n",
    "* [Arrays](bash/arrays.ipynb)\n",
    "* [Conditional operators](bash/conditional_operators.ipynb)\n",
    "* [Conditional statements](bash/conditional_statements.ipynb)\n",
    "* [Loops](bash/loops.ipynb)\n",
    "* [Functions](bash/functions.ipynb)\n",
    "\n",
    "#### C (currently incomplete)\n",
    "* [A simple C program](c/a_simple_c_program.ipynb)\n",
    "* [Compiling](c/compiling.ipynb)\n",
    "* [Types](c/types.ipynb)\n",
    "* [Scope and lifetime](c/scope.ipynb)\n",
    "* [Declarations](c/declarations.ipynb)\n",
    "* [Statements](c/statements.ipynb)\n",
    "* [Integers](c/integers.ipynb)\n",
    "* [Bitwise operations](c/bitwise_ops.ipynb)\n",
    "* [Floating-point types](c/floats.ipynb)\n",
    "* [Pointers](c/pointers.ipynb)\n",
    "* [Structs](c/struct.ipynb)\n",
    "* [Arrays](c/arrays.ipynb)\n",
    "* [Strings](c/strings.ipynb)\n",
    "* [Dynamic memory allocation and deallocation](c/allocating_and_deallocating_memory.ipynb)\n",
    "* [A string data type implementation](c/string_implementation.ipynb)\n",
    "* [A stack data type implementation](c/linked_stack.ipynb)\n",
    "* [A generic stack data type implementation](c/generic_linked_stack.ipynb)\n",
    "* [Input/output](c/IO.ipynb)"
   ]
  },
  {
   "cell_type": "code",
   "execution_count": null,
   "id": "4ce09490",
   "metadata": {},
   "outputs": [],
   "source": []
  }
 ],
 "metadata": {
  "kernelspec": {
   "display_name": "Python 3 (ipykernel)",
   "language": "python",
   "name": "python3"
  },
  "language_info": {
   "codemirror_mode": {
    "name": "ipython",
    "version": 3
   },
   "file_extension": ".py",
   "mimetype": "text/x-python",
   "name": "python",
   "nbconvert_exporter": "python",
   "pygments_lexer": "ipython3",
   "version": "3.10.12"
  }
 },
 "nbformat": 4,
 "nbformat_minor": 5
}
